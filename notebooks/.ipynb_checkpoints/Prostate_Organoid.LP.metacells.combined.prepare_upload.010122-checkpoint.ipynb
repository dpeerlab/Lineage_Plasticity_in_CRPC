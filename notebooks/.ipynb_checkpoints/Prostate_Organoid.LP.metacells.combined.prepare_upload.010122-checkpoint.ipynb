{
 "cells": [
  {
   "cell_type": "code",
   "execution_count": 3,
   "metadata": {
    "ExecuteTime": {
     "end_time": "2022-05-05T20:04:39.598079Z",
     "start_time": "2022-05-05T20:04:38.155884Z"
    }
   },
   "outputs": [],
   "source": [
    "import numpy as np\n",
    "import pandas as pd\n",
    "import scanpy as sc\n",
    "import matplotlib"
   ]
  },
  {
   "cell_type": "code",
   "execution_count": 4,
   "metadata": {
    "ExecuteTime": {
     "end_time": "2022-05-05T20:04:39.604939Z",
     "start_time": "2022-05-05T20:04:39.601832Z"
    }
   },
   "outputs": [],
   "source": [
    "import os\n",
    "import pandas as pd\n",
    "import re\n",
    "import numpy as np\n",
    "import glob\n",
    "from pathlib import Path\n",
    "from scipy import sparse\n",
    "from copy import deepcopy\n",
    "import pickle\n"
   ]
  },
  {
   "cell_type": "markdown",
   "metadata": {},
   "source": [
    "<h3> Load data </h3>"
   ]
  },
  {
   "cell_type": "code",
   "execution_count": 3,
   "metadata": {
    "ExecuteTime": {
     "end_time": "2022-04-28T05:23:34.688966Z",
     "start_time": "2022-04-28T05:23:34.679960Z"
    }
   },
   "outputs": [],
   "source": [
    "wdir = '/home/chanj3/data/SCPC_transformation.metacells.resubmission.010122/out.cell_line.individual.pooled.010122/'"
   ]
  },
  {
   "cell_type": "code",
   "execution_count": 4,
   "metadata": {
    "ExecuteTime": {
     "end_time": "2022-04-28T05:23:37.085611Z",
     "start_time": "2022-04-28T05:23:36.956563Z"
    }
   },
   "outputs": [
    {
     "name": "stdout",
     "output_type": "stream",
     "text": [
      "WARNING: Your filename has more than two extensions: ['.metacells', '.individual', '.pooled', '.h5ad'].\n",
      "Only considering the two last: ['.pooled', '.h5ad'].\n",
      "WARNING: Your filename has more than two extensions: ['.metacells', '.individual', '.pooled', '.h5ad'].\n",
      "Only considering the two last: ['.pooled', '.h5ad'].\n"
     ]
    }
   ],
   "source": [
    "adata = sc.read(wdir + 'adata.metacells.individual.pooled.h5ad')\n"
   ]
  },
  {
   "cell_type": "code",
   "execution_count": 5,
   "metadata": {
    "ExecuteTime": {
     "end_time": "2022-04-28T05:23:39.348816Z",
     "start_time": "2022-04-28T05:23:39.335609Z"
    }
   },
   "outputs": [
    {
     "data": {
      "text/plain": [
       "AnnData object with n_obs × n_vars = 884 × 18352\n",
       "    obs: 'batch', 'sizes', 'centers', 'SBM_cluster', 'phenograph', 'MUT_WT', 'time', 'treatment', 'Basal Correlation', 'Basal vs Luminal by Correlation', 'batch_plus_wt_cells', 'KEGG_JAK_STAT_SIGNALING_PATHWAY', 'ABBUD_LIF_SIGNALING_1_UP', 'REACTOME_INTERFERON_ALPHA_BETA_SIGNALING', 'FGFR_signature.Acevedo_etal', 'HALLMARK_EPITHELIAL_MESENCHYMAL_TRANSITION'\n",
       "    var: 'n_cells', 'highly_variable', 'means', 'dispersions', 'dispersions_norm'\n",
       "    uns: 'batch_colors', 'batch_plus_wt_cells_colors', 'diffmap_evals', 'draw_graph', 'hvg', 'neighbors', 'paga', 'pca', 'phenograph_sizes', 'umap'\n",
       "    obsm: 'X_diffmap', 'X_draw_graph_fa', 'X_pca', 'X_umap', 'raw_counts'\n",
       "    varm: 'PCs'\n",
       "    obsp: 'connectivities', 'distances'"
      ]
     },
     "execution_count": 5,
     "metadata": {},
     "output_type": "execute_result"
    }
   ],
   "source": [
    "adata"
   ]
  },
  {
   "cell_type": "markdown",
   "metadata": {},
   "source": [
    "<h3> Reload data </h3>"
   ]
  },
  {
   "cell_type": "code",
   "execution_count": 1,
   "metadata": {
    "ExecuteTime": {
     "end_time": "2022-05-05T20:04:23.699985Z",
     "start_time": "2022-05-05T20:04:23.690133Z"
    }
   },
   "outputs": [],
   "source": [
    "out_dir = '/home/chanj3/data/Prostate.LP.publication.010122/out.metacells.combined.010122/'"
   ]
  },
  {
   "cell_type": "code",
   "execution_count": 5,
   "metadata": {
    "ExecuteTime": {
     "end_time": "2022-05-05T20:04:40.824274Z",
     "start_time": "2022-05-05T20:04:40.481139Z"
    }
   },
   "outputs": [],
   "source": [
    "adata = sc.read_h5ad(out_dir + 'adata.metacells.combined.010122.h5ad')"
   ]
  },
  {
   "cell_type": "code",
   "execution_count": 6,
   "metadata": {
    "ExecuteTime": {
     "end_time": "2022-05-05T20:04:41.646253Z",
     "start_time": "2022-05-05T20:04:41.632212Z"
    }
   },
   "outputs": [
    {
     "data": {
      "text/plain": [
       "AnnData object with n_obs × n_vars = 884 × 18352\n",
       "    obs: 'batch', 'metacell_sizes', 'metacell_centers', 'SBM_cluster', 'phenograph', 'MUT_WT', 'time', 'treatment', 'Basal Correlation', 'Basal vs Luminal by Correlation', 'batch_plus_wt_cells'\n",
       "    var: 'n_cells', 'highly_variable', 'means', 'dispersions', 'dispersions_norm'\n",
       "    uns: 'batch_colors', 'batch_plus_wt_cells_colors', 'diffmap_evals', 'draw_graph', 'hvg', 'neighbors', 'paga', 'pca', 'phenograph_sizes', 'umap'\n",
       "    obsm: 'X_diffmap', 'X_draw_graph_fa', 'X_pca', 'X_umap', 'raw_counts'\n",
       "    varm: 'PCs'\n",
       "    obsp: 'connectivities', 'distances'"
      ]
     },
     "execution_count": 6,
     "metadata": {},
     "output_type": "execute_result"
    }
   ],
   "source": [
    "adata"
   ]
  },
  {
   "cell_type": "markdown",
   "metadata": {},
   "source": [
    "<h3> Update </h3>"
   ]
  },
  {
   "cell_type": "code",
   "execution_count": 16,
   "metadata": {
    "ExecuteTime": {
     "end_time": "2022-04-28T05:30:39.078300Z",
     "start_time": "2022-04-28T05:30:39.062145Z"
    }
   },
   "outputs": [],
   "source": [
    "adata.obs.loc[:,'treatment'] = adata.obs.treatment.str.replace('DHT','Untreated')"
   ]
  },
  {
   "cell_type": "code",
   "execution_count": 24,
   "metadata": {
    "ExecuteTime": {
     "end_time": "2022-04-28T05:32:58.346715Z",
     "start_time": "2022-04-28T05:32:58.323259Z"
    }
   },
   "outputs": [],
   "source": [
    "tmp = adata.obs.batch.str.replace('_','Wk').str.replace('DHT','')\n",
    "ind = tmp.str.contains('ENZ')\n",
    "tmp.loc[ind] = tmp.loc[ind].str.replace('ENZ','') + '+ENZ'\n",
    "adata.obs.loc[:,'batch'] = tmp"
   ]
  },
  {
   "cell_type": "code",
   "execution_count": 31,
   "metadata": {
    "ExecuteTime": {
     "end_time": "2022-04-28T05:35:31.042025Z",
     "start_time": "2022-04-28T05:35:31.022338Z"
    }
   },
   "outputs": [],
   "source": [
    "tmp = adata.obs.batch_plus_wt_cells.str.replace('DHT ','Wk')\n",
    "ind = tmp.str.contains('ENZ')\n",
    "tmp.loc[ind] = tmp.loc[ind].str.replace('ENZ ','Wk') + '+ENZ'\n",
    "adata.obs.loc[:,'batch_plus_wt_cells'] =  tmp"
   ]
  },
  {
   "cell_type": "code",
   "execution_count": 39,
   "metadata": {
    "ExecuteTime": {
     "end_time": "2022-04-28T05:39:05.350854Z",
     "start_time": "2022-04-28T05:39:05.337509Z"
    }
   },
   "outputs": [],
   "source": [
    "adata.obs = adata.obs.loc[:,~adata.obs.columns.isin(['KEGG_JAK_STAT_SIGNALING_PATHWAY', 'ABBUD_LIF_SIGNALING_1_UP', 'REACTOME_INTERFERON_ALPHA_BETA_SIGNALING', 'FGFR_signature.Acevedo_etal', 'HALLMARK_EPITHELIAL_MESENCHYMAL_TRANSITION'])]"
   ]
  },
  {
   "cell_type": "code",
   "execution_count": 45,
   "metadata": {
    "ExecuteTime": {
     "end_time": "2022-04-28T06:03:16.173062Z",
     "start_time": "2022-04-28T06:03:16.163508Z"
    }
   },
   "outputs": [],
   "source": [
    "adata.obs.columns = adata.obs.columns.str.replace('sizes','metacell_sizes').str.replace('centers','metacell_centers')"
   ]
  },
  {
   "cell_type": "code",
   "execution_count": 8,
   "metadata": {
    "ExecuteTime": {
     "end_time": "2022-05-05T20:05:25.257756Z",
     "start_time": "2022-05-05T20:05:25.250781Z"
    }
   },
   "outputs": [],
   "source": [
    "from scipy.sparse import csr_matrix"
   ]
  },
  {
   "cell_type": "code",
   "execution_count": 9,
   "metadata": {
    "ExecuteTime": {
     "end_time": "2022-05-05T20:05:25.883945Z",
     "start_time": "2022-05-05T20:05:25.466859Z"
    }
   },
   "outputs": [],
   "source": [
    "adata_tmp =sc.AnnData(csr_matrix(adata.obsm['raw_counts']))"
   ]
  },
  {
   "cell_type": "code",
   "execution_count": 12,
   "metadata": {
    "ExecuteTime": {
     "end_time": "2022-05-05T20:05:52.562727Z",
     "start_time": "2022-05-05T20:05:52.542055Z"
    }
   },
   "outputs": [
    {
     "data": {
      "text/plain": [
       "(884, 18398)"
      ]
     },
     "execution_count": 12,
     "metadata": {},
     "output_type": "execute_result"
    }
   ],
   "source": [
    "adata.obsm['raw_counts'].shape"
   ]
  },
  {
   "cell_type": "code",
   "execution_count": 10,
   "metadata": {
    "ExecuteTime": {
     "end_time": "2022-05-05T20:05:32.660961Z",
     "start_time": "2022-05-05T20:05:32.615415Z"
    }
   },
   "outputs": [
    {
     "ename": "ValueError",
     "evalue": "Length of passed value for var_names is 18352, but this AnnData has shape: (884, 18398)",
     "output_type": "error",
     "traceback": [
      "\u001b[0;31m---------------------------------------------------------------------------\u001b[0m",
      "\u001b[0;31mValueError\u001b[0m                                Traceback (most recent call last)",
      "\u001b[0;32m<ipython-input-10-27756352bf32>\u001b[0m in \u001b[0;36m<module>\u001b[0;34m\u001b[0m\n\u001b[1;32m      1\u001b[0m \u001b[0madata_tmp\u001b[0m\u001b[0;34m.\u001b[0m\u001b[0mobs_names\u001b[0m \u001b[0;34m=\u001b[0m \u001b[0madata\u001b[0m\u001b[0;34m.\u001b[0m\u001b[0mobs\u001b[0m\u001b[0;34m.\u001b[0m\u001b[0mindex\u001b[0m\u001b[0;34m\u001b[0m\u001b[0m\n\u001b[0;32m----> 2\u001b[0;31m \u001b[0madata_tmp\u001b[0m\u001b[0;34m.\u001b[0m\u001b[0mvar_names\u001b[0m \u001b[0;34m=\u001b[0m \u001b[0madata\u001b[0m\u001b[0;34m.\u001b[0m\u001b[0mvar\u001b[0m\u001b[0;34m.\u001b[0m\u001b[0mindex\u001b[0m\u001b[0;34m\u001b[0m\u001b[0m\n\u001b[0m",
      "\u001b[0;32m~/anaconda3/envs/py3.7/lib/python3.7/site-packages/anndata/_core/anndata.py\u001b[0m in \u001b[0;36mvar_names\u001b[0;34m(self, names)\u001b[0m\n\u001b[1;32m    868\u001b[0m     \u001b[0;34m@\u001b[0m\u001b[0mvar_names\u001b[0m\u001b[0;34m.\u001b[0m\u001b[0msetter\u001b[0m\u001b[0;34m\u001b[0m\u001b[0m\n\u001b[1;32m    869\u001b[0m     \u001b[0;32mdef\u001b[0m \u001b[0mvar_names\u001b[0m\u001b[0;34m(\u001b[0m\u001b[0mself\u001b[0m\u001b[0;34m,\u001b[0m \u001b[0mnames\u001b[0m\u001b[0;34m:\u001b[0m \u001b[0mSequence\u001b[0m\u001b[0;34m[\u001b[0m\u001b[0mstr\u001b[0m\u001b[0;34m]\u001b[0m\u001b[0;34m)\u001b[0m\u001b[0;34m:\u001b[0m\u001b[0;34m\u001b[0m\u001b[0m\n\u001b[0;32m--> 870\u001b[0;31m         \u001b[0mnames\u001b[0m \u001b[0;34m=\u001b[0m \u001b[0mself\u001b[0m\u001b[0;34m.\u001b[0m\u001b[0m_prep_dim_index\u001b[0m\u001b[0;34m(\u001b[0m\u001b[0mnames\u001b[0m\u001b[0;34m,\u001b[0m \u001b[0;34m\"var\"\u001b[0m\u001b[0;34m)\u001b[0m\u001b[0;34m\u001b[0m\u001b[0m\n\u001b[0m\u001b[1;32m    871\u001b[0m         \u001b[0mself\u001b[0m\u001b[0;34m.\u001b[0m\u001b[0m_set_dim_index\u001b[0m\u001b[0;34m(\u001b[0m\u001b[0mnames\u001b[0m\u001b[0;34m,\u001b[0m \u001b[0;34m\"var\"\u001b[0m\u001b[0;34m)\u001b[0m\u001b[0;34m\u001b[0m\u001b[0m\n\u001b[1;32m    872\u001b[0m \u001b[0;34m\u001b[0m\u001b[0m\n",
      "\u001b[0;32m~/anaconda3/envs/py3.7/lib/python3.7/site-packages/anndata/_core/anndata.py\u001b[0m in \u001b[0;36m_prep_dim_index\u001b[0;34m(self, value, attr)\u001b[0m\n\u001b[1;32m    794\u001b[0m         \u001b[0;32mif\u001b[0m \u001b[0mself\u001b[0m\u001b[0;34m.\u001b[0m\u001b[0mshape\u001b[0m\u001b[0;34m[\u001b[0m\u001b[0mattr\u001b[0m \u001b[0;34m==\u001b[0m \u001b[0;34m\"var\"\u001b[0m\u001b[0;34m]\u001b[0m \u001b[0;34m!=\u001b[0m \u001b[0mlen\u001b[0m\u001b[0;34m(\u001b[0m\u001b[0mvalue\u001b[0m\u001b[0;34m)\u001b[0m\u001b[0;34m:\u001b[0m\u001b[0;34m\u001b[0m\u001b[0m\n\u001b[1;32m    795\u001b[0m             raise ValueError(\n\u001b[0;32m--> 796\u001b[0;31m                 \u001b[0;34mf\"Length of passed value for {attr}_names is {len(value)}, but this AnnData has shape: {self.shape}\"\u001b[0m\u001b[0;34m\u001b[0m\u001b[0m\n\u001b[0m\u001b[1;32m    797\u001b[0m             )\n\u001b[1;32m    798\u001b[0m         if isinstance(value, pd.Index) and not isinstance(\n",
      "\u001b[0;31mValueError\u001b[0m: Length of passed value for var_names is 18352, but this AnnData has shape: (884, 18398)"
     ]
    }
   ],
   "source": [
    "adata_tmp.obs_names = adata.obs.index\n",
    "adata_tmp.var_names = adata.var.index"
   ]
  },
  {
   "cell_type": "code",
   "execution_count": 23,
   "metadata": {
    "ExecuteTime": {
     "end_time": "2022-05-05T20:00:02.110314Z",
     "start_time": "2022-05-05T20:00:01.911622Z"
    }
   },
   "outputs": [],
   "source": [
    "adata.raw = adata_tmp"
   ]
  },
  {
   "cell_type": "code",
   "execution_count": 28,
   "metadata": {
    "ExecuteTime": {
     "end_time": "2022-05-05T20:00:26.581465Z",
     "start_time": "2022-05-05T20:00:26.566544Z"
    }
   },
   "outputs": [],
   "source": [
    "del adata.obsm['raw_counts']"
   ]
  },
  {
   "cell_type": "code",
   "execution_count": null,
   "metadata": {},
   "outputs": [],
   "source": []
  },
  {
   "cell_type": "markdown",
   "metadata": {},
   "source": [
    "### Save Data"
   ]
  },
  {
   "cell_type": "code",
   "execution_count": 40,
   "metadata": {
    "ExecuteTime": {
     "end_time": "2022-04-28T05:39:09.090528Z",
     "start_time": "2022-04-28T05:39:09.081016Z"
    }
   },
   "outputs": [],
   "source": [
    "out_dir = '/home/chanj3/data/Prostate.LP.publication.010122/out.metacells.combined.010122/'"
   ]
  },
  {
   "cell_type": "code",
   "execution_count": 47,
   "metadata": {
    "ExecuteTime": {
     "end_time": "2022-04-28T06:03:26.389298Z",
     "start_time": "2022-04-28T06:03:26.233126Z"
    }
   },
   "outputs": [],
   "source": [
    "adata.write_h5ad(out_dir + 'adata.metacells.combined.010122.h5ad')"
   ]
  },
  {
   "cell_type": "code",
   "execution_count": 48,
   "metadata": {
    "ExecuteTime": {
     "end_time": "2022-04-28T06:03:26.553979Z",
     "start_time": "2022-04-28T06:03:26.536174Z"
    }
   },
   "outputs": [],
   "source": [
    "adata.obs.to_csv(out_dir + 'obs.metacells.combined.010122.txt', sep='\\t')"
   ]
  },
  {
   "cell_type": "code",
   "execution_count": 49,
   "metadata": {
    "ExecuteTime": {
     "end_time": "2022-04-28T06:23:18.371444Z",
     "start_time": "2022-04-28T06:23:18.306032Z"
    }
   },
   "outputs": [],
   "source": [
    "for i in ['X_pca', 'X_umap','X_draw_graph_fa']:\n",
    "    root = re.sub('X_','',i)\n",
    "    df = pd.DataFrame(adata.obsm[i],index=adata.obs.index)\n",
    "    df.index.name = 'Cell'\n",
    "    if i=='X_umap':\n",
    "        df.columns = ['x','y']\n",
    "    df.to_csv(out_dir + root + '.metacells.combined.010122.txt', sep='\\t')"
   ]
  },
  {
   "cell_type": "code",
   "execution_count": null,
   "metadata": {},
   "outputs": [],
   "source": []
  }
 ],
 "metadata": {
  "kernelspec": {
   "display_name": "Python 3",
   "language": "python",
   "name": "python3"
  },
  "language_info": {
   "codemirror_mode": {
    "name": "ipython",
    "version": 3
   },
   "file_extension": ".py",
   "mimetype": "text/x-python",
   "name": "python",
   "nbconvert_exporter": "python",
   "pygments_lexer": "ipython3",
   "version": "3.7.0"
  },
  "toc": {
   "base_numbering": 1,
   "nav_menu": {},
   "number_sections": true,
   "sideBar": true,
   "skip_h1_title": false,
   "title_cell": "Table of Contents",
   "title_sidebar": "Contents",
   "toc_cell": false,
   "toc_position": {},
   "toc_section_display": true,
   "toc_window_display": true
  }
 },
 "nbformat": 4,
 "nbformat_minor": 2
}
