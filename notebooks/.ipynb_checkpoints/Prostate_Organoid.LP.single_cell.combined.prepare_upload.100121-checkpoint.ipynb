{
 "cells": [
  {
   "cell_type": "code",
   "execution_count": 8,
   "metadata": {
    "ExecuteTime": {
     "end_time": "2021-10-11T18:46:27.821216Z",
     "start_time": "2021-10-11T18:46:27.811616Z"
    }
   },
   "outputs": [],
   "source": [
    "import numpy as np\n",
    "import pandas as pd\n",
    "import scanpy as sc\n",
    "import matplotlib\n",
    "import matplotlib.pyplot as plt\n",
    "import seaborn as sns"
   ]
  },
  {
   "cell_type": "code",
   "execution_count": 9,
   "metadata": {
    "ExecuteTime": {
     "end_time": "2021-10-11T18:46:28.186757Z",
     "start_time": "2021-10-11T18:46:28.177017Z"
    }
   },
   "outputs": [],
   "source": [
    "import os\n",
    "import pandas as pd\n",
    "import re\n",
    "import numpy as np\n",
    "import glob\n",
    "from pathlib import Path\n",
    "from scipy import sparse\n",
    "from copy import deepcopy\n",
    "import pickle\n"
   ]
  },
  {
   "cell_type": "markdown",
   "metadata": {},
   "source": [
    "<h3> Load data </h3>"
   ]
  },
  {
   "cell_type": "code",
   "execution_count": 3,
   "metadata": {
    "ExecuteTime": {
     "end_time": "2021-10-11T18:44:07.721017Z",
     "start_time": "2021-10-11T18:44:07.716384Z"
    }
   },
   "outputs": [],
   "source": [
    "wdir = '/home/chanj3/data/SCPC_transformation.021120/out.combined.021120/'"
   ]
  },
  {
   "cell_type": "code",
   "execution_count": 4,
   "metadata": {
    "ExecuteTime": {
     "end_time": "2021-10-11T18:44:07.732483Z",
     "start_time": "2021-10-11T18:44:07.726815Z"
    }
   },
   "outputs": [],
   "source": [
    "fig_dir = wdir + 'figures/'"
   ]
  },
  {
   "cell_type": "code",
   "execution_count": 5,
   "metadata": {
    "ExecuteTime": {
     "end_time": "2021-10-11T18:44:10.218113Z",
     "start_time": "2021-10-11T18:44:07.737887Z"
    }
   },
   "outputs": [
    {
     "name": "stdout",
     "output_type": "stream",
     "text": [
      "WARNING: Your filename has more than two extensions: ['.combined', '.hpf_pca', '.021120', '.h5ad'].\n",
      "Only considering the two last: ['.021120', '.h5ad'].\n",
      "WARNING: Your filename has more than two extensions: ['.combined', '.hpf_pca', '.021120', '.h5ad'].\n",
      "Only considering the two last: ['.021120', '.h5ad'].\n"
     ]
    }
   ],
   "source": [
    "adata = sc.read(wdir + 'adata.combined.hpf_pca.021120.h5ad')\n"
   ]
  },
  {
   "cell_type": "code",
   "execution_count": 9,
   "metadata": {
    "ExecuteTime": {
     "end_time": "2021-10-06T01:31:22.038202Z",
     "start_time": "2021-10-06T01:31:22.021569Z"
    }
   },
   "outputs": [
    {
     "data": {
      "text/plain": [
       "index\n",
       "CRE_2_DHT_205449168083868   -0.016658\n",
       "CRE_2_DHT_125239700180211    0.005946\n",
       "CRE_4_ENZ_226822402201827   -0.000136\n",
       "CRE_4_ENZ_125247350565788   -0.031118\n",
       "CRE_8_ENZ_160928745056118    0.002895\n",
       "                               ...   \n",
       "CRE_0_DHT_196527701289782    0.013660\n",
       "CRE_4_DHT_227975332784491    0.014120\n",
       "CRE_0_DHT_130693146798428    0.004266\n",
       "CRE_4_DHT_166400431446243    0.029247\n",
       "CRE_4_DHT_235550862359459    0.030697\n",
       "Length: 15677, dtype: float64"
      ]
     },
     "execution_count": 9,
     "metadata": {},
     "output_type": "execute_result"
    }
   ],
   "source": [
    "adata.obs.loc[:,['CD49f','CD24']].sum(axis=1)"
   ]
  },
  {
   "cell_type": "markdown",
   "metadata": {},
   "source": [
    "<h3> Reload data </h3>"
   ]
  },
  {
   "cell_type": "code",
   "execution_count": 5,
   "metadata": {
    "ExecuteTime": {
     "end_time": "2021-10-05T21:10:00.898635Z",
     "start_time": "2021-10-05T21:10:00.893281Z"
    }
   },
   "outputs": [],
   "source": [
    "out_dir = '/home/chanj3/data/Prostate_Organoid.LP.publication.100121/out.single_cell.combined.100121/'\n",
    "os.makedirs(out_dir, exist_ok=True)"
   ]
  },
  {
   "cell_type": "code",
   "execution_count": 6,
   "metadata": {
    "ExecuteTime": {
     "end_time": "2021-10-05T21:10:07.929377Z",
     "start_time": "2021-10-05T21:10:01.347224Z"
    }
   },
   "outputs": [],
   "source": [
    "adata = sc.read_h5ad(out_dir + 'adata.single_cell.combined.100121.h5ad')"
   ]
  },
  {
   "cell_type": "code",
   "execution_count": 94,
   "metadata": {
    "ExecuteTime": {
     "end_time": "2021-10-05T03:09:44.077415Z",
     "start_time": "2021-10-05T03:09:44.072559Z"
    }
   },
   "outputs": [
    {
     "data": {
      "text/plain": [
       "AnnData object with n_obs × n_vars = 15677 × 14617\n",
       "    obs: 'n_genes_by_counts', 'log1p_n_genes_by_counts', 'total_counts', 'log1p_total_counts', 'pct_counts_in_top_50_genes', 'pct_counts_in_top_100_genes', 'pct_counts_in_top_200_genes', 'pct_counts_in_top_500_genes', 'original_total_counts', 'log10_original_total_counts', 'mito_frac', 'RBP_frac', 'batch', 'time', 'treatment', 'Basal vs Luminal by Correlation', 'MUT_WT', 'zscore_Luminal_Org1', 'zscore_Basal_Org1', 'zscore_Luminal_Org2', 'zscore_Basal_Org3', 'zscore_Basal_Org2', 'pval_mc_Basal_Org1', 'pval_mc_Basal_Org2', 'pval_mc_Basal_Org3', 'pval_mc_Luminal_Org1', 'pval_mc_Luminal_Org2', 'Basal Correlation', 'batch_plus_wt_cells'\n",
       "    var: 'n_cells_by_counts', 'mean_counts', 'log1p_mean_counts', 'pct_dropout_by_counts', 'total_counts', 'log1p_total_counts', 'n_cells'\n",
       "    uns: 'diffmap_evals_pca', 'neighbors', 'num_components', 'paga', 'rank_genes_groups', 'var_explained'\n",
       "    obsm: 'X_diffmap', 'X_draw_graph_fa', 'X_pca', 'X_umap'\n",
       "    layers: 'uncorrected_normalized'\n",
       "    obsp: 'connectivities', 'distances'"
      ]
     },
     "execution_count": 94,
     "metadata": {},
     "output_type": "execute_result"
    }
   ],
   "source": [
    "adata"
   ]
  },
  {
   "cell_type": "markdown",
   "metadata": {},
   "source": [
    "<h3> Check sctransform </h3>"
   ]
  },
  {
   "cell_type": "code",
   "execution_count": 19,
   "metadata": {
    "ExecuteTime": {
     "end_time": "2021-10-11T18:52:16.315681Z",
     "start_time": "2021-10-11T18:52:16.087509Z"
    }
   },
   "outputs": [],
   "source": [
    "from scipy.io import mmread"
   ]
  },
  {
   "cell_type": "code",
   "execution_count": 26,
   "metadata": {
    "ExecuteTime": {
     "end_time": "2021-10-11T22:07:51.772187Z",
     "start_time": "2021-10-11T22:07:51.763860Z"
    }
   },
   "outputs": [],
   "source": [
    "out_dir = '/home/chanj3/data/SCPC_transformation.021120/out.combined.021120/'"
   ]
  },
  {
   "cell_type": "code",
   "execution_count": 27,
   "metadata": {
    "ExecuteTime": {
     "end_time": "2021-10-11T22:09:33.681981Z",
     "start_time": "2021-10-11T22:07:55.198531Z"
    }
   },
   "outputs": [],
   "source": [
    "sct_file = out_dir + 'sctransform.residuals.csv'\n",
    "residuals = pd.read_csv(sct_file, sep = ',')\n",
    "residuals.index = residuals.index.astype(str)"
   ]
  },
  {
   "cell_type": "code",
   "execution_count": 28,
   "metadata": {
    "ExecuteTime": {
     "end_time": "2021-10-11T22:10:43.114391Z",
     "start_time": "2021-10-11T22:09:33.686316Z"
    }
   },
   "outputs": [],
   "source": [
    "sct_file = out_dir + 'sctransform.umi_corrected.mtx'\n",
    "umi_corrected = mmread(sct_file)\n",
    "umi_corrected = pd.DataFrame(umi_corrected.tocsr().toarray(), index=residuals.index, columns = residuals.columns)\n"
   ]
  },
  {
   "cell_type": "code",
   "execution_count": 29,
   "metadata": {
    "ExecuteTime": {
     "end_time": "2021-10-11T22:10:43.125293Z",
     "start_time": "2021-10-11T22:10:43.119007Z"
    }
   },
   "outputs": [
    {
     "data": {
      "text/plain": [
       "Index(['CRE_2_DHT_205449168083868', 'CRE_2_DHT_125239700180211',\n",
       "       'CRE_4_ENZ_226822402201827', 'CRE_4_ENZ_125247350565788',\n",
       "       'CRE_8_ENZ_160928745056118', 'CRE_8_ENZ_232327461394205',\n",
       "       'CRE_8_ENZ_191080757901166', 'CRE_8_ENZ_126149071170484',\n",
       "       'CRE_8_DHT_130057625364268', 'CRE_0_DHT_131293456031078',\n",
       "       ...\n",
       "       'CRE_2_DHT_192718870571932', 'CRE_0_DHT_162090700193115',\n",
       "       'CRE_8_DHT_170276742192540', 'CRE_8_ENZ_232449749202662',\n",
       "       'CRE_8_DHT_236768054897964', 'CRE_0_DHT_196527701289782',\n",
       "       'CRE_4_DHT_227975332784491', 'CRE_0_DHT_130693146798428',\n",
       "       'CRE_4_DHT_166400431446243', 'CRE_4_DHT_235550862359459'],\n",
       "      dtype='object', length=15677)"
      ]
     },
     "execution_count": 29,
     "metadata": {},
     "output_type": "execute_result"
    }
   ],
   "source": [
    "residuals.index"
   ]
  },
  {
   "cell_type": "code",
   "execution_count": null,
   "metadata": {},
   "outputs": [],
   "source": []
  },
  {
   "cell_type": "code",
   "execution_count": null,
   "metadata": {},
   "outputs": [],
   "source": []
  },
  {
   "cell_type": "code",
   "execution_count": null,
   "metadata": {},
   "outputs": [],
   "source": [
    "\n",
    "intersect = metacell_adata.var_names.isin(residuals.columns)\n",
    "metacell_adata = metacell_adata[:,intersect]\n",
    "\n",
    "residuals = residuals.loc[metacell_adata.obs_names, metacell_adata.var_names]\n",
    "\n",
    "umi_corrected = umi_corrected.loc[metacell_adata.obs_names, metacell_adata.var_names].values\n",
    "ind = np.where(metacell_adata.X == 0)\n",
    "umi_corrected[ind] = 0"
   ]
  },
  {
   "cell_type": "code",
   "execution_count": null,
   "metadata": {},
   "outputs": [],
   "source": []
  },
  {
   "cell_type": "code",
   "execution_count": null,
   "metadata": {},
   "outputs": [],
   "source": []
  },
  {
   "cell_type": "code",
   "execution_count": 13,
   "metadata": {
    "ExecuteTime": {
     "end_time": "2021-10-11T18:47:34.055377Z",
     "start_time": "2021-10-11T18:47:33.613544Z"
    }
   },
   "outputs": [
    {
     "data": {
      "text/plain": [
       "<AxesSubplot:ylabel='Density'>"
      ]
     },
     "execution_count": 13,
     "metadata": {},
     "output_type": "execute_result"
    },
    {
     "data": {
      "image/png": "[encoded data removed]",
      "text/plain": [
       "<Figure size 432x288 with 1 Axes>"
      ]
     },
     "metadata": {
      "needs_background": "light"
     },
     "output_type": "display_data"
    }
   ],
   "source": [
    "sns.kdeplot(adata.X.sum(axis=1))\n"
   ]
  },
  {
   "cell_type": "code",
   "execution_count": 14,
   "metadata": {
    "ExecuteTime": {
     "end_time": "2021-10-11T18:47:37.218118Z",
     "start_time": "2021-10-11T18:47:36.760033Z"
    }
   },
   "outputs": [
    {
     "data": {
      "text/plain": [
       "<AxesSubplot:ylabel='Density'>"
      ]
     },
     "execution_count": 14,
     "metadata": {},
     "output_type": "execute_result"
    },
    {
     "data": {
      "image/png": "[encoded data removed]",
      "text/plain": [
       "<Figure size 432x288 with 1 Axes>"
      ]
     },
     "metadata": {
      "needs_background": "light"
     },
     "output_type": "display_data"
    }
   ],
   "source": [
    "sns.kdeplot(adata.layers['uncorrected_normalized'].sum(axis=1))"
   ]
  },
  {
   "cell_type": "code",
   "execution_count": null,
   "metadata": {},
   "outputs": [],
   "source": []
  },
  {
   "cell_type": "code",
   "execution_count": 6,
   "metadata": {
    "ExecuteTime": {
     "end_time": "2021-10-11T18:44:39.489901Z",
     "start_time": "2021-10-11T18:44:39.480294Z"
    }
   },
   "outputs": [],
   "source": [
    "genes = ['FGFR1','FGFR2','FGFR3','VIM','FN1','ISG15','JAK1','JAK2','JAK3','STAT1','STAT2']"
   ]
  },
  {
   "cell_type": "code",
   "execution_count": 10,
   "metadata": {
    "ExecuteTime": {
     "end_time": "2021-10-11T18:46:31.845509Z",
     "start_time": "2021-10-11T18:46:30.918871Z"
    }
   },
   "outputs": [
    {
     "data": {
      "image/png": "[encoded data removed]",
      "text/plain": [
       "<Figure size 432x288 with 1 Axes>"
      ]
     },
     "metadata": {
      "needs_background": "light"
     },
     "output_type": "display_data"
    }
   ],
   "source": [
    "for g in genes:\n",
    "    x = adata.X[:,adata.var_names==g]\n",
    "    y = adata.layers['uncorrected_normalized'][:,adata.var_names==g]\n",
    "    plt.scatter(x, y)"
   ]
  },
  {
   "cell_type": "code",
   "execution_count": null,
   "metadata": {},
   "outputs": [],
   "source": []
  },
  {
   "cell_type": "markdown",
   "metadata": {},
   "source": [
    "<h3> Check PCA </h3>"
   ]
  },
  {
   "cell_type": "code",
   "execution_count": 7,
   "metadata": {
    "ExecuteTime": {
     "end_time": "2021-10-05T21:10:20.295994Z",
     "start_time": "2021-10-05T21:10:19.510277Z"
    }
   },
   "outputs": [],
   "source": [
    "from sklearn.linear_model import LinearRegression\n",
    "from sklearn.decomposition import PCA"
   ]
  },
  {
   "cell_type": "code",
   "execution_count": 8,
   "metadata": {
    "ExecuteTime": {
     "end_time": "2021-10-05T21:10:20.304726Z",
     "start_time": "2021-10-05T21:10:20.297458Z"
    }
   },
   "outputs": [],
   "source": [
    "comb_dir = '/data/peer/chanj3/SCPC_transformation.021120/out.%s.021120/' % ('combined')"
   ]
  },
  {
   "cell_type": "code",
   "execution_count": 9,
   "metadata": {
    "ExecuteTime": {
     "end_time": "2021-10-05T21:13:59.708541Z",
     "start_time": "2021-10-05T21:10:20.306339Z"
    }
   },
   "outputs": [],
   "source": [
    "sct_file = comb_dir + 'sctransform.combined.021120.csv'\n",
    "norm_unfiltered_df = pd.read_csv(sct_file, sep = ',').loc[adata.obs_names, adata.var_names]"
   ]
  },
  {
   "cell_type": "code",
   "execution_count": 10,
   "metadata": {
    "ExecuteTime": {
     "end_time": "2021-10-05T21:14:00.618578Z",
     "start_time": "2021-10-05T21:13:59.714142Z"
    }
   },
   "outputs": [],
   "source": [
    "######################\n",
    "\n",
    "bad_genes = norm_unfiltered_df.columns.str.contains(\n",
    "    \"^MT-|^MTMR|^MTND|NEAT1|TMSB4X|TMSB10|^RPS|^RPL|^MRP|^FAU$|UBA52|MALAT1\")\n",
    "norm_df = norm_unfiltered_df.loc[:,~bad_genes]\n",
    "#norm_df = np.log2(norm_df + 0.1)"
   ]
  },
  {
   "cell_type": "code",
   "execution_count": 11,
   "metadata": {
    "ExecuteTime": {
     "end_time": "2021-10-05T21:16:06.710166Z",
     "start_time": "2021-10-05T21:14:00.637524Z"
    }
   },
   "outputs": [
    {
     "data": {
      "text/plain": [
       "PCA(n_components=500, svd_solver='randomized')"
      ]
     },
     "execution_count": 11,
     "metadata": {},
     "output_type": "execute_result"
    }
   ],
   "source": [
    "n_components=500\n",
    "pca = PCA(n_components=n_components, svd_solver='randomized')\n",
    "pca.fit(norm_df)\n"
   ]
  },
  {
   "cell_type": "code",
   "execution_count": 12,
   "metadata": {
    "ExecuteTime": {
     "end_time": "2021-10-05T21:16:06.912912Z",
     "start_time": "2021-10-05T21:16:06.715010Z"
    }
   },
   "outputs": [],
   "source": [
    "from kneed import KneeLocator\n",
    "kneedle = KneeLocator(list(range(len(pca.explained_variance_ratio_))), np.cumsum(pca.explained_variance_ratio_),\n",
    "                      S=3.0, curve='concave', direction='increasing')\n",
    "knee_point = round(kneedle.knee, 3)\n",
    "\n"
   ]
  },
  {
   "cell_type": "code",
   "execution_count": 13,
   "metadata": {
    "ExecuteTime": {
     "end_time": "2021-10-05T21:16:06.921443Z",
     "start_time": "2021-10-05T21:16:06.917892Z"
    }
   },
   "outputs": [],
   "source": [
    "#By Kneepoint\n",
    "num_components = 0\n",
    "num_components = max(num_components,knee_point)"
   ]
  },
  {
   "cell_type": "code",
   "execution_count": 14,
   "metadata": {
    "ExecuteTime": {
     "end_time": "2021-10-05T21:16:06.935276Z",
     "start_time": "2021-10-05T21:16:06.926110Z"
    }
   },
   "outputs": [
    {
     "name": "stdout",
     "output_type": "stream",
     "text": [
      "Variance explained = 0.378618\n"
     ]
    }
   ],
   "source": [
    "var_explained = np.cumsum(pca.explained_variance_ratio_)[num_components]\n",
    "print('Variance explained = %f' % var_explained)\n"
   ]
  },
  {
   "cell_type": "code",
   "execution_count": 15,
   "metadata": {
    "ExecuteTime": {
     "end_time": "2021-10-05T21:16:06.946738Z",
     "start_time": "2021-10-05T21:16:06.940217Z"
    }
   },
   "outputs": [
    {
     "data": {
      "text/plain": [
       "0.4351044523572555"
      ]
     },
     "execution_count": 15,
     "metadata": {},
     "output_type": "execute_result"
    }
   ],
   "source": [
    "np.cumsum(pca.explained_variance_ratio_)[200]"
   ]
  },
  {
   "cell_type": "code",
   "execution_count": 16,
   "metadata": {
    "ExecuteTime": {
     "end_time": "2021-10-05T21:16:06.956815Z",
     "start_time": "2021-10-05T21:16:06.952202Z"
    }
   },
   "outputs": [],
   "source": [
    "sc.set_figure_params(fontsize=15)"
   ]
  },
  {
   "cell_type": "code",
   "execution_count": 17,
   "metadata": {
    "ExecuteTime": {
     "end_time": "2021-10-05T21:16:06.968101Z",
     "start_time": "2021-10-05T21:16:06.961617Z"
    }
   },
   "outputs": [],
   "source": [
    "sns.set_style('ticks')"
   ]
  },
  {
   "cell_type": "code",
   "execution_count": 18,
   "metadata": {
    "ExecuteTime": {
     "end_time": "2021-10-05T21:16:06.978172Z",
     "start_time": "2021-10-05T21:16:06.973041Z"
    }
   },
   "outputs": [],
   "source": [
    "import matplotlib.pyplot as plt"
   ]
  },
  {
   "cell_type": "code",
   "execution_count": 19,
   "metadata": {
    "ExecuteTime": {
     "end_time": "2021-10-05T21:16:06.990574Z",
     "start_time": "2021-10-05T21:16:06.983094Z"
    }
   },
   "outputs": [
    {
     "data": {
      "text/plain": [
       "80"
      ]
     },
     "execution_count": 19,
     "metadata": {},
     "output_type": "execute_result"
    }
   ],
   "source": [
    "knee_point"
   ]
  },
  {
   "cell_type": "code",
   "execution_count": 22,
   "metadata": {
    "ExecuteTime": {
     "end_time": "2021-10-05T21:19:22.611496Z",
     "start_time": "2021-10-05T21:19:22.313110Z"
    }
   },
   "outputs": [
    {
     "data": {
      "image/png": "[encoded data removed]",
      "text/plain": [
       "<Figure size 400x400 with 1 Axes>"
      ]
     },
     "metadata": {
      "image/png": {
       "height": 387,
       "width": 400
      }
     },
     "output_type": "display_data"
    }
   ],
   "source": [
    "plt.figure(figsize=(5,5))\n",
    "plt.plot(np.cumsum(pca.explained_variance_ratio_))\n",
    "plt.xlabel('PCs')\n",
    "plt.ylabel('% variance explained')\n",
    "plt.axvline(knee_point, linestyle='--', color='k')\n",
    "plt.xlim([-10,310])\n",
    "plt.ylim(pca.explained_variance_ratio_[0],np.cumsum(pca.explained_variance_ratio_)[310])\n",
    "plt.title('Single cells from all samples', fontsize=18)\n",
    "\n",
    "plt.savefig(fig_dir + 'PCA.var_explained.combined.single_cell.100121.pdf')"
   ]
  },
  {
   "cell_type": "markdown",
   "metadata": {},
   "source": [
    "<h3> Cleaning </h3>"
   ]
  },
  {
   "cell_type": "code",
   "execution_count": 17,
   "metadata": {
    "ExecuteTime": {
     "end_time": "2021-10-01T20:04:41.336958Z",
     "start_time": "2021-10-01T20:04:41.325209Z"
    }
   },
   "outputs": [],
   "source": [
    "keys=list(adata.obsm.keys())\n",
    "for i in keys:\n",
    "    if 'hpf' in i or 'maxclust' in i:\n",
    "        del adata.obsm[i]"
   ]
  },
  {
   "cell_type": "code",
   "execution_count": 99,
   "metadata": {
    "ExecuteTime": {
     "end_time": "2021-10-01T21:00:11.036308Z",
     "start_time": "2021-10-01T21:00:11.017033Z"
    }
   },
   "outputs": [],
   "source": [
    "adata.obs = adata.obs.loc[:,~adata.obs.columns.str.contains('gsea_|HPF|Fate|CNV|cnv|DPT|H_knn_pca|CD24|NoBasal|pval_all|^ct_|clusters_|metacells|enz_dht_4_8')]"
   ]
  },
  {
   "cell_type": "code",
   "execution_count": 24,
   "metadata": {
    "ExecuteTime": {
     "end_time": "2021-10-01T20:09:00.341041Z",
     "start_time": "2021-10-01T20:09:00.322915Z"
    }
   },
   "outputs": [],
   "source": [
    "adata.obs = adata.obs.drop(['sample'], axis=1)"
   ]
  },
  {
   "cell_type": "code",
   "execution_count": 33,
   "metadata": {
    "ExecuteTime": {
     "end_time": "2021-10-01T20:16:34.214709Z",
     "start_time": "2021-10-01T20:16:34.184529Z"
    }
   },
   "outputs": [],
   "source": [
    "adata.obs.loc[:,'batch'] = adata.obs.treatment.astype(str) + ' ' + adata.obs.tp.astype(str)"
   ]
  },
  {
   "cell_type": "code",
   "execution_count": 40,
   "metadata": {
    "ExecuteTime": {
     "end_time": "2021-10-01T20:18:16.797687Z",
     "start_time": "2021-10-01T20:18:16.682943Z"
    }
   },
   "outputs": [],
   "source": [
    "wt_dir = '/home/chanj3/data/SCPC_transformation.metacells.120120/out.cell_line.individual.120120/CRE_0_DHT/'\n",
    "adata_wt = sc.read_h5ad(wt_dir + 'adata.metacells.CRE_0_DHT.170.h5ad')"
   ]
  },
  {
   "cell_type": "code",
   "execution_count": 41,
   "metadata": {
    "ExecuteTime": {
     "end_time": "2021-10-01T20:18:16.996141Z",
     "start_time": "2021-10-01T20:18:16.981899Z"
    }
   },
   "outputs": [],
   "source": [
    "adata_wt.obs.loc[:,'Basal-Luminal'] = adata_wt.obs.loc[:,'Basal-Luminal'].str.replace('CD24','Luminal').str.replace('CD49f','Basal')"
   ]
  },
  {
   "cell_type": "code",
   "execution_count": 42,
   "metadata": {
    "ExecuteTime": {
     "end_time": "2021-10-01T20:18:17.731321Z",
     "start_time": "2021-10-01T20:18:17.708964Z"
    }
   },
   "outputs": [],
   "source": [
    "pheno2bl = adata_wt.obs.loc[:,'Basal-Luminal'].groupby(adata_wt.obs.phenograph).agg(lambda x: x.value_counts().index[0])"
   ]
  },
  {
   "cell_type": "code",
   "execution_count": 43,
   "metadata": {
    "ExecuteTime": {
     "end_time": "2021-10-01T20:18:18.245056Z",
     "start_time": "2021-10-01T20:18:18.231030Z"
    }
   },
   "outputs": [],
   "source": [
    "tmp = pheno2bl.loc[adata_wt.obs.phenograph]\n",
    "tmp.index= adata_wt.obs.index"
   ]
  },
  {
   "cell_type": "code",
   "execution_count": 44,
   "metadata": {
    "ExecuteTime": {
     "end_time": "2021-10-01T20:18:21.150197Z",
     "start_time": "2021-10-01T20:18:21.137960Z"
    }
   },
   "outputs": [],
   "source": [
    "adata_wt.obs.loc[:,'cell_type'] = tmp + '_Org_' + adata_wt.obs.phenograph.astype(str)"
   ]
  },
  {
   "cell_type": "code",
   "execution_count": 45,
   "metadata": {
    "ExecuteTime": {
     "end_time": "2021-10-01T20:18:21.403070Z",
     "start_time": "2021-10-01T20:18:21.389137Z"
    }
   },
   "outputs": [],
   "source": [
    "adata_wt.obs.loc[:,'cell_type'] = adata_wt.obs.loc[:,'cell_type'].str.replace('Luminal_Org_0','Luminal_Org_1').str.replace('Basal_Org_4','Basal_Org_2')"
   ]
  },
  {
   "cell_type": "code",
   "execution_count": 36,
   "metadata": {
    "ExecuteTime": {
     "end_time": "2021-10-01T20:17:35.549469Z",
     "start_time": "2021-10-01T20:17:35.444136Z"
    }
   },
   "outputs": [],
   "source": [
    "mc_results = pickle.load(open('/home/chanj3/data/SCPC_transformation.metacells.120120/out.cell_line.individual.120120/CRE_0_DHT/metacell_runs/metacell.170.results.p','rb'))"
   ]
  },
  {
   "cell_type": "code",
   "execution_count": 34,
   "metadata": {
    "ExecuteTime": {
     "end_time": "2021-10-01T20:17:23.754624Z",
     "start_time": "2021-10-01T20:17:22.784942Z"
    }
   },
   "outputs": [],
   "source": [
    "wt_dir = '/home/chanj3/data/SCPC_transformation.021120/out.individual.021120/CRE_0_DHT/'\n",
    "adata_wtc = sc.read_h5ad(wt_dir + 'adata.CRE_0_DHT.hpf_pca.021120.h5ad')"
   ]
  },
  {
   "cell_type": "code",
   "execution_count": 37,
   "metadata": {
    "ExecuteTime": {
     "end_time": "2021-10-01T20:17:36.855177Z",
     "start_time": "2021-10-01T20:17:36.839250Z"
    }
   },
   "outputs": [],
   "source": [
    "adata_wtc.obs.loc[:,'metacell'] = mc_results['assignments'].argmax(axis=1)"
   ]
  },
  {
   "cell_type": "code",
   "execution_count": 47,
   "metadata": {
    "ExecuteTime": {
     "end_time": "2021-10-01T20:18:24.438588Z",
     "start_time": "2021-10-01T20:18:24.420799Z"
    }
   },
   "outputs": [],
   "source": [
    "adata_wtc.obs.loc[:,'ct_new'] = adata_wt.obs.cell_type.loc[adata_wtc.obs.metacell.astype(str)].values"
   ]
  },
  {
   "cell_type": "code",
   "execution_count": 48,
   "metadata": {
    "ExecuteTime": {
     "end_time": "2021-10-01T20:18:26.483955Z",
     "start_time": "2021-10-01T20:18:26.479453Z"
    }
   },
   "outputs": [],
   "source": [
    "cell_types = sorted(list(set(adata_wt.obs.cell_type)))"
   ]
  },
  {
   "cell_type": "code",
   "execution_count": 49,
   "metadata": {
    "ExecuteTime": {
     "end_time": "2021-10-01T20:18:26.688627Z",
     "start_time": "2021-10-01T20:18:26.684767Z"
    }
   },
   "outputs": [],
   "source": [
    "tp0_clusters = adata_wtc.obs.ct_new"
   ]
  },
  {
   "cell_type": "code",
   "execution_count": 55,
   "metadata": {
    "ExecuteTime": {
     "end_time": "2021-10-01T20:19:40.957638Z",
     "start_time": "2021-10-01T20:19:40.943261Z"
    }
   },
   "outputs": [],
   "source": [
    "adata.obs.batch = adata.obs.batch.astype('category')"
   ]
  },
  {
   "cell_type": "code",
   "execution_count": 56,
   "metadata": {
    "ExecuteTime": {
     "end_time": "2021-10-01T20:19:48.940742Z",
     "start_time": "2021-10-01T20:19:48.934655Z"
    }
   },
   "outputs": [],
   "source": [
    "batch_order = adata.obs.batch.cat.categories"
   ]
  },
  {
   "cell_type": "code",
   "execution_count": 61,
   "metadata": {
    "ExecuteTime": {
     "end_time": "2021-10-01T20:20:50.713437Z",
     "start_time": "2021-10-01T20:20:50.679494Z"
    }
   },
   "outputs": [],
   "source": [
    "adata.obs.loc[:,'batch_wtc'] = adata.obs.batch.astype(str)\n",
    "adata.obs.loc[tp0_clusters.index,'batch_wtc'] = 'DHT 0: ' + tp0_clusters\n",
    "wtc_order = sorted(list(set('DHT 0: ' + tp0_clusters)))\n",
    "adata.obs.batch_wtc = adata.obs.batch_wtc.astype('category')\n"
   ]
  },
  {
   "cell_type": "code",
   "execution_count": 73,
   "metadata": {
    "ExecuteTime": {
     "end_time": "2021-10-01T20:27:41.719160Z",
     "start_time": "2021-10-01T20:27:41.693736Z"
    }
   },
   "outputs": [],
   "source": [
    "adata.obs = adata.obs.rename({'batch_wtc':'batch_plus_wt_cells',\n",
    "                 'Basal-Luminal': 'Basal vs Luminal by Correlation',\n",
    "                 'CD49f': 'Basal Correlation'}, axis=1)"
   ]
  },
  {
   "cell_type": "code",
   "execution_count": 96,
   "metadata": {
    "ExecuteTime": {
     "end_time": "2021-10-01T20:59:42.575795Z",
     "start_time": "2021-10-01T20:59:42.567758Z"
    }
   },
   "outputs": [],
   "source": [
    "adata.obs.columns = adata.obs.columns.str.replace('^tp$','time')"
   ]
  },
  {
   "cell_type": "code",
   "execution_count": 102,
   "metadata": {
    "ExecuteTime": {
     "end_time": "2021-10-01T21:00:48.648745Z",
     "start_time": "2021-10-01T21:00:48.640727Z"
    }
   },
   "outputs": [],
   "source": [
    "adata.obs.columns = adata.obs.columns.str.replace('mut_wt','MUT_WT')"
   ]
  },
  {
   "cell_type": "code",
   "execution_count": 103,
   "metadata": {
    "ExecuteTime": {
     "end_time": "2021-10-01T21:00:49.395379Z",
     "start_time": "2021-10-01T21:00:49.386092Z"
    },
    "scrolled": true
   },
   "outputs": [
    {
     "data": {
      "text/plain": [
       "Index(['n_genes_by_counts', 'log1p_n_genes_by_counts', 'total_counts',\n",
       "       'log1p_total_counts', 'pct_counts_in_top_50_genes',\n",
       "       'pct_counts_in_top_100_genes', 'pct_counts_in_top_200_genes',\n",
       "       'pct_counts_in_top_500_genes', 'original_total_counts',\n",
       "       'log10_original_total_counts', 'mito_frac', 'RBP_frac', 'batch', 'time',\n",
       "       'treatment', 'Basal vs Luminal by Correlation', 'MUT_WT',\n",
       "       'zscore_Luminal_Org_1', 'zscore_Basal_Org_1', 'zscore_Luminal_Org_2',\n",
       "       'zscore_Basal_Org_3', 'zscore_Basal_Org_2', 'pval_mc_Basal_Org_1',\n",
       "       'pval_mc_Basal_Org_2', 'pval_mc_Basal_Org_3', 'pval_mc_Luminal_Org_1',\n",
       "       'pval_mc_Luminal_Org_2', 'Basal Correlation', 'batch_plus_wt_cells'],\n",
       "      dtype='object')"
      ]
     },
     "execution_count": 103,
     "metadata": {},
     "output_type": "execute_result"
    }
   ],
   "source": [
    "adata.obs.columns"
   ]
  },
  {
   "cell_type": "code",
   "execution_count": 113,
   "metadata": {
    "ExecuteTime": {
     "end_time": "2021-10-01T21:04:26.906600Z",
     "start_time": "2021-10-01T21:04:26.863829Z"
    }
   },
   "outputs": [],
   "source": [
    "keys=list(adata.uns.keys())\n",
    "for i in keys:\n",
    "    if 'clusterings' in i or 'metacell' in i or 'rand_' in i or 'hpf' in i or 'rank_genes_groups_' in i:\n",
    "        del adata.uns[i]"
   ]
  },
  {
   "cell_type": "code",
   "execution_count": 132,
   "metadata": {
    "ExecuteTime": {
     "end_time": "2021-10-01T21:49:06.724230Z",
     "start_time": "2021-10-01T21:49:06.714744Z"
    }
   },
   "outputs": [
    {
     "data": {
      "text/plain": [
       "AnnData object with n_obs × n_vars = 15677 × 14617\n",
       "    obs: 'n_genes_by_counts', 'log1p_n_genes_by_counts', 'total_counts', 'log1p_total_counts', 'pct_counts_in_top_50_genes', 'pct_counts_in_top_100_genes', 'pct_counts_in_top_200_genes', 'pct_counts_in_top_500_genes', 'sample', 'original_total_counts', 'log10_original_total_counts', 'mito_frac', 'RBP_frac', 'batch', 'tp', 'treatment', 'clusters_phenoLV_pca', 'clusters_phenoLD_pca', 'clusters_fine_pca', 'H_knn_pca', 'clusters_fine_hpf_kp', 'clusters_fine_hpf_maxclust', 'Basal-Luminal', 'ct_basal', 'ct_cell_cycle', 'ct_luminal1', 'ct_luminal2', 'ct_luminal3', 'ct_seminal vesicle', 'clusters_phenoLV_tuned', 'clusters_phenoLD_tuned', 'mut_wt', 'ct_consensus', 'ct_consensus_mut_wt', 'ct_coarse_mut_wt', 'enz_dht_4_8', 'ct_consensus_enz_dht', 'ct_coarse_enz_dht', 'Number of CNV', 'CNV Percent of Genome', 'gsea_LUMINAL2_MUT_WT_E2F_TARGETS', 'gsea_LUMINAL2_MUT_WT_MYC_TARGETS', 'gsea_LUMINAL2_MUT_WT_P53_PROTEOSOME', 'gsea_LUMINAL2_MUT_WT_P53_SIGNALING', 'gsea_LUMINAL2_MUT_WT_STEMNESS', 'pval_all_Basal_Org1', 'pval_all_Basal_Org2', 'pval_all_Basal_Org3', 'pval_all_Basal_Org4', 'pval_all_Basal_Org5', 'pval_all_Luminal_Org1', 'pval_all_Luminal_Org2', 'pval_NoBasal1_Basal_Org2', 'pval_NoBasal1_Basal_Org3', 'pval_NoBasal1_Basal_Org4', 'pval_NoBasal1_Basal_Org5', 'pval_NoBasal1_Luminal_Org1', 'pval_NoBasal1_Luminal_Org2', 'gsea_MUT_WT_ANDROGEN_PATH', 'gsea_MUT_WT_CGAS_STING', 'gsea_MUT_WT_EMT', 'gsea_MUT_WT_IFN_RELATED', 'gsea_MUT_WT_JAK_STAT', 'gsea_MUT_WT_JUN_FOS', 'gsea_MUT_WT_NEPC', 'gsea_MUT_WT_TNFa_NFKB', 'zscore_Luminal_Org_1', 'zscore_Basal_Org_1', 'zscore_Luminal_Org_2', 'zscore_Basal_Org_3', 'zscore_Basal_Org_2', 'pval_mc_Basal_Org_1', 'pval_mc_Basal_Org_2', 'pval_mc_Basal_Org_3', 'pval_mc_Luminal_Org_1', 'pval_mc_Luminal_Org_2', 'ct_mc_pval_preds', 'metacells', 'DPT_metacells', 'CD24', 'CD49f'\n",
       "    var: 'n_cells_by_counts', 'mean_counts', 'log1p_mean_counts', 'pct_dropout_by_counts', 'total_counts', 'log1p_total_counts', 'n_cells'\n",
       "    uns: 'clusterings_phenoLD_k30_hpf_kp', 'clusterings_phenoLD_k30_hpf_maxclust', 'clusterings_phenoLD_k30_pca', 'clusterings_phenoLD_knn_hpf_kp', 'clusterings_phenoLD_knn_hpf_maxclust', 'clusterings_phenoLD_knn_pca', 'clusterings_phenoLV_hpf_kp', 'clusterings_phenoLV_hpf_maxclust', 'clusterings_phenoLV_pca', 'clusters_fine_hpf_kp_sizes', 'clusters_fine_hpf_maxclust_sizes', 'diffmap_evals_hpf_kp', 'diffmap_evals_hpf_maxclust', 'diffmap_evals_pca', 'metacell_clusters_colors', 'metacell_pg_clusters_colors', 'metacell_pg_clusters_sizes', 'metacells_colors', 'neighbors', 'num_components', 'paga', 'rand_phenoLD_k30_hpf_kp', 'rand_phenoLD_k30_hpf_maxclust', 'rand_phenoLD_k30_pca', 'rand_phenoLD_knn_hpf_kp', 'rand_phenoLD_knn_hpf_maxclust', 'rand_phenoLD_knn_pca', 'rand_phenoLV_hpf_kp', 'rand_phenoLV_hpf_maxclust', 'rand_phenoLV_pca', 'rank_genes_groups', 'rank_genes_groups_enz_dht', 'rank_genes_groups_enz_dht_basal', 'rank_genes_groups_enz_dht_luminal', 'rank_genes_groups_enz_dht_luminal2', 'rank_genes_groups_enz_dht_luminal3', 'rank_genes_groups_mut_wt', 'rank_genes_groups_mut_wt_basal', 'rank_genes_groups_mut_wt_luminal', 'rank_genes_groups_mut_wt_luminal1', 'rank_genes_groups_mut_wt_luminal2', 'rank_genes_groups_mut_wt_luminal3', 'rank_genes_groups_phenoLV', 'var_explained'\n",
       "    obsm: 'X_diffmap_hpf_kp', 'X_diffmap_hpf_maxclust', 'X_diffmap_pca', 'X_draw_graph_fa', 'X_draw_graph_hpf_kp', 'X_draw_graph_hpf_maxclust', 'X_draw_graph_pca', 'X_hpf_kp', 'X_hpf_maxclust', 'X_pca', 'X_tsne_dm_hpf_kp', 'X_tsne_dm_hpf_maxclust', 'X_tsne_dm_pca', 'X_umap_dm_hpf_kp', 'X_umap_dm_hpf_maxclust', 'X_umap_dm_pca', 'X_umap_hpf_kp', 'X_umap_hpf_maxclust', 'X_umap_pca'\n",
       "    layers: 'uncorrected_normalized'\n",
       "    obsp: 'connectivities', 'distances'"
      ]
     },
     "execution_count": 132,
     "metadata": {},
     "output_type": "execute_result"
    }
   ],
   "source": [
    "adata"
   ]
  },
  {
   "cell_type": "code",
   "execution_count": 134,
   "metadata": {
    "ExecuteTime": {
     "end_time": "2021-10-01T21:49:51.075326Z",
     "start_time": "2021-10-01T21:49:51.050715Z"
    }
   },
   "outputs": [
    {
     "ename": "KeyError",
     "evalue": "'Basal-Luminal_colors'",
     "output_type": "error",
     "traceback": [
      "\u001b[0;31m---------------------------------------------------------------------------\u001b[0m",
      "\u001b[0;31mKeyError\u001b[0m                                  Traceback (most recent call last)",
      "\u001b[0;32m<ipython-input-134-ee3451b8eeb8>\u001b[0m in \u001b[0;36m<module>\u001b[0;34m\u001b[0m\n\u001b[0;32m----> 1\u001b[0;31m \u001b[0;32mdel\u001b[0m \u001b[0madata\u001b[0m\u001b[0;34m.\u001b[0m\u001b[0muns\u001b[0m\u001b[0;34m[\u001b[0m\u001b[0;34m'Basal-Luminal_colors'\u001b[0m\u001b[0;34m]\u001b[0m\u001b[0;34m\u001b[0m\u001b[0m\n\u001b[0m\u001b[1;32m      2\u001b[0m \u001b[0;32mdel\u001b[0m \u001b[0madata\u001b[0m\u001b[0;34m.\u001b[0m\u001b[0muns\u001b[0m\u001b[0;34m[\u001b[0m\u001b[0;34m'clusters_fine_pca_sizes'\u001b[0m\u001b[0;34m]\u001b[0m\u001b[0;34m\u001b[0m\u001b[0m\n\u001b[1;32m      3\u001b[0m \u001b[0;32mdel\u001b[0m \u001b[0madata\u001b[0m\u001b[0;34m.\u001b[0m\u001b[0muns\u001b[0m\u001b[0;34m[\u001b[0m\u001b[0;34m'num_factors_kp'\u001b[0m\u001b[0;34m]\u001b[0m\u001b[0;34m\u001b[0m\u001b[0m\n",
      "\u001b[0;32m~/anaconda3/envs/py3.7/lib/python3.7/site-packages/anndata/compat/_overloaded_dict.py\u001b[0m in \u001b[0;36m__delitem__\u001b[0;34m(self, key)\u001b[0m\n\u001b[1;32m    110\u001b[0m             \u001b[0mself\u001b[0m\u001b[0;34m.\u001b[0m\u001b[0moverloaded\u001b[0m\u001b[0;34m[\u001b[0m\u001b[0mkey\u001b[0m\u001b[0;34m]\u001b[0m\u001b[0;34m.\u001b[0m\u001b[0mdelete\u001b[0m\u001b[0;34m(\u001b[0m\u001b[0;34m)\u001b[0m\u001b[0;34m\u001b[0m\u001b[0m\n\u001b[1;32m    111\u001b[0m         \u001b[0;32melse\u001b[0m\u001b[0;34m:\u001b[0m\u001b[0;34m\u001b[0m\u001b[0m\n\u001b[0;32m--> 112\u001b[0;31m             \u001b[0;32mdel\u001b[0m \u001b[0mself\u001b[0m\u001b[0;34m.\u001b[0m\u001b[0mdata\u001b[0m\u001b[0;34m[\u001b[0m\u001b[0mkey\u001b[0m\u001b[0;34m]\u001b[0m\u001b[0;34m\u001b[0m\u001b[0m\n\u001b[0m\u001b[1;32m    113\u001b[0m \u001b[0;34m\u001b[0m\u001b[0m\n\u001b[1;32m    114\u001b[0m     \u001b[0;32mdef\u001b[0m \u001b[0m__contains__\u001b[0m\u001b[0;34m(\u001b[0m\u001b[0mself\u001b[0m\u001b[0;34m,\u001b[0m \u001b[0mkey\u001b[0m\u001b[0;34m)\u001b[0m\u001b[0;34m:\u001b[0m\u001b[0;34m\u001b[0m\u001b[0m\n",
      "\u001b[0;31mKeyError\u001b[0m: 'Basal-Luminal_colors'"
     ]
    }
   ],
   "source": [
    "del adata.uns['Basal-Luminal_colors']\n",
    "del adata.uns['clusters_fine_pca_sizes']\n",
    "del adata.uns['num_factors_kp']"
   ]
  },
  {
   "cell_type": "code",
   "execution_count": 135,
   "metadata": {
    "ExecuteTime": {
     "end_time": "2021-10-01T21:49:51.261452Z",
     "start_time": "2021-10-01T21:49:51.240885Z"
    }
   },
   "outputs": [
    {
     "ename": "KeyError",
     "evalue": "'tp_colors'",
     "output_type": "error",
     "traceback": [
      "\u001b[0;31m---------------------------------------------------------------------------\u001b[0m",
      "\u001b[0;31mKeyError\u001b[0m                                  Traceback (most recent call last)",
      "\u001b[0;32m<ipython-input-135-0a59bb861e4e>\u001b[0m in \u001b[0;36m<module>\u001b[0;34m\u001b[0m\n\u001b[0;32m----> 1\u001b[0;31m \u001b[0;32mdel\u001b[0m \u001b[0madata\u001b[0m\u001b[0;34m.\u001b[0m\u001b[0muns\u001b[0m\u001b[0;34m[\u001b[0m\u001b[0;34m'tp_colors'\u001b[0m\u001b[0;34m]\u001b[0m\u001b[0;34m\u001b[0m\u001b[0m\n\u001b[0m\u001b[1;32m      2\u001b[0m \u001b[0;32mdel\u001b[0m \u001b[0madata\u001b[0m\u001b[0;34m.\u001b[0m\u001b[0muns\u001b[0m\u001b[0;34m[\u001b[0m\u001b[0;34m'num_factors_maxclust'\u001b[0m\u001b[0;34m]\u001b[0m\u001b[0;34m\u001b[0m\u001b[0m\n",
      "\u001b[0;32m~/anaconda3/envs/py3.7/lib/python3.7/site-packages/anndata/compat/_overloaded_dict.py\u001b[0m in \u001b[0;36m__delitem__\u001b[0;34m(self, key)\u001b[0m\n\u001b[1;32m    110\u001b[0m             \u001b[0mself\u001b[0m\u001b[0;34m.\u001b[0m\u001b[0moverloaded\u001b[0m\u001b[0;34m[\u001b[0m\u001b[0mkey\u001b[0m\u001b[0;34m]\u001b[0m\u001b[0;34m.\u001b[0m\u001b[0mdelete\u001b[0m\u001b[0;34m(\u001b[0m\u001b[0;34m)\u001b[0m\u001b[0;34m\u001b[0m\u001b[0m\n\u001b[1;32m    111\u001b[0m         \u001b[0;32melse\u001b[0m\u001b[0;34m:\u001b[0m\u001b[0;34m\u001b[0m\u001b[0m\n\u001b[0;32m--> 112\u001b[0;31m             \u001b[0;32mdel\u001b[0m \u001b[0mself\u001b[0m\u001b[0;34m.\u001b[0m\u001b[0mdata\u001b[0m\u001b[0;34m[\u001b[0m\u001b[0mkey\u001b[0m\u001b[0;34m]\u001b[0m\u001b[0;34m\u001b[0m\u001b[0m\n\u001b[0m\u001b[1;32m    113\u001b[0m \u001b[0;34m\u001b[0m\u001b[0m\n\u001b[1;32m    114\u001b[0m     \u001b[0;32mdef\u001b[0m \u001b[0m__contains__\u001b[0m\u001b[0;34m(\u001b[0m\u001b[0mself\u001b[0m\u001b[0;34m,\u001b[0m \u001b[0mkey\u001b[0m\u001b[0;34m)\u001b[0m\u001b[0;34m:\u001b[0m\u001b[0;34m\u001b[0m\u001b[0m\n",
      "\u001b[0;31mKeyError\u001b[0m: 'tp_colors'"
     ]
    }
   ],
   "source": [
    "del adata.uns['tp_colors']\n",
    "del adata.uns['num_factors_maxclust']"
   ]
  },
  {
   "cell_type": "code",
   "execution_count": 121,
   "metadata": {
    "ExecuteTime": {
     "end_time": "2021-10-01T21:46:34.841691Z",
     "start_time": "2021-10-01T21:46:34.833595Z"
    }
   },
   "outputs": [
    {
     "data": {
      "text/plain": [
       "AnnData object with n_obs × n_vars = 15677 × 14617\n",
       "    obs: 'n_genes_by_counts', 'log1p_n_genes_by_counts', 'total_counts', 'log1p_total_counts', 'pct_counts_in_top_50_genes', 'pct_counts_in_top_100_genes', 'pct_counts_in_top_200_genes', 'pct_counts_in_top_500_genes', 'original_total_counts', 'log10_original_total_counts', 'mito_frac', 'RBP_frac', 'batch', 'time', 'treatment', 'Basal vs Luminal by Correlation', 'MUT_WT', 'zscore_Luminal_Org_1', 'zscore_Basal_Org_1', 'zscore_Luminal_Org_2', 'zscore_Basal_Org_3', 'zscore_Basal_Org_2', 'pval_mc_Basal_Org_1', 'pval_mc_Basal_Org_2', 'pval_mc_Basal_Org_3', 'pval_mc_Luminal_Org_1', 'pval_mc_Luminal_Org_2', 'Basal Correlation', 'batch_plus_wt_cells'\n",
       "    var: 'n_cells_by_counts', 'mean_counts', 'log1p_mean_counts', 'pct_dropout_by_counts', 'total_counts', 'log1p_total_counts', 'n_cells'\n",
       "    uns: 'diffmap_evals_pca', 'neighbors', 'num_components', 'paga', 'rank_genes_groups', 'var_explained'\n",
       "    obsm: 'X_diffmap_pca', 'X_draw_graph_fa', 'X_draw_graph_pca', 'X_pca', 'X_tsne_dm_pca', 'X_umap_dm_pca', 'X_umap_pca'\n",
       "    layers: 'uncorrected_normalized'\n",
       "    obsp: 'connectivities', 'distances'"
      ]
     },
     "execution_count": 121,
     "metadata": {},
     "output_type": "execute_result"
    }
   ],
   "source": [
    "adata"
   ]
  },
  {
   "cell_type": "code",
   "execution_count": 136,
   "metadata": {
    "ExecuteTime": {
     "end_time": "2021-10-01T21:49:56.789612Z",
     "start_time": "2021-10-01T21:49:56.786425Z"
    }
   },
   "outputs": [],
   "source": [
    "adata.obsm['X_diffmap'] = adata.obsm['X_diffmap_pca']"
   ]
  },
  {
   "cell_type": "code",
   "execution_count": 137,
   "metadata": {
    "ExecuteTime": {
     "end_time": "2021-10-01T21:49:57.160130Z",
     "start_time": "2021-10-01T21:49:57.156320Z"
    }
   },
   "outputs": [],
   "source": [
    "del adata.obsm['X_diffmap_pca']"
   ]
  },
  {
   "cell_type": "code",
   "execution_count": 140,
   "metadata": {
    "ExecuteTime": {
     "end_time": "2021-10-01T21:50:33.799838Z",
     "start_time": "2021-10-01T21:50:33.794231Z"
    }
   },
   "outputs": [],
   "source": [
    "del adata.obsm['X_draw_graph_pca']"
   ]
  },
  {
   "cell_type": "code",
   "execution_count": 138,
   "metadata": {
    "ExecuteTime": {
     "end_time": "2021-10-01T21:49:58.896501Z",
     "start_time": "2021-10-01T21:49:58.884916Z"
    }
   },
   "outputs": [],
   "source": [
    "keys=list(adata.obsm.keys())\n",
    "for i in keys:\n",
    "    if 'tsne' in i or 'umap_dm' in i:\n",
    "        del adata.obsm[i]"
   ]
  },
  {
   "cell_type": "code",
   "execution_count": 141,
   "metadata": {
    "ExecuteTime": {
     "end_time": "2021-10-01T21:50:46.539633Z",
     "start_time": "2021-10-01T21:50:46.537163Z"
    }
   },
   "outputs": [],
   "source": [
    "adata.obsm['X_umap'] = adata.obsm['X_umap_pca']"
   ]
  },
  {
   "cell_type": "code",
   "execution_count": 143,
   "metadata": {
    "ExecuteTime": {
     "end_time": "2021-10-01T21:50:59.987275Z",
     "start_time": "2021-10-01T21:50:59.985126Z"
    }
   },
   "outputs": [],
   "source": [
    "del adata.obsm['X_umap_pca']"
   ]
  },
  {
   "cell_type": "code",
   "execution_count": 144,
   "metadata": {
    "ExecuteTime": {
     "end_time": "2021-10-01T21:51:00.397831Z",
     "start_time": "2021-10-01T21:51:00.389990Z"
    }
   },
   "outputs": [
    {
     "data": {
      "text/plain": [
       "AnnData object with n_obs × n_vars = 15677 × 14617\n",
       "    obs: 'n_genes_by_counts', 'log1p_n_genes_by_counts', 'total_counts', 'log1p_total_counts', 'pct_counts_in_top_50_genes', 'pct_counts_in_top_100_genes', 'pct_counts_in_top_200_genes', 'pct_counts_in_top_500_genes', 'original_total_counts', 'log10_original_total_counts', 'mito_frac', 'RBP_frac', 'batch', 'time', 'treatment', 'Basal vs Luminal by Correlation', 'MUT_WT', 'zscore_Luminal_Org_1', 'zscore_Basal_Org_1', 'zscore_Luminal_Org_2', 'zscore_Basal_Org_3', 'zscore_Basal_Org_2', 'pval_mc_Basal_Org_1', 'pval_mc_Basal_Org_2', 'pval_mc_Basal_Org_3', 'pval_mc_Luminal_Org_1', 'pval_mc_Luminal_Org_2', 'Basal Correlation', 'batch_plus_wt_cells'\n",
       "    var: 'n_cells_by_counts', 'mean_counts', 'log1p_mean_counts', 'pct_dropout_by_counts', 'total_counts', 'log1p_total_counts', 'n_cells'\n",
       "    uns: 'diffmap_evals_pca', 'neighbors', 'num_components', 'paga', 'rank_genes_groups', 'var_explained'\n",
       "    obsm: 'X_draw_graph_fa', 'X_pca', 'X_diffmap', 'X_umap'\n",
       "    layers: 'uncorrected_normalized'\n",
       "    obsp: 'connectivities', 'distances'"
      ]
     },
     "execution_count": 144,
     "metadata": {},
     "output_type": "execute_result"
    }
   ],
   "source": [
    "adata"
   ]
  },
  {
   "cell_type": "code",
   "execution_count": 146,
   "metadata": {
    "ExecuteTime": {
     "end_time": "2021-10-01T21:51:41.394595Z",
     "start_time": "2021-10-01T21:51:41.386918Z"
    }
   },
   "outputs": [],
   "source": [
    "adata.obs.columns = adata.obs.columns.str.replace('Org_','Org')"
   ]
  },
  {
   "cell_type": "code",
   "execution_count": 147,
   "metadata": {
    "ExecuteTime": {
     "end_time": "2021-10-01T21:51:44.089960Z",
     "start_time": "2021-10-01T21:51:44.085820Z"
    }
   },
   "outputs": [
    {
     "data": {
      "text/plain": [
       "AnnData object with n_obs × n_vars = 15677 × 14617\n",
       "    obs: 'n_genes_by_counts', 'log1p_n_genes_by_counts', 'total_counts', 'log1p_total_counts', 'pct_counts_in_top_50_genes', 'pct_counts_in_top_100_genes', 'pct_counts_in_top_200_genes', 'pct_counts_in_top_500_genes', 'original_total_counts', 'log10_original_total_counts', 'mito_frac', 'RBP_frac', 'batch', 'time', 'treatment', 'Basal vs Luminal by Correlation', 'MUT_WT', 'zscore_Luminal_Org1', 'zscore_Basal_Org1', 'zscore_Luminal_Org2', 'zscore_Basal_Org3', 'zscore_Basal_Org2', 'pval_mc_Basal_Org1', 'pval_mc_Basal_Org2', 'pval_mc_Basal_Org3', 'pval_mc_Luminal_Org1', 'pval_mc_Luminal_Org2', 'Basal Correlation', 'batch_plus_wt_cells'\n",
       "    var: 'n_cells_by_counts', 'mean_counts', 'log1p_mean_counts', 'pct_dropout_by_counts', 'total_counts', 'log1p_total_counts', 'n_cells'\n",
       "    uns: 'diffmap_evals_pca', 'neighbors', 'num_components', 'paga', 'rank_genes_groups', 'var_explained'\n",
       "    obsm: 'X_draw_graph_fa', 'X_pca', 'X_diffmap', 'X_umap'\n",
       "    layers: 'uncorrected_normalized'\n",
       "    obsp: 'connectivities', 'distances'"
      ]
     },
     "execution_count": 147,
     "metadata": {},
     "output_type": "execute_result"
    }
   ],
   "source": [
    "adata"
   ]
  },
  {
   "cell_type": "code",
   "execution_count": 95,
   "metadata": {
    "ExecuteTime": {
     "end_time": "2021-10-05T03:09:52.264187Z",
     "start_time": "2021-10-05T03:09:52.254130Z"
    }
   },
   "outputs": [],
   "source": [
    "del adata.layers['uncorrected_normalized']"
   ]
  },
  {
   "cell_type": "code",
   "execution_count": 96,
   "metadata": {
    "ExecuteTime": {
     "end_time": "2021-10-05T03:11:42.667299Z",
     "start_time": "2021-10-05T03:09:53.432368Z"
    }
   },
   "outputs": [],
   "source": [
    "comb_dir = '/data/peer/chanj3/SCPC_transformation.021120/out.%s.021120/' % ('combined')\n",
    "sct_file = comb_dir + 'sctransform.combined.021120.csv'\n",
    "residuals = pd.read_csv(sct_file, sep = ',').loc[adata.obs_names, adata.var_names]\n"
   ]
  },
  {
   "cell_type": "code",
   "execution_count": 97,
   "metadata": {
    "ExecuteTime": {
     "end_time": "2021-10-05T03:11:43.736911Z",
     "start_time": "2021-10-05T03:11:42.674504Z"
    }
   },
   "outputs": [],
   "source": [
    "adata.layers['sctransform_residuals'] = residuals.astype(np.float16).values"
   ]
  },
  {
   "cell_type": "markdown",
   "metadata": {},
   "source": [
    "### Save Data"
   ]
  },
  {
   "cell_type": "code",
   "execution_count": 98,
   "metadata": {
    "ExecuteTime": {
     "end_time": "2021-10-05T03:11:43.744371Z",
     "start_time": "2021-10-05T03:11:43.740898Z"
    }
   },
   "outputs": [],
   "source": [
    "out_dir = '/home/chanj3/data/Prostate_Organoid.LP.publication.100121/out.single_cell.combined.100121/'\n",
    "os.makedirs(out_dir, exist_ok=True)"
   ]
  },
  {
   "cell_type": "code",
   "execution_count": 99,
   "metadata": {
    "ExecuteTime": {
     "end_time": "2021-10-05T03:11:47.429321Z",
     "start_time": "2021-10-05T03:11:43.747762Z"
    }
   },
   "outputs": [],
   "source": [
    "adata.write_h5ad(out_dir + 'adata.single_cell.combined.100121.h5ad')"
   ]
  },
  {
   "cell_type": "code",
   "execution_count": 150,
   "metadata": {
    "ExecuteTime": {
     "end_time": "2021-10-01T21:52:01.802472Z",
     "start_time": "2021-10-01T21:52:01.392622Z"
    }
   },
   "outputs": [],
   "source": [
    "adata.obs.to_csv(out_dir + 'obs.single_cell.combined.100121.txt', sep='\\t')"
   ]
  },
  {
   "cell_type": "code",
   "execution_count": 151,
   "metadata": {
    "ExecuteTime": {
     "end_time": "2021-10-01T21:52:06.489295Z",
     "start_time": "2021-10-01T21:52:04.965050Z"
    }
   },
   "outputs": [],
   "source": [
    "for i in ['X_pca', 'X_umap']:\n",
    "    root = re.sub('X_','',i)\n",
    "    df = pd.DataFrame(adata.obsm[i],index=adata.obs.index)\n",
    "    df.index.name = 'Cell'\n",
    "    if i=='X_umap':\n",
    "        df.columns = ['x','y']\n",
    "    df.to_csv(out_dir + root + '.single_cell.combined.100121.txt', sep='\\t')"
   ]
  },
  {
   "cell_type": "code",
   "execution_count": null,
   "metadata": {},
   "outputs": [],
   "source": []
  }
 ],
 "metadata": {
  "kernelspec": {
   "display_name": "Python 3",
   "language": "python",
   "name": "python3"
  },
  "language_info": {
   "codemirror_mode": {
    "name": "ipython",
    "version": 3
   },
   "file_extension": ".py",
   "mimetype": "text/x-python",
   "name": "python",
   "nbconvert_exporter": "python",
   "pygments_lexer": "ipython3",
   "version": "3.7.0"
  },
  "toc": {
   "base_numbering": 1,
   "nav_menu": {},
   "number_sections": true,
   "sideBar": true,
   "skip_h1_title": false,
   "title_cell": "Table of Contents",
   "title_sidebar": "Contents",
   "toc_cell": false,
   "toc_position": {},
   "toc_section_display": true,
   "toc_window_display": true
  }
 },
 "nbformat": 4,
 "nbformat_minor": 2
}
