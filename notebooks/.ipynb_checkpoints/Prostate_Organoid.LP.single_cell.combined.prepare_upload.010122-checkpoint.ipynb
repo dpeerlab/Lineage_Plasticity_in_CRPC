{
 "cells": [
  {
   "cell_type": "code",
   "execution_count": 1,
   "metadata": {
    "ExecuteTime": {
     "end_time": "2022-05-24T05:02:44.740656Z",
     "start_time": "2022-05-24T05:02:32.606136Z"
    }
   },
   "outputs": [],
   "source": [
    "import numpy as np\n",
    "import pandas as pd\n",
    "import scanpy as sc\n",
    "import matplotlib\n",
    "import matplotlib.pyplot as plt\n",
    "import seaborn as sns"
   ]
  },
  {
   "cell_type": "code",
   "execution_count": 2,
   "metadata": {
    "ExecuteTime": {
     "end_time": "2022-05-24T05:02:44.757003Z",
     "start_time": "2022-05-24T05:02:44.750868Z"
    }
   },
   "outputs": [],
   "source": [
    "import os\n",
    "import pandas as pd\n",
    "import re\n",
    "import numpy as np\n",
    "import glob\n",
    "from pathlib import Path\n",
    "from scipy import sparse\n",
    "from copy import deepcopy\n",
    "import pickle\n"
   ]
  },
  {
   "cell_type": "markdown",
   "metadata": {},
   "source": [
    "<h3> Load data </h3>"
   ]
  },
  {
   "cell_type": "code",
   "execution_count": 3,
   "metadata": {
    "ExecuteTime": {
     "end_time": "2022-05-24T05:02:44.768101Z",
     "start_time": "2022-05-24T05:02:44.763088Z"
    }
   },
   "outputs": [],
   "source": [
    "wdir = '/home/chanj3/data/SCPC_transformation.single_cell.resubmission.010122/out.single_cell.combined.010122/'"
   ]
  },
  {
   "cell_type": "code",
   "execution_count": 4,
   "metadata": {
    "ExecuteTime": {
     "end_time": "2022-05-24T05:02:44.777989Z",
     "start_time": "2022-05-24T05:02:44.772789Z"
    }
   },
   "outputs": [],
   "source": [
    "fig_dir = wdir + 'figures/'"
   ]
  },
  {
   "cell_type": "code",
   "execution_count": 5,
   "metadata": {
    "ExecuteTime": {
     "end_time": "2022-05-24T05:02:51.256254Z",
     "start_time": "2022-05-24T05:02:44.781779Z"
    }
   },
   "outputs": [
    {
     "name": "stdout",
     "output_type": "stream",
     "text": [
      "WARNING: Your filename has more than two extensions: ['.single_cell', '.combined', '.010122', '.h5ad'].\n",
      "Only considering the two last: ['.010122', '.h5ad'].\n",
      "WARNING: Your filename has more than two extensions: ['.single_cell', '.combined', '.010122', '.h5ad'].\n",
      "Only considering the two last: ['.010122', '.h5ad'].\n"
     ]
    }
   ],
   "source": [
    "adata = sc.read(wdir + 'adata.single_cell.combined.010122.h5ad')\n"
   ]
  },
  {
   "cell_type": "code",
   "execution_count": 6,
   "metadata": {
    "ExecuteTime": {
     "end_time": "2022-05-24T05:03:09.354049Z",
     "start_time": "2022-05-24T05:03:08.605746Z"
    }
   },
   "outputs": [],
   "source": [
    "ind_mc_dir = '/home/chanj3/data/Prostate.LP.publication.010122/out.metacells.individual.010122/'\n",
    "\n",
    "adata_mc_dict = {}\n",
    "for fn in glob.glob(ind_mc_dir + '*/adata*h5ad'):\n",
    "    sample = os.path.basename(fn).split('.')[2]\n",
    "    adata_mc_dict[sample] = sc.read_h5ad(fn)"
   ]
  },
  {
   "cell_type": "code",
   "execution_count": 7,
   "metadata": {
    "ExecuteTime": {
     "end_time": "2022-05-24T05:03:13.058495Z",
     "start_time": "2022-05-24T05:03:09.357730Z"
    }
   },
   "outputs": [],
   "source": [
    "ind_sc_dir = '/home/chanj3/data/Prostate.LP.publication.010122/out.single_cell.individual.010122/'     \n",
    "    \n",
    "adata_sc_dict = {}\n",
    "for j in adata_mc_dict.keys():\n",
    "    ind_sc_fn = ind_sc_dir + '%s/adata.single_cell.%s.010122.h5ad' % (j, j)\n",
    "    adata_sc_dict[j] = sc.read_h5ad(ind_sc_fn)\n",
    "    "
   ]
  },
  {
   "cell_type": "code",
   "execution_count": 11,
   "metadata": {
    "ExecuteTime": {
     "end_time": "2021-10-18T04:54:42.133490Z",
     "start_time": "2021-10-18T04:54:39.841685Z"
    }
   },
   "outputs": [
    {
     "name": "stdout",
     "output_type": "stream",
     "text": [
      "WARNING: Your filename has more than two extensions: ['.combined', '.hpf_pca', '.021120', '.h5ad'].\n",
      "Only considering the two last: ['.021120', '.h5ad'].\n",
      "WARNING: Your filename has more than two extensions: ['.combined', '.hpf_pca', '.021120', '.h5ad'].\n",
      "Only considering the two last: ['.021120', '.h5ad'].\n"
     ]
    }
   ],
   "source": [
    "adata_orig = sc.read(wdir + 'adata.combined.hpf_pca.021120.h5ad')\n"
   ]
  },
  {
   "cell_type": "code",
   "execution_count": 9,
   "metadata": {
    "ExecuteTime": {
     "end_time": "2021-10-06T01:31:22.038202Z",
     "start_time": "2021-10-06T01:31:22.021569Z"
    }
   },
   "outputs": [
    {
     "data": {
      "text/plain": [
       "index\n",
       "CRE_2_DHT_205449168083868   -0.016658\n",
       "CRE_2_DHT_125239700180211    0.005946\n",
       "CRE_4_ENZ_226822402201827   -0.000136\n",
       "CRE_4_ENZ_125247350565788   -0.031118\n",
       "CRE_8_ENZ_160928745056118    0.002895\n",
       "                               ...   \n",
       "CRE_0_DHT_196527701289782    0.013660\n",
       "CRE_4_DHT_227975332784491    0.014120\n",
       "CRE_0_DHT_130693146798428    0.004266\n",
       "CRE_4_DHT_166400431446243    0.029247\n",
       "CRE_4_DHT_235550862359459    0.030697\n",
       "Length: 15677, dtype: float64"
      ]
     },
     "execution_count": 9,
     "metadata": {},
     "output_type": "execute_result"
    }
   ],
   "source": [
    "adata.obs.loc[:,['CD49f','CD24']].sum(axis=1)"
   ]
  },
  {
   "cell_type": "markdown",
   "metadata": {},
   "source": [
    "<h3> Reload data </h3>"
   ]
  },
  {
   "cell_type": "code",
   "execution_count": 12,
   "metadata": {
    "ExecuteTime": {
     "end_time": "2022-05-07T20:42:41.434237Z",
     "start_time": "2022-05-07T20:42:41.426588Z"
    }
   },
   "outputs": [],
   "source": [
    "out_dir = '/home/chanj3/data/Prostate.LP.publication.010122/out.single_cell.combined.010122/'\n",
    "os.makedirs(out_dir, exist_ok=True)"
   ]
  },
  {
   "cell_type": "code",
   "execution_count": 13,
   "metadata": {
    "ExecuteTime": {
     "end_time": "2022-05-07T20:42:43.018153Z",
     "start_time": "2022-05-07T20:42:41.612931Z"
    }
   },
   "outputs": [],
   "source": [
    "adata = sc.read_h5ad(out_dir + 'adata.single_cell.combined.010122.h5ad')"
   ]
  },
  {
   "cell_type": "code",
   "execution_count": 14,
   "metadata": {
    "ExecuteTime": {
     "end_time": "2022-05-07T20:42:43.033179Z",
     "start_time": "2022-05-07T20:42:43.021862Z"
    }
   },
   "outputs": [
    {
     "data": {
      "text/plain": [
       "AnnData object with n_obs × n_vars = 15677 × 14617\n",
       "    obs: 'n_genes_by_counts', 'log1p_n_genes_by_counts', 'total_counts', 'log1p_total_counts', 'pct_counts_in_top_50_genes', 'pct_counts_in_top_100_genes', 'pct_counts_in_top_200_genes', 'pct_counts_in_top_500_genes', 'original_total_counts', 'log10_original_total_counts', 'mito_frac', 'RBP_frac', 'batch', 'time', 'treatment', 'Basal vs Luminal by Correlation', 'MUT_WT', 'Basal Correlation', 'batch_plus_wt_cells', 'metacell_assignment', 'metacell_centers', 'pval_mc_Basal_Org1', 'pval_mc_Basal_Org2', 'pval_mc_Basal_Org3', 'pval_mc_Luminal_Org1', 'pval_mc_Luminal_Org2'\n",
       "    var: 'n_cells_by_counts', 'mean_counts', 'log1p_mean_counts', 'pct_dropout_by_counts', 'total_counts', 'log1p_total_counts', 'n_cells'\n",
       "    uns: 'batch_plus_wt_cells_colors', 'diffmap_evals_pca', 'neighbors', 'num_components', 'paga', 'var_explained'\n",
       "    obsm: 'X_diffmap', 'X_draw_graph_fa', 'X_pca', 'X_umap'\n",
       "    layers: 'imputed', 'sctransform_residuals'\n",
       "    obsp: 'connectivities', 'distances'"
      ]
     },
     "execution_count": 14,
     "metadata": {},
     "output_type": "execute_result"
    }
   ],
   "source": [
    "adata"
   ]
  },
  {
   "cell_type": "markdown",
   "metadata": {},
   "source": [
    "<h3> Check PCA </h3>"
   ]
  },
  {
   "cell_type": "code",
   "execution_count": 7,
   "metadata": {
    "ExecuteTime": {
     "end_time": "2021-10-05T21:10:20.295994Z",
     "start_time": "2021-10-05T21:10:19.510277Z"
    }
   },
   "outputs": [],
   "source": [
    "from sklearn.linear_model import LinearRegression\n",
    "from sklearn.decomposition import PCA"
   ]
  },
  {
   "cell_type": "code",
   "execution_count": 8,
   "metadata": {
    "ExecuteTime": {
     "end_time": "2021-10-05T21:10:20.304726Z",
     "start_time": "2021-10-05T21:10:20.297458Z"
    }
   },
   "outputs": [],
   "source": [
    "comb_dir = '/data/peer/chanj3/SCPC_transformation.021120/out.%s.021120/' % ('combined')"
   ]
  },
  {
   "cell_type": "code",
   "execution_count": 9,
   "metadata": {
    "ExecuteTime": {
     "end_time": "2021-10-05T21:13:59.708541Z",
     "start_time": "2021-10-05T21:10:20.306339Z"
    }
   },
   "outputs": [],
   "source": [
    "sct_file = comb_dir + 'sctransform.combined.021120.csv'\n",
    "norm_unfiltered_df = pd.read_csv(sct_file, sep = ',').loc[adata.obs_names, adata.var_names]"
   ]
  },
  {
   "cell_type": "code",
   "execution_count": 10,
   "metadata": {
    "ExecuteTime": {
     "end_time": "2021-10-05T21:14:00.618578Z",
     "start_time": "2021-10-05T21:13:59.714142Z"
    }
   },
   "outputs": [],
   "source": [
    "######################\n",
    "\n",
    "bad_genes = norm_unfiltered_df.columns.str.contains(\n",
    "    \"^MT-|^MTMR|^MTND|NEAT1|TMSB4X|TMSB10|^RPS|^RPL|^MRP|^FAU$|UBA52|MALAT1\")\n",
    "norm_df = norm_unfiltered_df.loc[:,~bad_genes]\n",
    "#norm_df = np.log2(norm_df + 0.1)"
   ]
  },
  {
   "cell_type": "code",
   "execution_count": 11,
   "metadata": {
    "ExecuteTime": {
     "end_time": "2021-10-05T21:16:06.710166Z",
     "start_time": "2021-10-05T21:14:00.637524Z"
    }
   },
   "outputs": [
    {
     "data": {
      "text/plain": [
       "PCA(n_components=500, svd_solver='randomized')"
      ]
     },
     "execution_count": 11,
     "metadata": {},
     "output_type": "execute_result"
    }
   ],
   "source": [
    "n_components=500\n",
    "pca = PCA(n_components=n_components, svd_solver='randomized')\n",
    "pca.fit(norm_df)\n"
   ]
  },
  {
   "cell_type": "code",
   "execution_count": 12,
   "metadata": {
    "ExecuteTime": {
     "end_time": "2021-10-05T21:16:06.912912Z",
     "start_time": "2021-10-05T21:16:06.715010Z"
    }
   },
   "outputs": [],
   "source": [
    "from kneed import KneeLocator\n",
    "kneedle = KneeLocator(list(range(len(pca.explained_variance_ratio_))), np.cumsum(pca.explained_variance_ratio_),\n",
    "                      S=3.0, curve='concave', direction='increasing')\n",
    "knee_point = round(kneedle.knee, 3)\n",
    "\n"
   ]
  },
  {
   "cell_type": "code",
   "execution_count": 13,
   "metadata": {
    "ExecuteTime": {
     "end_time": "2021-10-05T21:16:06.921443Z",
     "start_time": "2021-10-05T21:16:06.917892Z"
    }
   },
   "outputs": [],
   "source": [
    "#By Kneepoint\n",
    "num_components = 0\n",
    "num_components = max(num_components,knee_point)"
   ]
  },
  {
   "cell_type": "code",
   "execution_count": 14,
   "metadata": {
    "ExecuteTime": {
     "end_time": "2021-10-05T21:16:06.935276Z",
     "start_time": "2021-10-05T21:16:06.926110Z"
    }
   },
   "outputs": [
    {
     "name": "stdout",
     "output_type": "stream",
     "text": [
      "Variance explained = 0.378618\n"
     ]
    }
   ],
   "source": [
    "var_explained = np.cumsum(pca.explained_variance_ratio_)[num_components]\n",
    "print('Variance explained = %f' % var_explained)\n"
   ]
  },
  {
   "cell_type": "code",
   "execution_count": 15,
   "metadata": {
    "ExecuteTime": {
     "end_time": "2021-10-05T21:16:06.946738Z",
     "start_time": "2021-10-05T21:16:06.940217Z"
    }
   },
   "outputs": [
    {
     "data": {
      "text/plain": [
       "0.4351044523572555"
      ]
     },
     "execution_count": 15,
     "metadata": {},
     "output_type": "execute_result"
    }
   ],
   "source": [
    "np.cumsum(pca.explained_variance_ratio_)[200]"
   ]
  },
  {
   "cell_type": "code",
   "execution_count": 16,
   "metadata": {
    "ExecuteTime": {
     "end_time": "2021-10-05T21:16:06.956815Z",
     "start_time": "2021-10-05T21:16:06.952202Z"
    }
   },
   "outputs": [],
   "source": [
    "sc.set_figure_params(fontsize=15)"
   ]
  },
  {
   "cell_type": "code",
   "execution_count": 17,
   "metadata": {
    "ExecuteTime": {
     "end_time": "2021-10-05T21:16:06.968101Z",
     "start_time": "2021-10-05T21:16:06.961617Z"
    }
   },
   "outputs": [],
   "source": [
    "sns.set_style('ticks')"
   ]
  },
  {
   "cell_type": "code",
   "execution_count": 18,
   "metadata": {
    "ExecuteTime": {
     "end_time": "2021-10-05T21:16:06.978172Z",
     "start_time": "2021-10-05T21:16:06.973041Z"
    }
   },
   "outputs": [],
   "source": [
    "import matplotlib.pyplot as plt"
   ]
  },
  {
   "cell_type": "code",
   "execution_count": 19,
   "metadata": {
    "ExecuteTime": {
     "end_time": "2021-10-05T21:16:06.990574Z",
     "start_time": "2021-10-05T21:16:06.983094Z"
    }
   },
   "outputs": [
    {
     "data": {
      "text/plain": [
       "80"
      ]
     },
     "execution_count": 19,
     "metadata": {},
     "output_type": "execute_result"
    }
   ],
   "source": [
    "knee_point"
   ]
  },
  {
   "cell_type": "code",
   "execution_count": 22,
   "metadata": {
    "ExecuteTime": {
     "end_time": "2021-10-05T21:19:22.611496Z",
     "start_time": "2021-10-05T21:19:22.313110Z"
    }
   },
   "outputs": [
    {
     "data": {
      "image/png": "[encoded data removed]",
      "text/plain": [
       "<Figure size 400x400 with 1 Axes>"
      ]
     },
     "metadata": {
      "image/png": {
       "height": 387,
       "width": 400
      }
     },
     "output_type": "display_data"
    }
   ],
   "source": [
    "plt.figure(figsize=(5,5))\n",
    "plt.plot(np.cumsum(pca.explained_variance_ratio_))\n",
    "plt.xlabel('PCs')\n",
    "plt.ylabel('% variance explained')\n",
    "plt.axvline(knee_point, linestyle='--', color='k')\n",
    "plt.xlim([-10,310])\n",
    "plt.ylim(pca.explained_variance_ratio_[0],np.cumsum(pca.explained_variance_ratio_)[310])\n",
    "plt.title('Single cells from all samples', fontsize=18)\n",
    "\n",
    "plt.savefig(fig_dir + 'PCA.var_explained.combined.single_cell.010122.pdf')"
   ]
  },
  {
   "cell_type": "markdown",
   "metadata": {},
   "source": [
    "<h3> Cleaning </h3>"
   ]
  },
  {
   "cell_type": "code",
   "execution_count": 10,
   "metadata": {
    "ExecuteTime": {
     "end_time": "2022-04-28T06:20:05.070721Z",
     "start_time": "2022-04-28T06:20:05.054207Z"
    }
   },
   "outputs": [
    {
     "data": {
      "text/plain": [
       "AnnData object with n_obs × n_vars = 15677 × 14617\n",
       "    obs: 'n_genes_by_counts', 'log1p_n_genes_by_counts', 'total_counts', 'log1p_total_counts', 'pct_counts_in_top_50_genes', 'pct_counts_in_top_100_genes', 'pct_counts_in_top_200_genes', 'pct_counts_in_top_500_genes', 'original_total_counts', 'log10_original_total_counts', 'mito_frac', 'RBP_frac', 'batch', 'time', 'treatment', 'Basal vs Luminal by Correlation', 'MUT_WT', 'zscore_Luminal_Org1', 'zscore_Basal_Org1', 'zscore_Luminal_Org2', 'zscore_Basal_Org3', 'zscore_Basal_Org2', 'Basal Correlation', 'batch_plus_wt_cells', 'metacell_assignment', 'metacell_centers', 'pval_mc_Basal_Org1', 'pval_mc_Basal_Org2', 'pval_mc_Basal_Org3', 'pval_mc_Luminal_Org1', 'pval_mc_Luminal_Org2'\n",
       "    var: 'n_cells_by_counts', 'mean_counts', 'log1p_mean_counts', 'pct_dropout_by_counts', 'total_counts', 'log1p_total_counts', 'n_cells'\n",
       "    uns: 'batch_plus_wt_cells_colors', 'diffmap_evals_pca', 'neighbors', 'num_components', 'paga', 'rank_genes_groups', 'var_explained'\n",
       "    obsm: 'X_diffmap', 'X_draw_graph_fa', 'X_pca', 'X_umap'\n",
       "    layers: 'sctransform_residuals'\n",
       "    obsp: 'connectivities', 'distances'"
      ]
     },
     "execution_count": 10,
     "metadata": {},
     "output_type": "execute_result"
    }
   ],
   "source": [
    "adata"
   ]
  },
  {
   "cell_type": "code",
   "execution_count": 11,
   "metadata": {
    "ExecuteTime": {
     "end_time": "2022-04-28T06:21:08.341159Z",
     "start_time": "2022-04-28T06:21:08.322363Z"
    }
   },
   "outputs": [],
   "source": [
    "adata.obs = adata.obs.loc[:,~adata.obs.columns.str.contains('zscore')]"
   ]
  },
  {
   "cell_type": "code",
   "execution_count": 13,
   "metadata": {
    "ExecuteTime": {
     "end_time": "2022-04-28T06:21:15.111045Z",
     "start_time": "2022-04-28T06:21:15.099540Z"
    }
   },
   "outputs": [
    {
     "data": {
      "text/plain": [
       "AnnData object with n_obs × n_vars = 15677 × 14617\n",
       "    obs: 'n_genes_by_counts', 'log1p_n_genes_by_counts', 'total_counts', 'log1p_total_counts', 'pct_counts_in_top_50_genes', 'pct_counts_in_top_100_genes', 'pct_counts_in_top_200_genes', 'pct_counts_in_top_500_genes', 'original_total_counts', 'log10_original_total_counts', 'mito_frac', 'RBP_frac', 'batch', 'time', 'treatment', 'Basal vs Luminal by Correlation', 'MUT_WT', 'Basal Correlation', 'batch_plus_wt_cells', 'metacell_assignment', 'metacell_centers', 'pval_mc_Basal_Org1', 'pval_mc_Basal_Org2', 'pval_mc_Basal_Org3', 'pval_mc_Luminal_Org1', 'pval_mc_Luminal_Org2'\n",
       "    var: 'n_cells_by_counts', 'mean_counts', 'log1p_mean_counts', 'pct_dropout_by_counts', 'total_counts', 'log1p_total_counts', 'n_cells'\n",
       "    uns: 'batch_plus_wt_cells_colors', 'diffmap_evals_pca', 'neighbors', 'num_components', 'paga', 'rank_genes_groups', 'var_explained'\n",
       "    obsm: 'X_diffmap', 'X_draw_graph_fa', 'X_pca', 'X_umap'\n",
       "    layers: 'sctransform_residuals'\n",
       "    obsp: 'connectivities', 'distances'"
      ]
     },
     "execution_count": 13,
     "metadata": {},
     "output_type": "execute_result"
    }
   ],
   "source": [
    "adata"
   ]
  },
  {
   "cell_type": "code",
   "execution_count": 19,
   "metadata": {
    "ExecuteTime": {
     "end_time": "2022-04-28T06:24:25.722403Z",
     "start_time": "2022-04-28T06:24:25.707077Z"
    }
   },
   "outputs": [],
   "source": [
    "adata.obs.loc[:,'treatment'] = adata.obs.treatment.str.replace('DHT','Untreated')"
   ]
  },
  {
   "cell_type": "code",
   "execution_count": 22,
   "metadata": {
    "ExecuteTime": {
     "end_time": "2022-04-28T06:24:44.397337Z",
     "start_time": "2022-04-28T06:24:44.352344Z"
    }
   },
   "outputs": [],
   "source": [
    "tmp = adata.obs.batch.str.replace(' ','Wk').str.replace('DHT','')\n",
    "ind = tmp.str.contains('ENZ')\n",
    "tmp.loc[ind] = tmp.loc[ind].str.replace('ENZ','') + '+ENZ'\n",
    "adata.obs.loc[:,'batch'] = tmp"
   ]
  },
  {
   "cell_type": "code",
   "execution_count": 25,
   "metadata": {
    "ExecuteTime": {
     "end_time": "2022-04-28T06:25:09.079609Z",
     "start_time": "2022-04-28T06:25:09.039986Z"
    }
   },
   "outputs": [],
   "source": [
    "tmp = adata.obs.batch_plus_wt_cells.str.replace('DHT ','Wk')\n",
    "ind = tmp.str.contains('ENZ')\n",
    "tmp.loc[ind] = tmp.loc[ind].str.replace('ENZ ','Wk') + '+ENZ'\n",
    "adata.obs.loc[:,'batch_plus_wt_cells'] =  tmp"
   ]
  },
  {
   "cell_type": "code",
   "execution_count": 31,
   "metadata": {
    "ExecuteTime": {
     "end_time": "2022-04-28T06:25:34.531289Z",
     "start_time": "2022-04-28T06:25:34.520663Z"
    }
   },
   "outputs": [
    {
     "data": {
      "text/plain": [
       "AnnData object with n_obs × n_vars = 15677 × 14617\n",
       "    obs: 'n_genes_by_counts', 'log1p_n_genes_by_counts', 'total_counts', 'log1p_total_counts', 'pct_counts_in_top_50_genes', 'pct_counts_in_top_100_genes', 'pct_counts_in_top_200_genes', 'pct_counts_in_top_500_genes', 'original_total_counts', 'log10_original_total_counts', 'mito_frac', 'RBP_frac', 'batch', 'time', 'treatment', 'Basal vs Luminal by Correlation', 'MUT_WT', 'Basal Correlation', 'batch_plus_wt_cells', 'metacell_assignment', 'metacell_centers', 'pval_mc_Basal_Org1', 'pval_mc_Basal_Org2', 'pval_mc_Basal_Org3', 'pval_mc_Luminal_Org1', 'pval_mc_Luminal_Org2'\n",
       "    var: 'n_cells_by_counts', 'mean_counts', 'log1p_mean_counts', 'pct_dropout_by_counts', 'total_counts', 'log1p_total_counts', 'n_cells'\n",
       "    uns: 'batch_plus_wt_cells_colors', 'diffmap_evals_pca', 'neighbors', 'num_components', 'paga', 'rank_genes_groups', 'var_explained'\n",
       "    obsm: 'X_diffmap', 'X_draw_graph_fa', 'X_pca', 'X_umap'\n",
       "    layers: 'sctransform_residuals'\n",
       "    obsp: 'connectivities', 'distances'"
      ]
     },
     "execution_count": 31,
     "metadata": {},
     "output_type": "execute_result"
    }
   ],
   "source": [
    "adata"
   ]
  },
  {
   "cell_type": "code",
   "execution_count": 15,
   "metadata": {
    "ExecuteTime": {
     "end_time": "2022-05-05T19:57:57.990116Z",
     "start_time": "2022-05-05T19:57:57.980376Z"
    }
   },
   "outputs": [],
   "source": [
    "orig_dir = '/data/peer/chanj3/SCPC_transformation.021120/out.combined.021120/'"
   ]
  },
  {
   "cell_type": "code",
   "execution_count": 16,
   "metadata": {
    "ExecuteTime": {
     "end_time": "2022-05-05T19:58:54.003248Z",
     "start_time": "2022-05-05T19:57:58.314268Z"
    }
   },
   "outputs": [],
   "source": [
    "from scipy.io import mmread\n",
    "fn = orig_dir + 'counts.combined.genes.021120.csv'\n",
    "with open(fn, 'r') as f:\n",
    "    g = [i.strip() for i in f.readlines()]\n",
    "\n",
    "fn = orig_dir + 'counts.combined.barcodes.021120.csv'\n",
    "with open(fn, 'r') as f:\n",
    "    bc = [i.strip() for i in f.readlines()]\n",
    "\n",
    "from scipy.io import mmread\n",
    "fn = orig_dir + 'counts.combined.021120.mtx'\n",
    "counts = mmread(fn)"
   ]
  },
  {
   "cell_type": "code",
   "execution_count": 17,
   "metadata": {
    "ExecuteTime": {
     "end_time": "2022-05-05T19:58:54.987310Z",
     "start_time": "2022-05-05T19:58:54.007344Z"
    }
   },
   "outputs": [],
   "source": [
    "counts = pd.DataFrame(counts.tocsr().toarray(), index=bc, columns = g)"
   ]
  },
  {
   "cell_type": "code",
   "execution_count": 18,
   "metadata": {
    "ExecuteTime": {
     "end_time": "2022-05-05T19:58:54.993902Z",
     "start_time": "2022-05-05T19:58:54.991234Z"
    }
   },
   "outputs": [],
   "source": [
    "from scipy.sparse import csr_matrix"
   ]
  },
  {
   "cell_type": "code",
   "execution_count": 19,
   "metadata": {
    "ExecuteTime": {
     "end_time": "2022-05-05T19:59:21.511336Z",
     "start_time": "2022-05-05T19:59:17.440200Z"
    }
   },
   "outputs": [],
   "source": [
    "adata_tmp =sc.AnnData(csr_matrix(counts.loc[adata.obs.index, :].values))"
   ]
  },
  {
   "cell_type": "code",
   "execution_count": 20,
   "metadata": {
    "ExecuteTime": {
     "end_time": "2022-05-05T19:59:44.993876Z",
     "start_time": "2022-05-05T19:59:44.980691Z"
    }
   },
   "outputs": [],
   "source": [
    "adata_tmp.obs_names = adata.obs.index\n",
    "adata_tmp.var_names = counts.columns"
   ]
  },
  {
   "cell_type": "code",
   "execution_count": 23,
   "metadata": {
    "ExecuteTime": {
     "end_time": "2022-05-05T20:00:02.110314Z",
     "start_time": "2022-05-05T20:00:01.911622Z"
    }
   },
   "outputs": [],
   "source": [
    "adata.raw = adata_tmp"
   ]
  },
  {
   "cell_type": "code",
   "execution_count": 28,
   "metadata": {
    "ExecuteTime": {
     "end_time": "2022-05-05T20:00:26.581465Z",
     "start_time": "2022-05-05T20:00:26.566544Z"
    }
   },
   "outputs": [],
   "source": [
    "del adata.obsm['raw_counts']"
   ]
  },
  {
   "cell_type": "code",
   "execution_count": 30,
   "metadata": {
    "ExecuteTime": {
     "end_time": "2022-05-05T20:01:13.848461Z",
     "start_time": "2022-05-05T20:01:09.406664Z"
    }
   },
   "outputs": [],
   "source": [
    "orig_dir = '/data/peer/chanj3/SCPC_transformation.021120/out.combined.021120/'\n",
    "imp_merge = pd.read_hdf(orig_dir + 'imp_df.120120.h5',key='imp_merge')"
   ]
  },
  {
   "cell_type": "code",
   "execution_count": 40,
   "metadata": {
    "ExecuteTime": {
     "end_time": "2022-05-05T20:02:58.522416Z",
     "start_time": "2022-05-05T20:02:56.817366Z"
    }
   },
   "outputs": [],
   "source": [
    "adata.layers['imputed'] = imp_merge.loc[adata.obs.index, adata.var_names].astype(np.float16).values"
   ]
  },
  {
   "cell_type": "code",
   "execution_count": 45,
   "metadata": {
    "ExecuteTime": {
     "end_time": "2022-05-06T05:22:48.536412Z",
     "start_time": "2022-05-06T05:22:48.525135Z"
    }
   },
   "outputs": [],
   "source": [
    "order = ['Wk0','Wk2','Wk4','Wk8','Wk4+ENZ','Wk8+ENZ']"
   ]
  },
  {
   "cell_type": "code",
   "execution_count": 47,
   "metadata": {
    "ExecuteTime": {
     "end_time": "2022-05-06T05:23:01.554015Z",
     "start_time": "2022-05-06T05:23:01.540472Z"
    }
   },
   "outputs": [],
   "source": [
    "adata.obs.batch = adata.obs.batch.cat.reorder_categories(order)"
   ]
  },
  {
   "cell_type": "code",
   "execution_count": 52,
   "metadata": {
    "ExecuteTime": {
     "end_time": "2022-05-06T05:32:56.286393Z",
     "start_time": "2022-05-06T05:32:56.280983Z"
    }
   },
   "outputs": [],
   "source": [
    "order = ['Wk0: Basal_Org1', 'Wk0: Basal_Org2', 'Wk0: Basal_Org3',\n",
    "       'Wk0: Luminal_Org1', 'Wk0: Luminal_Org2', 'Wk2', 'Wk4', 'Wk8', \n",
    "       'Wk4+ENZ','Wk8+ENZ']"
   ]
  },
  {
   "cell_type": "code",
   "execution_count": 53,
   "metadata": {
    "ExecuteTime": {
     "end_time": "2022-05-06T05:33:20.191785Z",
     "start_time": "2022-05-06T05:33:20.178635Z"
    }
   },
   "outputs": [],
   "source": [
    "adata.obs.batch_plus_wt_cells = adata.obs.batch_plus_wt_cells.cat.reorder_categories(order)"
   ]
  },
  {
   "cell_type": "code",
   "execution_count": 22,
   "metadata": {
    "ExecuteTime": {
     "end_time": "2022-05-07T15:58:26.693840Z",
     "start_time": "2022-05-07T15:58:26.686365Z"
    }
   },
   "outputs": [],
   "source": [
    "del adata.uns['rank_genes_groups']"
   ]
  },
  {
   "cell_type": "markdown",
   "metadata": {},
   "source": [
    "<h3> Add WT-deg </h3>"
   ]
  },
  {
   "cell_type": "code",
   "execution_count": 15,
   "metadata": {
    "ExecuteTime": {
     "end_time": "2022-05-07T20:42:47.567812Z",
     "start_time": "2022-05-07T20:42:47.561148Z"
    }
   },
   "outputs": [],
   "source": [
    "wtdeg_dir = '/home/chanj3/data/SCPC_transformation.single_cell.resubmission.010122/out.single_cell.wt_deg.010122/'"
   ]
  },
  {
   "cell_type": "code",
   "execution_count": 16,
   "metadata": {
    "ExecuteTime": {
     "end_time": "2022-05-07T20:42:49.183615Z",
     "start_time": "2022-05-07T20:42:47.786862Z"
    }
   },
   "outputs": [
    {
     "name": "stdout",
     "output_type": "stream",
     "text": [
      "WARNING: Your filename has more than two extensions: ['.wt_deg', '.010122', '.h5ad'].\n",
      "Only considering the two last: ['.010122', '.h5ad'].\n",
      "WARNING: Your filename has more than two extensions: ['.wt_deg', '.010122', '.h5ad'].\n",
      "Only considering the two last: ['.010122', '.h5ad'].\n"
     ]
    }
   ],
   "source": [
    "adata_wtdeg = sc.read(wtdeg_dir + 'adata.wt_deg.010122.h5ad')\n"
   ]
  },
  {
   "cell_type": "code",
   "execution_count": 37,
   "metadata": {
    "ExecuteTime": {
     "end_time": "2022-05-07T22:38:42.945343Z",
     "start_time": "2022-05-07T22:38:04.149222Z"
    }
   },
   "outputs": [
    {
     "name": "stderr",
     "output_type": "stream",
     "text": [
      "/home/chanj3/anaconda3/envs/py3.7/lib/python3.7/site-packages/numba/np/ufunc/parallel.py:363: NumbaWarning: \u001b[1mThe TBB threading layer requires TBB version 2019.5 or later i.e., TBB_INTERFACE_VERSION >= 11005. Found TBB_INTERFACE_VERSION = 6103. The TBB threading layer is disabled.\u001b[0m\n",
      "  warnings.warn(problem)\n"
     ]
    }
   ],
   "source": [
    "n_neighbors = 25\n",
    "sc.pp.neighbors(adata_wtdeg, n_neighbors=n_neighbors, n_pcs=adata_wtdeg.obsm['X_pca'].shape[1])\n",
    "sc.tl.diffmap(adata_wtdeg, n_comps = 25)"
   ]
  },
  {
   "cell_type": "code",
   "execution_count": 34,
   "metadata": {
    "ExecuteTime": {
     "end_time": "2022-05-07T22:37:27.803519Z",
     "start_time": "2022-05-07T22:37:27.796296Z"
    }
   },
   "outputs": [
    {
     "data": {
      "text/plain": [
       "AnnData object with n_obs × n_vars = 15677 × 14829\n",
       "    obs: 'n_genes_by_counts', 'log1p_n_genes_by_counts', 'total_counts', 'log1p_total_counts', 'pct_counts_in_top_50_genes', 'pct_counts_in_top_100_genes', 'pct_counts_in_top_200_genes', 'pct_counts_in_top_500_genes', 'sample', 'original_total_counts', 'log10_original_total_counts', 'mito_frac', 'RBP_frac', 'phenograph', 'time', 'treatment', 'batch', 'pval_mc_Basal_Org1', 'pval_mc_Basal_Org2', 'pval_mc_Basal_Org3', 'pval_mc_Luminal_Org2', 'pval_mc_Luminal_Org1'\n",
       "    var: 'n_cells_by_counts', 'mean_counts', 'log1p_mean_counts', 'pct_dropout_by_counts', 'total_counts', 'log1p_total_counts', 'n_cells'\n",
       "    uns: 'diffmap_evals', 'neighbors', 'num_components', 'var_explained'\n",
       "    obsm: 'X_diffmap', 'X_pca'\n",
       "    layers: 'sctransform_residuals'\n",
       "    obsp: 'connectivities', 'distances'"
      ]
     },
     "execution_count": 34,
     "metadata": {},
     "output_type": "execute_result"
    }
   ],
   "source": [
    "adata_wtdeg"
   ]
  },
  {
   "cell_type": "code",
   "execution_count": 22,
   "metadata": {
    "ExecuteTime": {
     "end_time": "2022-05-07T20:45:18.124099Z",
     "start_time": "2022-05-07T20:45:18.112567Z"
    }
   },
   "outputs": [
    {
     "data": {
      "text/plain": [
       "AnnData object with n_obs × n_vars = 15677 × 14617\n",
       "    obs: 'n_genes_by_counts', 'log1p_n_genes_by_counts', 'total_counts', 'log1p_total_counts', 'pct_counts_in_top_50_genes', 'pct_counts_in_top_100_genes', 'pct_counts_in_top_200_genes', 'pct_counts_in_top_500_genes', 'original_total_counts', 'log10_original_total_counts', 'mito_frac', 'RBP_frac', 'batch', 'time', 'treatment', 'Basal vs Luminal by Correlation', 'MUT_WT', 'Basal Correlation', 'batch_plus_wt_cells', 'metacell_assignment', 'metacell_centers', 'pval_mc_Basal_Org1', 'pval_mc_Basal_Org2', 'pval_mc_Basal_Org3', 'pval_mc_Luminal_Org1', 'pval_mc_Luminal_Org2'\n",
       "    var: 'n_cells_by_counts', 'mean_counts', 'log1p_mean_counts', 'pct_dropout_by_counts', 'total_counts', 'log1p_total_counts', 'n_cells'\n",
       "    uns: 'batch_plus_wt_cells_colors', 'diffmap_evals_pca', 'neighbors', 'num_components', 'paga', 'var_explained'\n",
       "    obsm: 'X_diffmap', 'X_draw_graph_fa', 'X_pca', 'X_umap', 'X_diffmap_wtdeg', 'X_pca_wtdeg'\n",
       "    layers: 'imputed', 'sctransform_residuals'\n",
       "    obsp: 'connectivities', 'distances'"
      ]
     },
     "execution_count": 22,
     "metadata": {},
     "output_type": "execute_result"
    }
   ],
   "source": [
    "adata"
   ]
  },
  {
   "cell_type": "code",
   "execution_count": 38,
   "metadata": {
    "ExecuteTime": {
     "end_time": "2022-05-07T22:38:57.599938Z",
     "start_time": "2022-05-07T22:38:57.593098Z"
    }
   },
   "outputs": [],
   "source": [
    "adata.obsm['X_diffmap_wtdeg'] = adata_wtdeg.obsm['X_diffmap']\n",
    "adata.uns['diffmap_evals_wtdeg'] = adata_wtdeg.uns['diffmap_evals']\n",
    "adata.uns['neighbors_wtdeg'] = adata_wtdeg.uns['neighbors']"
   ]
  },
  {
   "cell_type": "code",
   "execution_count": 20,
   "metadata": {
    "ExecuteTime": {
     "end_time": "2022-05-07T20:44:02.484148Z",
     "start_time": "2022-05-07T20:44:02.478718Z"
    }
   },
   "outputs": [],
   "source": [
    "adata.obsm['X_pca_wtdeg'] = adata_wtdeg.obsm['X_pca']"
   ]
  },
  {
   "cell_type": "code",
   "execution_count": 24,
   "metadata": {
    "ExecuteTime": {
     "end_time": "2022-05-07T20:46:39.211689Z",
     "start_time": "2022-05-07T20:46:39.199071Z"
    }
   },
   "outputs": [],
   "source": [
    "adata.uns['diffmap_evals'] = adata.uns['diffmap_evals_pca']\n",
    "del adata.uns['diffmap_evals_pca']\n",
    "adata.uns['num_components_wtdeg'] = adata_wtdeg.uns['num_components']\n",
    "adata.uns['var_explained_wtdeg'] = adata_wtdeg.uns['var_explained']"
   ]
  },
  {
   "cell_type": "code",
   "execution_count": 25,
   "metadata": {
    "ExecuteTime": {
     "end_time": "2022-05-07T20:46:42.018082Z",
     "start_time": "2022-05-07T20:46:42.005429Z"
    }
   },
   "outputs": [
    {
     "data": {
      "text/plain": [
       "AnnData object with n_obs × n_vars = 15677 × 14617\n",
       "    obs: 'n_genes_by_counts', 'log1p_n_genes_by_counts', 'total_counts', 'log1p_total_counts', 'pct_counts_in_top_50_genes', 'pct_counts_in_top_100_genes', 'pct_counts_in_top_200_genes', 'pct_counts_in_top_500_genes', 'original_total_counts', 'log10_original_total_counts', 'mito_frac', 'RBP_frac', 'batch', 'time', 'treatment', 'Basal vs Luminal by Correlation', 'MUT_WT', 'Basal Correlation', 'batch_plus_wt_cells', 'metacell_assignment', 'metacell_centers', 'pval_mc_Basal_Org1', 'pval_mc_Basal_Org2', 'pval_mc_Basal_Org3', 'pval_mc_Luminal_Org1', 'pval_mc_Luminal_Org2'\n",
       "    var: 'n_cells_by_counts', 'mean_counts', 'log1p_mean_counts', 'pct_dropout_by_counts', 'total_counts', 'log1p_total_counts', 'n_cells'\n",
       "    uns: 'batch_plus_wt_cells_colors', 'neighbors', 'num_components', 'paga', 'var_explained', 'diffmap_evals', 'diffmap_evals_wtdeg', 'neighbors_wtdeg', 'num_components_wtdeg', 'var_explained_wtdeg'\n",
       "    obsm: 'X_diffmap', 'X_draw_graph_fa', 'X_pca', 'X_umap', 'X_diffmap_wtdeg', 'X_pca_wtdeg'\n",
       "    layers: 'imputed', 'sctransform_residuals'\n",
       "    obsp: 'connectivities', 'distances'"
      ]
     },
     "execution_count": 25,
     "metadata": {},
     "output_type": "execute_result"
    }
   ],
   "source": [
    "adata"
   ]
  },
  {
   "cell_type": "code",
   "execution_count": 28,
   "metadata": {
    "ExecuteTime": {
     "end_time": "2022-05-07T20:50:26.094450Z",
     "start_time": "2022-05-07T20:50:26.069868Z"
    }
   },
   "outputs": [],
   "source": [
    "ref_dir='/home/chanj3/data/Prostate.LP.publication.010122/out.metacells.individual.010122/Wk0/MAST.phenograph/'\n",
    "with open(ref_dir + 'wt_deg.filtered.100121.txt','r') as f:\n",
    "    wt_deg = [i.strip() for i in f.readlines()]"
   ]
  },
  {
   "cell_type": "code",
   "execution_count": 31,
   "metadata": {
    "ExecuteTime": {
     "end_time": "2022-05-07T20:51:07.746506Z",
     "start_time": "2022-05-07T20:51:07.715255Z"
    }
   },
   "outputs": [],
   "source": [
    "adata.var.loc[:,'Curated_WT_DEGs'] = adata.var.index.isin(wt_deg)"
   ]
  },
  {
   "cell_type": "markdown",
   "metadata": {},
   "source": [
    "### Add WT subtypes"
   ]
  },
  {
   "cell_type": "code",
   "execution_count": null,
   "metadata": {},
   "outputs": [],
   "source": []
  },
  {
   "cell_type": "code",
   "execution_count": null,
   "metadata": {},
   "outputs": [],
   "source": []
  },
  {
   "cell_type": "code",
   "execution_count": null,
   "metadata": {},
   "outputs": [],
   "source": []
  },
  {
   "cell_type": "markdown",
   "metadata": {},
   "source": [
    "### Save Data"
   ]
  },
  {
   "cell_type": "code",
   "execution_count": 39,
   "metadata": {
    "ExecuteTime": {
     "end_time": "2022-05-07T22:39:03.693410Z",
     "start_time": "2022-05-07T22:39:03.688007Z"
    }
   },
   "outputs": [],
   "source": [
    "out_dir = '/home/chanj3/data/Prostate.LP.publication.010122/out.single_cell.combined.010122/'\n",
    "os.makedirs(out_dir, exist_ok=True)"
   ]
  },
  {
   "cell_type": "code",
   "execution_count": 40,
   "metadata": {
    "ExecuteTime": {
     "end_time": "2022-05-07T22:39:05.109705Z",
     "start_time": "2022-05-07T22:39:04.229445Z"
    }
   },
   "outputs": [],
   "source": [
    "adata.write_h5ad(out_dir + 'adata.single_cell.combined.010122.h5ad')"
   ]
  },
  {
   "cell_type": "code",
   "execution_count": 43,
   "metadata": {
    "ExecuteTime": {
     "end_time": "2022-04-28T06:31:53.262242Z",
     "start_time": "2022-04-28T06:31:52.940190Z"
    }
   },
   "outputs": [],
   "source": [
    "adata.obs.to_csv(out_dir + 'obs.single_cell.combined.010122.txt', sep='\\t')"
   ]
  },
  {
   "cell_type": "code",
   "execution_count": 44,
   "metadata": {
    "ExecuteTime": {
     "end_time": "2022-04-28T06:31:54.728236Z",
     "start_time": "2022-04-28T06:31:53.265577Z"
    }
   },
   "outputs": [],
   "source": [
    "for i in ['X_pca', 'X_umap', 'X_draw_graph_fa']:\n",
    "    root = re.sub('X_','',i)\n",
    "    df = pd.DataFrame(adata.obsm[i],index=adata.obs.index)\n",
    "    df.index.name = 'Cell'\n",
    "    if i=='X_umap' or i =='X_draw_graph_Fa':\n",
    "        df.columns = ['x','y']\n",
    "    df.to_csv(out_dir + root + '.single_cell.combined.010122.txt', sep='\\t')"
   ]
  },
  {
   "cell_type": "code",
   "execution_count": null,
   "metadata": {},
   "outputs": [],
   "source": []
  }
 ],
 "metadata": {
  "kernelspec": {
   "display_name": "Python 3",
   "language": "python",
   "name": "python3"
  },
  "language_info": {
   "codemirror_mode": {
    "name": "ipython",
    "version": 3
   },
   "file_extension": ".py",
   "mimetype": "text/x-python",
   "name": "python",
   "nbconvert_exporter": "python",
   "pygments_lexer": "ipython3",
   "version": "3.7.0"
  },
  "toc": {
   "base_numbering": 1,
   "nav_menu": {},
   "number_sections": true,
   "sideBar": true,
   "skip_h1_title": false,
   "title_cell": "Table of Contents",
   "title_sidebar": "Contents",
   "toc_cell": false,
   "toc_position": {},
   "toc_section_display": true,
   "toc_window_display": true
  }
 },
 "nbformat": 4,
 "nbformat_minor": 2
}
