{
 "cells": [
  {
   "cell_type": "code",
   "execution_count": 1,
   "metadata": {
    "ExecuteTime": {
     "end_time": "2021-10-06T21:59:50.152000Z",
     "start_time": "2021-10-06T21:59:39.948864Z"
    }
   },
   "outputs": [],
   "source": [
    "import numpy as np\n",
    "import pandas as pd\n",
    "import scanpy as sc\n",
    "import matplotlib\n",
    "from shutil import copyfile"
   ]
  },
  {
   "cell_type": "code",
   "execution_count": 2,
   "metadata": {
    "ExecuteTime": {
     "end_time": "2021-10-06T21:59:50.165562Z",
     "start_time": "2021-10-06T21:59:50.159485Z"
    }
   },
   "outputs": [],
   "source": [
    "import os\n",
    "import pandas as pd\n",
    "import re\n",
    "import numpy as np\n",
    "import glob\n",
    "from pathlib import Path\n",
    "from scipy import sparse\n",
    "from copy import deepcopy\n",
    "import pickle\n"
   ]
  },
  {
   "cell_type": "markdown",
   "metadata": {},
   "source": [
    "<h3> Load data </h3>"
   ]
  },
  {
   "cell_type": "code",
   "execution_count": 3,
   "metadata": {
    "ExecuteTime": {
     "end_time": "2021-10-06T21:59:50.178615Z",
     "start_time": "2021-10-06T21:59:50.172368Z"
    }
   },
   "outputs": [],
   "source": [
    "samples = ['CRE_2_DHT','CRE_4_DHT','CRE_8_DHT','CRE_4_ENZ','CRE_8_ENZ']"
   ]
  },
  {
   "cell_type": "code",
   "execution_count": 4,
   "metadata": {
    "ExecuteTime": {
     "end_time": "2021-10-04T22:41:14.256616Z",
     "start_time": "2021-10-04T22:41:14.251226Z"
    }
   },
   "outputs": [],
   "source": [
    "samples2 = ['DHT_2','DHT_4','DHT_8','ENZ_4','ENZ_8']"
   ]
  },
  {
   "cell_type": "code",
   "execution_count": 6,
   "metadata": {
    "ExecuteTime": {
     "end_time": "2021-10-06T22:00:06.447371Z",
     "start_time": "2021-10-06T22:00:05.635005Z"
    }
   },
   "outputs": [
    {
     "name": "stdout",
     "output_type": "stream",
     "text": [
      "/home/chanj3/data/SCPC_transformation.metacells.120120/out.cell_line.individual.120120/CRE_0_DHT/adata.metacells.CRE_0_DHT.170.h5ad\n",
      "WARNING: Your filename has more than two extensions: ['.metacells', '.CRE_0_DHT', '.170', '.h5ad'].\n",
      "Only considering the two last: ['.170', '.h5ad'].\n",
      "WARNING: Your filename has more than two extensions: ['.metacells', '.CRE_0_DHT', '.170', '.h5ad'].\n",
      "Only considering the two last: ['.170', '.h5ad'].\n",
      "/home/chanj3/data/SCPC_transformation.metacells.120120/out.cell_line.individual.120120/CRE_2_DHT/adata.metacells.CRE_2_DHT.160.h5ad\n",
      "WARNING: Your filename has more than two extensions: ['.metacells', '.CRE_2_DHT', '.160', '.h5ad'].\n",
      "Only considering the two last: ['.160', '.h5ad'].\n",
      "WARNING: Your filename has more than two extensions: ['.metacells', '.CRE_2_DHT', '.160', '.h5ad'].\n",
      "Only considering the two last: ['.160', '.h5ad'].\n",
      "/home/chanj3/data/SCPC_transformation.metacells.120120/out.cell_line.individual.120120/CRE_4_DHT/adata.metacells.CRE_4_DHT.180.h5ad\n",
      "WARNING: Your filename has more than two extensions: ['.metacells', '.CRE_4_DHT', '.180', '.h5ad'].\n",
      "Only considering the two last: ['.180', '.h5ad'].\n",
      "WARNING: Your filename has more than two extensions: ['.metacells', '.CRE_4_DHT', '.180', '.h5ad'].\n",
      "Only considering the two last: ['.180', '.h5ad'].\n",
      "/home/chanj3/data/SCPC_transformation.metacells.120120/out.cell_line.individual.120120/CRE_8_DHT/adata.metacells.CRE_8_DHT.120.h5ad\n",
      "WARNING: Your filename has more than two extensions: ['.metacells', '.CRE_8_DHT', '.120', '.h5ad'].\n",
      "Only considering the two last: ['.120', '.h5ad'].\n",
      "WARNING: Your filename has more than two extensions: ['.metacells', '.CRE_8_DHT', '.120', '.h5ad'].\n",
      "Only considering the two last: ['.120', '.h5ad'].\n",
      "/home/chanj3/data/SCPC_transformation.metacells.120120/out.cell_line.individual.120120/CRE_4_ENZ/adata.metacells.CRE_4_ENZ.170.h5ad\n",
      "WARNING: Your filename has more than two extensions: ['.metacells', '.CRE_4_ENZ', '.170', '.h5ad'].\n",
      "Only considering the two last: ['.170', '.h5ad'].\n",
      "WARNING: Your filename has more than two extensions: ['.metacells', '.CRE_4_ENZ', '.170', '.h5ad'].\n",
      "Only considering the two last: ['.170', '.h5ad'].\n",
      "/home/chanj3/data/SCPC_transformation.metacells.120120/out.cell_line.individual.120120/CRE_8_ENZ/adata.metacells.CRE_8_ENZ.120.h5ad\n",
      "WARNING: Your filename has more than two extensions: ['.metacells', '.CRE_8_ENZ', '.120', '.h5ad'].\n",
      "Only considering the two last: ['.120', '.h5ad'].\n",
      "WARNING: Your filename has more than two extensions: ['.metacells', '.CRE_8_ENZ', '.120', '.h5ad'].\n",
      "Only considering the two last: ['.120', '.h5ad'].\n"
     ]
    }
   ],
   "source": [
    "for i,j in zip(samples, samples2):\n",
    "    wdir = '/home/chanj3/data/SCPC_transformation.metacells.120120/out.cell_line.individual.120120/%s/' % i\n",
    "    fn = glob.glob(wdir + 'adata.metacells.%s.*.h5ad' % i)[0]\n",
    "    print(fn)\n",
    "    adata = sc.read(fn)\n",
    "    break"
   ]
  },
  {
   "cell_type": "code",
   "execution_count": 10,
   "metadata": {
    "ExecuteTime": {
     "end_time": "2021-10-01T06:36:44.466561Z",
     "start_time": "2021-10-01T06:36:41.743666Z"
    }
   },
   "outputs": [
    {
     "name": "stdout",
     "output_type": "stream",
     "text": [
      "/home/chanj3/data/SCPC_transformation.metacells.120120/out.cell_line.individual.120120/CRE_2_DHT/adata.metacells.CRE_2_DHT.160.h5ad\n",
      "WARNING: Your filename has more than two extensions: ['.metacells', '.CRE_2_DHT', '.160', '.h5ad'].\n",
      "Only considering the two last: ['.160', '.h5ad'].\n",
      "WARNING: Your filename has more than two extensions: ['.metacells', '.CRE_2_DHT', '.160', '.h5ad'].\n",
      "Only considering the two last: ['.160', '.h5ad'].\n",
      "/home/chanj3/data/SCPC_transformation.metacells.120120/out.cell_line.individual.120120/CRE_4_DHT/adata.metacells.CRE_4_DHT.180.h5ad\n",
      "WARNING: Your filename has more than two extensions: ['.metacells', '.CRE_4_DHT', '.180', '.h5ad'].\n",
      "Only considering the two last: ['.180', '.h5ad'].\n",
      "WARNING: Your filename has more than two extensions: ['.metacells', '.CRE_4_DHT', '.180', '.h5ad'].\n",
      "Only considering the two last: ['.180', '.h5ad'].\n",
      "/home/chanj3/data/SCPC_transformation.metacells.120120/out.cell_line.individual.120120/CRE_8_DHT/adata.metacells.CRE_8_DHT.120.h5ad\n",
      "WARNING: Your filename has more than two extensions: ['.metacells', '.CRE_8_DHT', '.120', '.h5ad'].\n",
      "Only considering the two last: ['.120', '.h5ad'].\n",
      "WARNING: Your filename has more than two extensions: ['.metacells', '.CRE_8_DHT', '.120', '.h5ad'].\n",
      "Only considering the two last: ['.120', '.h5ad'].\n",
      "/home/chanj3/data/SCPC_transformation.metacells.120120/out.cell_line.individual.120120/CRE_4_ENZ/adata.metacells.CRE_4_ENZ.170.h5ad\n",
      "WARNING: Your filename has more than two extensions: ['.metacells', '.CRE_4_ENZ', '.170', '.h5ad'].\n",
      "Only considering the two last: ['.170', '.h5ad'].\n",
      "WARNING: Your filename has more than two extensions: ['.metacells', '.CRE_4_ENZ', '.170', '.h5ad'].\n",
      "Only considering the two last: ['.170', '.h5ad'].\n",
      "/home/chanj3/data/SCPC_transformation.metacells.120120/out.cell_line.individual.120120/CRE_8_ENZ/adata.metacells.CRE_8_ENZ.120.h5ad\n",
      "WARNING: Your filename has more than two extensions: ['.metacells', '.CRE_8_ENZ', '.120', '.h5ad'].\n",
      "Only considering the two last: ['.120', '.h5ad'].\n",
      "WARNING: Your filename has more than two extensions: ['.metacells', '.CRE_8_ENZ', '.120', '.h5ad'].\n",
      "Only considering the two last: ['.120', '.h5ad'].\n"
     ]
    }
   ],
   "source": [
    "for i,j in zip(samples, samples2):\n",
    "    wdir = '/home/chanj3/data/SCPC_transformation.metacells.120120/out.cell_line.individual.120120/%s/' % i\n",
    "    fn = glob.glob(wdir + 'adata.metacells.%s.*.h5ad' % i)[0]\n",
    "    print(fn)\n",
    "    adata = sc.read(fn)\n",
    "    \n",
    "    adata.obs = adata.obs.drop(['batch'], axis=1)\n",
    "    adata.obs.columns = adata.obs.columns.str.replace('sizes','metacell_sizes').str.replace('centers','metacell_centers')\n",
    "    adata.obs.columns = adata.obs.columns.str.replace('Basal-Luminal','Basal vs Luminal by Correlation')\n",
    "    \n",
    "    del adata.obsm['X_draw_graph_all_genes']\n",
    "    del adata.obsm['X_umap_all_genes']\n",
    "    \n",
    "    adata.layers['raw_counts'] = adata.obsm['raw_counts']\n",
    "    del adata.obsm['raw_counts']\n",
    "    \n",
    "    out_dir = '/home/chanj3/data/Prostate_Organoid.LP.publication.100121/out.metacells.individual.100121/%s/' % j\n",
    "\n",
    "    adata.write_h5ad(out_dir + 'adata.metacells.%s.100121.h5ad' % j)\n",
    "\n",
    "    adata.obs.to_csv(out_dir + 'obs.metacells.%s.100121.txt' % j, sep='\\t')\n",
    "\n",
    "    for x in ['X_pca', 'X_umap']:\n",
    "        root = re.sub('X_','',x)\n",
    "        df = pd.DataFrame(adata.obsm[x],index=adata.obs.index)\n",
    "        df.index.name = 'Cell'\n",
    "        if x=='X_umap':\n",
    "            df.columns = ['x','y']\n",
    "        df.to_csv(out_dir + root + '.metacells.%s.100121.txt' % j, sep='\\t')\n",
    "    \n",
    "\n",
    "    \n",
    "    "
   ]
  },
  {
   "cell_type": "code",
   "execution_count": 8,
   "metadata": {
    "ExecuteTime": {
     "end_time": "2021-10-03T07:41:14.701294Z",
     "start_time": "2021-10-03T07:41:14.692136Z"
    }
   },
   "outputs": [],
   "source": [
    "samples = ['CRE_0_DHT','CRE_2_DHT','CRE_4_DHT','CRE_8_DHT','CRE_4_ENZ','CRE_8_ENZ']"
   ]
  },
  {
   "cell_type": "code",
   "execution_count": 9,
   "metadata": {
    "ExecuteTime": {
     "end_time": "2021-10-03T07:42:31.701058Z",
     "start_time": "2021-10-03T07:42:31.692061Z"
    }
   },
   "outputs": [],
   "source": [
    "samples2 = ['DHT_0','DHT_2','DHT_4','DHT_8','ENZ_4','ENZ_8']"
   ]
  },
  {
   "cell_type": "code",
   "execution_count": 10,
   "metadata": {
    "ExecuteTime": {
     "end_time": "2021-10-03T07:42:33.750971Z",
     "start_time": "2021-10-03T07:42:32.992421Z"
    }
   },
   "outputs": [],
   "source": [
    "for i,j in zip(samples, samples2):\n",
    "    out_dir = '/home/chanj3/data/Prostate_Organoid.LP.publication.100121/out.metacells.individual.100121/%s/' % j\n",
    "\n",
    "    adata = sc.read_h5ad(out_dir + 'adata.metacells.%s.100121.h5ad' % j)\n",
    "\n",
    "    for x in ['X_draw_graph_fa']:\n",
    "        root = re.sub('X_','',x)\n",
    "        df = pd.DataFrame(adata.obsm[x],index=adata.obs.index)\n",
    "        df.index.name = 'Cell'\n",
    "        if x=='X_draw_graph_fa':\n",
    "            df.columns = ['x','y']\n",
    "        df.to_csv(out_dir + root + '.metacells.%s.100121.txt' % j, sep='\\t')\n",
    "    \n",
    "\n",
    "    \n",
    "    "
   ]
  },
  {
   "cell_type": "code",
   "execution_count": 7,
   "metadata": {
    "ExecuteTime": {
     "end_time": "2021-10-01T23:24:27.113186Z",
     "start_time": "2021-10-01T23:24:27.107342Z"
    }
   },
   "outputs": [],
   "source": [
    "samples = ['CRE_0_DHT','CRE_2_DHT','CRE_4_DHT','CRE_8_DHT','CRE_4_ENZ','CRE_8_ENZ']"
   ]
  },
  {
   "cell_type": "code",
   "execution_count": 8,
   "metadata": {
    "ExecuteTime": {
     "end_time": "2021-10-01T23:24:27.316298Z",
     "start_time": "2021-10-01T23:24:27.311332Z"
    }
   },
   "outputs": [],
   "source": [
    "samples2 = ['DHT_0','DHT_2','DHT_4','DHT_8','ENZ_4','ENZ_8']"
   ]
  },
  {
   "cell_type": "code",
   "execution_count": 15,
   "metadata": {
    "ExecuteTime": {
     "end_time": "2021-10-01T23:26:24.043048Z",
     "start_time": "2021-10-01T23:26:23.943845Z"
    }
   },
   "outputs": [
    {
     "name": "stdout",
     "output_type": "stream",
     "text": [
      "/home/chanj3/data/SCPC_transformation.metacells.120120/out.cell_line.individual.120120/CRE_0_DHT/knn.metacells.metacells.CRE_0_DHT.170.mtx\n",
      "/home/chanj3/data/SCPC_transformation.metacells.120120/out.cell_line.individual.120120/CRE_2_DHT/knn.metacells.metacells.CRE_2_DHT.160.mtx\n",
      "/home/chanj3/data/SCPC_transformation.metacells.120120/out.cell_line.individual.120120/CRE_4_DHT/knn.metacells.metacells.CRE_4_DHT.180.mtx\n",
      "/home/chanj3/data/SCPC_transformation.metacells.120120/out.cell_line.individual.120120/CRE_8_DHT/knn.metacells.metacells.CRE_8_DHT.120.mtx\n",
      "/home/chanj3/data/SCPC_transformation.metacells.120120/out.cell_line.individual.120120/CRE_4_ENZ/knn.metacells.metacells.CRE_4_ENZ.170.mtx\n",
      "/home/chanj3/data/SCPC_transformation.metacells.120120/out.cell_line.individual.120120/CRE_8_ENZ/knn.metacells.metacells.CRE_8_ENZ.120.mtx\n"
     ]
    }
   ],
   "source": [
    "for i,j in zip(samples, samples2):\n",
    "    wdir = '/home/chanj3/data/SCPC_transformation.metacells.120120/out.cell_line.individual.120120/%s/' % i\n",
    "    fn = glob.glob(wdir + 'knn.*.%s.*.mtx' % i)[0]\n",
    "    print(fn)\n",
    "        \n",
    "    out_dir = '/home/chanj3/data/Prostate_Organoid.LP.publication.100121/out.metacells.individual.100121/%s/' % j\n",
    "    fn2 = re.sub('metacells.metacells','metacells', os.path.basename(fn))\n",
    "    fn2 = re.sub(i,j, fn2)\n",
    "    \n",
    "    copyfile(fn, out_dir + fn2)\n",
    "\n"
   ]
  },
  {
   "cell_type": "code",
   "execution_count": null,
   "metadata": {},
   "outputs": [],
   "source": []
  },
  {
   "cell_type": "code",
   "execution_count": 4,
   "metadata": {
    "ExecuteTime": {
     "end_time": "2021-10-06T21:59:57.537981Z",
     "start_time": "2021-10-06T21:59:57.532669Z"
    }
   },
   "outputs": [],
   "source": [
    "samples = ['CRE_0_DHT','CRE_2_DHT','CRE_4_DHT','CRE_8_DHT','CRE_4_ENZ','CRE_8_ENZ']"
   ]
  },
  {
   "cell_type": "code",
   "execution_count": 5,
   "metadata": {
    "ExecuteTime": {
     "end_time": "2021-10-06T21:59:57.776703Z",
     "start_time": "2021-10-06T21:59:57.771430Z"
    }
   },
   "outputs": [],
   "source": [
    "samples2 = ['DHT_0','DHT_2','DHT_4','DHT_8','ENZ_4','ENZ_8']"
   ]
  },
  {
   "cell_type": "code",
   "execution_count": 25,
   "metadata": {
    "ExecuteTime": {
     "end_time": "2021-10-04T22:57:20.326603Z",
     "start_time": "2021-10-04T22:57:19.972452Z"
    }
   },
   "outputs": [
    {
     "name": "stdout",
     "output_type": "stream",
     "text": [
      "DHT_0 0.8060372488107532\n",
      "DHT_2 0.7567128895316273\n",
      "DHT_4 0.6774316714145243\n",
      "DHT_8 0.7872691433876753\n",
      "ENZ_4 0.6845420403406024\n",
      "ENZ_8 0.75529068056494\n"
     ]
    }
   ],
   "source": [
    "for i,j in zip(samples, samples2):\n",
    "    out_dir = '/home/chanj3/data/Prostate_Organoid.LP.publication.100121/out.metacells.individual.100121/%s/' % j\n",
    "    fn = glob.glob(out_dir + 'adata.metacells.%s.*.h5ad' % j)[0]\n",
    "    adata = sc.read_h5ad(fn)\n",
    "    print(j,sum(adata.uns['pca']['variance_ratio']))"
   ]
  },
  {
   "cell_type": "code",
   "execution_count": 28,
   "metadata": {
    "ExecuteTime": {
     "end_time": "2021-10-04T23:35:55.971829Z",
     "start_time": "2021-10-04T23:35:55.966008Z"
    }
   },
   "outputs": [
    {
     "data": {
      "text/plain": [
       "AnnData object with n_obs × n_vars = 120 × 15674\n",
       "    obs: 'metacell_centers', 'metacell_sizes', 'phenograph', 'Basal Correlation', 'Basal vs Luminal by Correlation'\n",
       "    var: 'highly_variable', 'means', 'dispersions', 'dispersions_norm'\n",
       "    uns: 'Basal-Luminal_colors', 'diffmap_evals', 'draw_graph', 'hvg', 'neighbors', 'paga', 'pca', 'phenograph_sizes', 'umap'\n",
       "    obsm: 'X_diffmap', 'X_draw_graph_fa', 'X_pca', 'X_umap'\n",
       "    varm: 'PCs'\n",
       "    layers: 'raw_counts'\n",
       "    obsp: 'connectivities', 'distances'"
      ]
     },
     "execution_count": 28,
     "metadata": {},
     "output_type": "execute_result"
    }
   ],
   "source": [
    "adata"
   ]
  },
  {
   "cell_type": "code",
   "execution_count": 27,
   "metadata": {
    "ExecuteTime": {
     "end_time": "2021-10-04T23:35:48.389178Z",
     "start_time": "2021-10-04T23:35:48.380260Z"
    }
   },
   "outputs": [
    {
     "data": {
      "text/plain": [
       "0      1200\n",
       "1      2223\n",
       "2      2573\n",
       "3      2894\n",
       "4      1530\n",
       "       ... \n",
       "115    1844\n",
       "116    1040\n",
       "117    2576\n",
       "118    2700\n",
       "119    1357\n",
       "Name: metacell_centers, Length: 120, dtype: int64"
      ]
     },
     "execution_count": 27,
     "metadata": {},
     "output_type": "execute_result"
    }
   ],
   "source": [
    "adata.obs['metacell_centers']"
   ]
  },
  {
   "cell_type": "markdown",
   "metadata": {},
   "source": [
    "<h3> Check knn </h3>"
   ]
  },
  {
   "cell_type": "code",
   "execution_count": null,
   "metadata": {},
   "outputs": [],
   "source": [
    "adata_dict = {}\n",
    "for i,j in zip(samples, samples2):\n",
    "    wdir = '/home/chanj3/data/SCPC_transformation.metacells.120120/out.cell_line.individual.120120/%s/' % i\n",
    "    fn = glob.glob(wdir + 'adata.metacells.%s.*.h5ad' % i)[0]\n",
    "    print(fn)\n",
    "    adata_dict[j] = sc.read(fn)\n"
   ]
  },
  {
   "cell_type": "code",
   "execution_count": 7,
   "metadata": {
    "ExecuteTime": {
     "end_time": "2021-10-06T22:00:14.398344Z",
     "start_time": "2021-10-06T22:00:14.394732Z"
    }
   },
   "outputs": [],
   "source": [
    "from decimal import localcontext, Decimal, ROUND_HALF_UP\n"
   ]
  },
  {
   "cell_type": "code",
   "execution_count": 8,
   "metadata": {
    "ExecuteTime": {
     "end_time": "2021-10-06T22:00:18.573489Z",
     "start_time": "2021-10-06T22:00:17.379188Z"
    }
   },
   "outputs": [
    {
     "ename": "NameError",
     "evalue": "name 'adata_dict' is not defined",
     "output_type": "error",
     "traceback": [
      "\u001b[0;31m---------------------------------------------------------------------------\u001b[0m",
      "\u001b[0;31mNameError\u001b[0m                                 Traceback (most recent call last)",
      "\u001b[0;32m<ipython-input-8-0d05595e09b3>\u001b[0m in \u001b[0;36m<module>\u001b[0;34m\u001b[0m\n\u001b[0;32m----> 1\u001b[0;31m \u001b[0;32mfor\u001b[0m \u001b[0mi\u001b[0m \u001b[0;32min\u001b[0m \u001b[0madata_dict\u001b[0m\u001b[0;34m.\u001b[0m\u001b[0mkeys\u001b[0m\u001b[0;34m(\u001b[0m\u001b[0;34m)\u001b[0m\u001b[0;34m:\u001b[0m\u001b[0;34m\u001b[0m\u001b[0m\n\u001b[0m\u001b[1;32m      2\u001b[0m     \u001b[0madata\u001b[0m \u001b[0;34m=\u001b[0m \u001b[0madata_dict\u001b[0m\u001b[0;34m[\u001b[0m\u001b[0mi\u001b[0m\u001b[0;34m]\u001b[0m\u001b[0;34m\u001b[0m\u001b[0m\n\u001b[1;32m      3\u001b[0m     \u001b[0mn_neighbors\u001b[0m \u001b[0;34m=\u001b[0m \u001b[0mint\u001b[0m\u001b[0;34m(\u001b[0m\u001b[0mDecimal\u001b[0m\u001b[0;34m(\u001b[0m\u001b[0madata\u001b[0m\u001b[0;34m.\u001b[0m\u001b[0mshape\u001b[0m\u001b[0;34m[\u001b[0m\u001b[0;36m0\u001b[0m\u001b[0;34m]\u001b[0m \u001b[0;34m*\u001b[0m \u001b[0;36m0.04\u001b[0m\u001b[0;34m)\u001b[0m\u001b[0;34m.\u001b[0m\u001b[0mto_integral_value\u001b[0m\u001b[0;34m(\u001b[0m\u001b[0mrounding\u001b[0m\u001b[0;34m=\u001b[0m\u001b[0mROUND_HALF_UP\u001b[0m\u001b[0;34m)\u001b[0m\u001b[0;34m)\u001b[0m\u001b[0;34m\u001b[0m\u001b[0m\n\u001b[1;32m      4\u001b[0m     \u001b[0mprint\u001b[0m\u001b[0;34m(\u001b[0m\u001b[0mi\u001b[0m\u001b[0;34m,\u001b[0m\u001b[0mn_neighbors\u001b[0m\u001b[0;34m)\u001b[0m\u001b[0;34m\u001b[0m\u001b[0m\n",
      "\u001b[0;31mNameError\u001b[0m: name 'adata_dict' is not defined"
     ]
    }
   ],
   "source": [
    "for i in adata_dict.keys():\n",
    "    adata = adata_dict[i]\n",
    "    n_neighbors = int(Decimal(adata.shape[0] * 0.04).to_integral_value(rounding=ROUND_HALF_UP))\n",
    "    print(i,n_neighbors)"
   ]
  },
  {
   "cell_type": "code",
   "execution_count": null,
   "metadata": {},
   "outputs": [],
   "source": []
  }
 ],
 "metadata": {
  "kernelspec": {
   "display_name": "Python 3",
   "language": "python",
   "name": "python3"
  },
  "language_info": {
   "codemirror_mode": {
    "name": "ipython",
    "version": 3
   },
   "file_extension": ".py",
   "mimetype": "text/x-python",
   "name": "python",
   "nbconvert_exporter": "python",
   "pygments_lexer": "ipython3",
   "version": "3.7.0"
  },
  "toc": {
   "base_numbering": 1,
   "nav_menu": {},
   "number_sections": true,
   "sideBar": true,
   "skip_h1_title": false,
   "title_cell": "Table of Contents",
   "title_sidebar": "Contents",
   "toc_cell": false,
   "toc_position": {},
   "toc_section_display": true,
   "toc_window_display": true
  }
 },
 "nbformat": 4,
 "nbformat_minor": 2
}
