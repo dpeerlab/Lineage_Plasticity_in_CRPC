{
 "cells": [
  {
   "cell_type": "code",
   "execution_count": 1,
   "metadata": {
    "ExecuteTime": {
     "end_time": "2022-05-02T00:26:46.761788Z",
     "start_time": "2022-05-02T00:26:45.360750Z"
    }
   },
   "outputs": [],
   "source": [
    "import numpy as np\n",
    "import pandas as pd\n",
    "import scanpy as sc\n",
    "import matplotlib"
   ]
  },
  {
   "cell_type": "code",
   "execution_count": 2,
   "metadata": {
    "ExecuteTime": {
     "end_time": "2022-05-02T00:26:46.768623Z",
     "start_time": "2022-05-02T00:26:46.765597Z"
    }
   },
   "outputs": [],
   "source": [
    "import os\n",
    "import pandas as pd\n",
    "import re\n",
    "import numpy as np\n",
    "import glob\n",
    "from pathlib import Path\n",
    "from scipy import sparse\n",
    "from copy import deepcopy\n",
    "import pickle\n"
   ]
  },
  {
   "cell_type": "markdown",
   "metadata": {},
   "source": [
    "<h3> Load data </h3>"
   ]
  },
  {
   "cell_type": "code",
   "execution_count": 3,
   "metadata": {
    "ExecuteTime": {
     "end_time": "2022-05-02T00:26:56.396513Z",
     "start_time": "2022-05-02T00:26:56.386746Z"
    }
   },
   "outputs": [],
   "source": [
    "wdir = '/home/chanj3/data/SCPC_transformation.single_cell.resubmission.010122/out.cell_line.individual.010122/DHT_0/'"
   ]
  },
  {
   "cell_type": "code",
   "execution_count": 4,
   "metadata": {
    "ExecuteTime": {
     "end_time": "2022-04-28T05:57:06.875598Z",
     "start_time": "2022-04-28T05:57:06.754701Z"
    }
   },
   "outputs": [
    {
     "name": "stdout",
     "output_type": "stream",
     "text": [
      "WARNING: Your filename has more than two extensions: ['.metacells', '.DHT_0', '.142', '.h5ad'].\n",
      "Only considering the two last: ['.142', '.h5ad'].\n",
      "WARNING: Your filename has more than two extensions: ['.metacells', '.DHT_0', '.142', '.h5ad'].\n",
      "Only considering the two last: ['.142', '.h5ad'].\n"
     ]
    }
   ],
   "source": [
    "adata = sc.read(wdir + 'adata.single_cell.DHT_0.h5ad')\n"
   ]
  },
  {
   "cell_type": "code",
   "execution_count": 5,
   "metadata": {
    "ExecuteTime": {
     "end_time": "2022-04-28T05:57:10.481933Z",
     "start_time": "2022-04-28T05:57:10.469005Z"
    }
   },
   "outputs": [
    {
     "data": {
      "text/plain": [
       "AnnData object with n_obs × n_vars = 142 × 15330\n",
       "    obs: 'batch', 'centers', 'sizes', 'phenograph', 'Basal Correlation', 'Basal_vs_Luminal', 'Basal vs Luminal by Correlation', 'cell_type', 'luminal-1 in normal mouse', 'luminal-2 in normal mouse', 'luminal-3 in normal mouse', 'basal in normal mouse', 'HALLMARK_EPITHELIAL_MESENCHYMAL_TRANSITION', 'S_score', 'G2M_score'\n",
       "    var: 'n_cells', 'highly_variable', 'means', 'dispersions', 'dispersions_norm'\n",
       "    uns: 'Basal vs Luminal by Correlation_colors', 'Basal-Luminal_colors', 'cell_type_colors', 'diffmap_evals', 'draw_graph', 'hvg', 'neighbors', 'paga', 'pca', 'phenograph_colors', 'phenograph_sizes', 'umap'\n",
       "    obsm: 'X_diffmap', 'X_draw_graph_fa', 'X_pca', 'X_umap', 'raw_counts'\n",
       "    varm: 'PCs'\n",
       "    obsp: 'connectivities', 'distances'"
      ]
     },
     "execution_count": 5,
     "metadata": {},
     "output_type": "execute_result"
    }
   ],
   "source": [
    "adata"
   ]
  },
  {
   "cell_type": "code",
   "execution_count": 6,
   "metadata": {
    "ExecuteTime": {
     "end_time": "2022-04-28T05:57:13.847749Z",
     "start_time": "2022-04-28T05:57:13.835321Z"
    }
   },
   "outputs": [],
   "source": [
    "adata.obs = adata.obs.drop(['batch'], axis=1)"
   ]
  },
  {
   "cell_type": "code",
   "execution_count": 10,
   "metadata": {
    "ExecuteTime": {
     "end_time": "2022-04-28T05:58:16.615420Z",
     "start_time": "2022-04-28T05:58:16.601416Z"
    }
   },
   "outputs": [],
   "source": [
    "adata.obs = adata.obs.drop(['Basal_vs_Luminal'], axis=1)"
   ]
  },
  {
   "cell_type": "code",
   "execution_count": 15,
   "metadata": {
    "ExecuteTime": {
     "end_time": "2022-04-28T05:59:27.257837Z",
     "start_time": "2022-04-28T05:59:27.246583Z"
    }
   },
   "outputs": [],
   "source": [
    "adata.obs = adata.obs.loc[:,['centers', 'sizes', 'phenograph', 'Basal Correlation', 'Basal vs Luminal by Correlation', 'cell_type']]"
   ]
  },
  {
   "cell_type": "code",
   "execution_count": 23,
   "metadata": {
    "ExecuteTime": {
     "end_time": "2022-04-28T06:02:36.225014Z",
     "start_time": "2022-04-28T06:02:36.216348Z"
    }
   },
   "outputs": [],
   "source": [
    "adata.obs.columns = adata.obs.columns.str.replace('sizes','metacell_sizes').str.replace('centers','metacell_centers')"
   ]
  },
  {
   "cell_type": "markdown",
   "metadata": {},
   "source": [
    "### Save Data"
   ]
  },
  {
   "cell_type": "code",
   "execution_count": 16,
   "metadata": {
    "ExecuteTime": {
     "end_time": "2022-04-28T05:59:53.844746Z",
     "start_time": "2022-04-28T05:59:53.834568Z"
    }
   },
   "outputs": [],
   "source": [
    "out_dir = '/home/chanj3/data/Prostate.LP.publication.010122/out.metacells.individual.010122/'\n",
    "os.makedirs(out_dir, exist_ok = True)"
   ]
  },
  {
   "cell_type": "code",
   "execution_count": 17,
   "metadata": {
    "ExecuteTime": {
     "end_time": "2022-04-28T06:00:32.752434Z",
     "start_time": "2022-04-28T06:00:32.747167Z"
    }
   },
   "outputs": [],
   "source": [
    "samples = ['Wk0','Wk2','Wk4','Wk8','Wk4_ENZ','Wk8_ENZ']"
   ]
  },
  {
   "cell_type": "code",
   "execution_count": 18,
   "metadata": {
    "ExecuteTime": {
     "end_time": "2022-04-28T06:00:32.971315Z",
     "start_time": "2022-04-28T06:00:32.962918Z"
    }
   },
   "outputs": [],
   "source": [
    "for i in samples:\n",
    "    os.makedirs(out_dir + i, exist_ok=True)\n",
    "\n"
   ]
  },
  {
   "cell_type": "code",
   "execution_count": 27,
   "metadata": {
    "ExecuteTime": {
     "end_time": "2022-04-28T06:08:21.486947Z",
     "start_time": "2022-04-28T06:08:21.407197Z"
    }
   },
   "outputs": [],
   "source": [
    "adata.write_h5ad(out_dir + 'Wk0/adata.metacells.Wk0.010122.h5ad')"
   ]
  },
  {
   "cell_type": "code",
   "execution_count": 28,
   "metadata": {
    "ExecuteTime": {
     "end_time": "2022-04-28T06:08:21.683187Z",
     "start_time": "2022-04-28T06:08:21.670517Z"
    }
   },
   "outputs": [],
   "source": [
    "adata.obs.to_csv(out_dir + 'Wk0/obs.metacells.Wk0.010122.txt', sep='\\t')"
   ]
  },
  {
   "cell_type": "code",
   "execution_count": 29,
   "metadata": {
    "ExecuteTime": {
     "end_time": "2022-04-28T06:08:22.123087Z",
     "start_time": "2022-04-28T06:08:22.094628Z"
    }
   },
   "outputs": [],
   "source": [
    "for i in ['X_pca', 'X_umap']:\n",
    "    root = re.sub('X_','',i)\n",
    "    df = pd.DataFrame(adata.obsm[i],index=adata.obs.index)\n",
    "    df.index.name = 'Cell'\n",
    "    if i=='X_umap':\n",
    "        df.columns = ['x','y']\n",
    "    df.to_csv(out_dir + 'Wk0/' + root + '.metacells.Wk0.010122.txt', sep='\\t')"
   ]
  },
  {
   "cell_type": "code",
   "execution_count": null,
   "metadata": {},
   "outputs": [],
   "source": []
  }
 ],
 "metadata": {
  "kernelspec": {
   "display_name": "Python 3",
   "language": "python",
   "name": "python3"
  },
  "language_info": {
   "codemirror_mode": {
    "name": "ipython",
    "version": 3
   },
   "file_extension": ".py",
   "mimetype": "text/x-python",
   "name": "python",
   "nbconvert_exporter": "python",
   "pygments_lexer": "ipython3",
   "version": "3.7.0"
  },
  "toc": {
   "base_numbering": 1,
   "nav_menu": {},
   "number_sections": true,
   "sideBar": true,
   "skip_h1_title": false,
   "title_cell": "Table of Contents",
   "title_sidebar": "Contents",
   "toc_cell": false,
   "toc_position": {},
   "toc_section_display": true,
   "toc_window_display": true
  }
 },
 "nbformat": 4,
 "nbformat_minor": 2
}
