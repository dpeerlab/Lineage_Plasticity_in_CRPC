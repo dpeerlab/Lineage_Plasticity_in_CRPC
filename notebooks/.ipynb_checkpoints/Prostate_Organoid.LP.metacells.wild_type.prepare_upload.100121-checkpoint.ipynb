{
 "cells": [
  {
   "cell_type": "code",
   "execution_count": 1,
   "metadata": {
    "ExecuteTime": {
     "end_time": "2021-10-01T05:16:47.384813Z",
     "start_time": "2021-10-01T05:16:32.133046Z"
    }
   },
   "outputs": [],
   "source": [
    "import numpy as np\n",
    "import pandas as pd\n",
    "import scanpy as sc\n",
    "import matplotlib"
   ]
  },
  {
   "cell_type": "code",
   "execution_count": 2,
   "metadata": {
    "ExecuteTime": {
     "end_time": "2021-10-01T05:16:47.396722Z",
     "start_time": "2021-10-01T05:16:47.391404Z"
    }
   },
   "outputs": [],
   "source": [
    "import os\n",
    "import pandas as pd\n",
    "import re\n",
    "import numpy as np\n",
    "import glob\n",
    "from pathlib import Path\n",
    "from scipy import sparse\n",
    "from copy import deepcopy\n",
    "import pickle\n"
   ]
  },
  {
   "cell_type": "markdown",
   "metadata": {},
   "source": [
    "<h3> Load data </h3>"
   ]
  },
  {
   "cell_type": "code",
   "execution_count": 4,
   "metadata": {
    "ExecuteTime": {
     "end_time": "2021-10-01T05:17:17.526035Z",
     "start_time": "2021-10-01T05:17:17.522844Z"
    }
   },
   "outputs": [],
   "source": [
    "wdir = '/home/chanj3/data/SCPC_transformation.metacells.120120/out.cell_line.individual.120120/CRE_0_DHT/'"
   ]
  },
  {
   "cell_type": "code",
   "execution_count": 5,
   "metadata": {
    "ExecuteTime": {
     "end_time": "2021-10-01T05:17:18.584823Z",
     "start_time": "2021-10-01T05:17:18.423669Z"
    }
   },
   "outputs": [
    {
     "name": "stdout",
     "output_type": "stream",
     "text": [
      "WARNING: Your filename has more than two extensions: ['.metacells', '.CRE_0_DHT', '.170', '.h5ad'].\n",
      "Only considering the two last: ['.170', '.h5ad'].\n",
      "WARNING: Your filename has more than two extensions: ['.metacells', '.CRE_0_DHT', '.170', '.h5ad'].\n",
      "Only considering the two last: ['.170', '.h5ad'].\n"
     ]
    }
   ],
   "source": [
    "adata = sc.read(wdir + 'adata.metacells.CRE_0_DHT.170.h5ad')\n"
   ]
  },
  {
   "cell_type": "code",
   "execution_count": 10,
   "metadata": {
    "ExecuteTime": {
     "end_time": "2021-10-01T05:19:27.158218Z",
     "start_time": "2021-10-01T05:19:27.153388Z"
    }
   },
   "outputs": [],
   "source": [
    "adata.obs = adata.obs.drop(['batch'], axis=1)"
   ]
  },
  {
   "cell_type": "code",
   "execution_count": 14,
   "metadata": {
    "ExecuteTime": {
     "end_time": "2021-10-01T05:24:44.989749Z",
     "start_time": "2021-10-01T05:24:44.981293Z"
    }
   },
   "outputs": [],
   "source": [
    "adata.obs = adata.obs.drop(['ct_metacluster'], axis=1)"
   ]
  },
  {
   "cell_type": "code",
   "execution_count": 11,
   "metadata": {
    "ExecuteTime": {
     "end_time": "2021-10-01T05:20:47.633604Z",
     "start_time": "2021-10-01T05:20:47.626264Z"
    }
   },
   "outputs": [],
   "source": [
    "adata.obs.columns = adata.obs.columns.str.replace('sizes','metacell_sizes').str.replace('centers','metacell_centers')\n"
   ]
  },
  {
   "cell_type": "code",
   "execution_count": 38,
   "metadata": {
    "ExecuteTime": {
     "end_time": "2021-10-01T05:51:39.192289Z",
     "start_time": "2021-10-01T05:51:39.185129Z"
    }
   },
   "outputs": [
    {
     "data": {
      "text/plain": [
       "AnnData object with n_obs × n_vars = 170 × 15674\n",
       "    obs: 'metacell_centers', 'metacell_sizes', 'phenograph', 'Basal Correlation', 'Basal vs Luminal by Correlation', 'cell_type'\n",
       "    var: 'highly_variable', 'means', 'dispersions', 'dispersions_norm'\n",
       "    uns: 'Basal-Luminal_colors', 'diffmap_evals', 'draw_graph', 'hvg', 'neighbors', 'paga', 'pca', 'phenograph_colors', 'phenograph_sizes', 'umap', 'cell_type_colors'\n",
       "    obsm: 'X_diffmap', 'X_draw_graph_fa', 'X_pca', 'X_umap', 'raw_counts'\n",
       "    varm: 'PCs'\n",
       "    obsp: 'connectivities', 'distances'"
      ]
     },
     "execution_count": 38,
     "metadata": {},
     "output_type": "execute_result"
    }
   ],
   "source": [
    "adata"
   ]
  },
  {
   "cell_type": "code",
   "execution_count": 18,
   "metadata": {
    "ExecuteTime": {
     "end_time": "2021-10-01T05:27:44.772505Z",
     "start_time": "2021-10-01T05:27:44.766290Z"
    }
   },
   "outputs": [],
   "source": [
    "adata.obs.columns = adata.obs.columns.str.replace('Basal-Luminal','Basal vs Luminal by Correlation')"
   ]
  },
  {
   "cell_type": "code",
   "execution_count": 21,
   "metadata": {
    "ExecuteTime": {
     "end_time": "2021-10-01T05:29:03.582704Z",
     "start_time": "2021-10-01T05:29:03.578322Z"
    }
   },
   "outputs": [],
   "source": [
    "del adata.uns['ct_metacluster_colors']"
   ]
  },
  {
   "cell_type": "code",
   "execution_count": 22,
   "metadata": {
    "ExecuteTime": {
     "end_time": "2021-10-01T05:29:33.602635Z",
     "start_time": "2021-10-01T05:29:33.598446Z"
    }
   },
   "outputs": [],
   "source": [
    "del adata.obsm['X_draw_graph_all_genes']"
   ]
  },
  {
   "cell_type": "code",
   "execution_count": 23,
   "metadata": {
    "ExecuteTime": {
     "end_time": "2021-10-01T05:29:34.047584Z",
     "start_time": "2021-10-01T05:29:34.043164Z"
    }
   },
   "outputs": [],
   "source": [
    "del adata.obsm['X_umap_all_genes']"
   ]
  },
  {
   "cell_type": "code",
   "execution_count": 44,
   "metadata": {
    "ExecuteTime": {
     "end_time": "2021-10-01T06:00:24.442693Z",
     "start_time": "2021-10-01T06:00:24.433617Z"
    }
   },
   "outputs": [],
   "source": [
    "adata.obs.loc[:,'cell_type'] = adata.obs.cell_type.str.replace('Org_','Org')"
   ]
  },
  {
   "cell_type": "code",
   "execution_count": null,
   "metadata": {},
   "outputs": [],
   "source": []
  },
  {
   "cell_type": "markdown",
   "metadata": {
    "ExecuteTime": {
     "end_time": "2021-02-14T06:56:26.584549Z",
     "start_time": "2021-02-14T06:56:26.577722Z"
    }
   },
   "source": [
    "<h3> Basal and Luminal Subtypes </h3>"
   ]
  },
  {
   "cell_type": "code",
   "execution_count": 51,
   "metadata": {
    "ExecuteTime": {
     "end_time": "2021-10-01T06:12:34.223914Z",
     "start_time": "2021-10-01T06:12:34.162298Z"
    }
   },
   "outputs": [],
   "source": [
    "adata_tmp = deepcopy(adata)\n",
    "sc.pp.scale(adata_tmp)"
   ]
  },
  {
   "cell_type": "code",
   "execution_count": 52,
   "metadata": {
    "ExecuteTime": {
     "end_time": "2021-10-01T06:12:34.832743Z",
     "start_time": "2021-10-01T06:12:34.659964Z"
    }
   },
   "outputs": [
    {
     "name": "stdout",
     "output_type": "stream",
     "text": [
      "WARNING: genes are not in var_names and ignored: ['EDN3', '2610016A17RIK', 'ATP6V1G3', 'FOXI1', 'SCG5', 'DMRT2', 'CLCNKB', 'SLC26A3']\n"
     ]
    }
   ],
   "source": [
    "######################\n",
    "'''\n",
    "CELL TYPE SCORING\n",
    "'''\n",
    "ref_dir = '/home/chanj3/data/ref/gmt/SCPC_transformation.021120/'\n",
    "ct_dict = {}\n",
    "ct_dict['luminal-1'] = [x.strip().upper() for x in open(ref_dir + 'luminal_1.mouse.normal.wouter.txt')]\n",
    "ct_dict['luminal-2'] = [x.strip().upper() for x in open(ref_dir + 'luminal_2.mouse.normal.wouter.txt')]\n",
    "ct_dict['luminal-3'] = [x.strip().upper() for x in open(ref_dir + 'luminal_3.mouse.normal.wouter.txt')]\n",
    "ct_dict['basal'] = [x.strip().upper() for x in open(ref_dir + 'basal.mouse.normal.wouter.txt')]\n",
    "\n",
    "for i in ct_dict.keys():\n",
    "    sc.tl.score_genes(adata_tmp, gene_list = set(ct_dict[i][:30]),score_name = i + ' in normal mouse')\n"
   ]
  },
  {
   "cell_type": "code",
   "execution_count": 53,
   "metadata": {
    "ExecuteTime": {
     "end_time": "2021-10-01T06:12:37.330627Z",
     "start_time": "2021-10-01T06:12:37.323934Z"
    }
   },
   "outputs": [],
   "source": [
    "from scipy.stats import zscore"
   ]
  },
  {
   "cell_type": "code",
   "execution_count": 54,
   "metadata": {
    "ExecuteTime": {
     "end_time": "2021-10-01T06:13:01.206598Z",
     "start_time": "2021-10-01T06:13:01.200926Z"
    }
   },
   "outputs": [
    {
     "data": {
      "text/plain": [
       "Index(['luminal-1 in normal mouse', 'luminal-2 in normal mouse',\n",
       "       'luminal-3 in normal mouse', 'basal in normal mouse'],\n",
       "      dtype='object')"
      ]
     },
     "execution_count": 54,
     "metadata": {},
     "output_type": "execute_result"
    }
   ],
   "source": [
    "adata_tmp.obs.columns[adata_tmp.obs.columns.str.contains('normal')]"
   ]
  },
  {
   "cell_type": "code",
   "execution_count": 55,
   "metadata": {
    "ExecuteTime": {
     "end_time": "2021-10-01T06:13:12.058400Z",
     "start_time": "2021-10-01T06:13:11.975773Z"
    }
   },
   "outputs": [],
   "source": [
    "adata.obs = pd.concat([adata.obs, adata_tmp.obs.loc[:,adata_tmp.obs.columns[adata_tmp.obs.columns.str.contains('normal')]].apply(zscore)], axis=1)"
   ]
  },
  {
   "cell_type": "markdown",
   "metadata": {
    "ExecuteTime": {
     "end_time": "2021-02-14T06:56:26.584549Z",
     "start_time": "2021-02-14T06:56:26.577722Z"
    }
   },
   "source": [
    "<h3> GSEA pathways </h3>"
   ]
  },
  {
   "cell_type": "code",
   "execution_count": 56,
   "metadata": {
    "ExecuteTime": {
     "end_time": "2021-10-01T06:14:05.033721Z",
     "start_time": "2021-10-01T06:14:05.029250Z"
    }
   },
   "outputs": [],
   "source": [
    "gsea_dir = '/home/chanj3/data/SCPC_transformation.metacells.120120/out.cell_line.individual.pooled.120120/GSEA.MAST.090121/' "
   ]
  },
  {
   "cell_type": "code",
   "execution_count": 57,
   "metadata": {
    "ExecuteTime": {
     "end_time": "2021-10-01T06:14:06.106337Z",
     "start_time": "2021-10-01T06:14:06.004824Z"
    }
   },
   "outputs": [],
   "source": [
    "gsea_df = pd.read_csv(gsea_dir + 'GSEA.MUT_WT.filtered.csv', sep = '\\t', index_col = 'pathway')"
   ]
  },
  {
   "cell_type": "code",
   "execution_count": 58,
   "metadata": {
    "ExecuteTime": {
     "end_time": "2021-10-01T06:14:17.485423Z",
     "start_time": "2021-10-01T06:14:17.409627Z"
    }
   },
   "outputs": [],
   "source": [
    "gsea_df = gsea_df.loc[gsea_df.index.intersection(['HALLMARK_EPITHELIAL_MESENCHYMAL_TRANSITION']),:]"
   ]
  },
  {
   "cell_type": "code",
   "execution_count": 59,
   "metadata": {
    "ExecuteTime": {
     "end_time": "2021-10-01T06:14:25.428376Z",
     "start_time": "2021-10-01T06:14:25.424207Z"
    }
   },
   "outputs": [],
   "source": [
    "ct_dict = {}\n",
    "for pathway in gsea_df.index:\n",
    "    ct_dict[pathway] = gsea_df.loc[pathway, 'leadingEdge'].strip().split(',')\n",
    "\n"
   ]
  },
  {
   "cell_type": "code",
   "execution_count": 60,
   "metadata": {
    "ExecuteTime": {
     "end_time": "2021-10-01T06:14:32.362481Z",
     "start_time": "2021-10-01T06:14:32.283998Z"
    }
   },
   "outputs": [],
   "source": [
    "for i in ct_dict.keys():\n",
    "    sc.tl.score_genes(adata_tmp, gene_list = set(ct_dict[i]),score_name = i)\n"
   ]
  },
  {
   "cell_type": "code",
   "execution_count": 61,
   "metadata": {
    "ExecuteTime": {
     "end_time": "2021-10-01T06:14:33.328948Z",
     "start_time": "2021-10-01T06:14:33.310871Z"
    }
   },
   "outputs": [],
   "source": [
    "adata.obs = pd.concat([adata.obs, adata_tmp.obs.loc[:,adata_tmp.obs.columns[adata_tmp.obs.columns.str.contains('gsea')]].apply(zscore)], axis=1)"
   ]
  },
  {
   "cell_type": "code",
   "execution_count": null,
   "metadata": {},
   "outputs": [],
   "source": []
  },
  {
   "cell_type": "markdown",
   "metadata": {
    "ExecuteTime": {
     "end_time": "2021-02-14T06:56:26.584549Z",
     "start_time": "2021-02-14T06:56:26.577722Z"
    }
   },
   "source": [
    "<h3> Cell cycle score </h3>"
   ]
  },
  {
   "cell_type": "code",
   "execution_count": 62,
   "metadata": {
    "ExecuteTime": {
     "end_time": "2021-10-01T06:15:05.792507Z",
     "start_time": "2021-10-01T06:15:05.785230Z"
    }
   },
   "outputs": [],
   "source": [
    "cell_cycle_genes = [x.strip() for x in open('/data/peer/chanj3/ref/cell_cycle/regev_lab_cell_cycle_genes.txt','r')]"
   ]
  },
  {
   "cell_type": "code",
   "execution_count": 63,
   "metadata": {
    "ExecuteTime": {
     "end_time": "2021-10-01T06:15:06.797654Z",
     "start_time": "2021-10-01T06:15:06.791142Z"
    }
   },
   "outputs": [],
   "source": [
    "s_genes = cell_cycle_genes[:43]\n",
    "g2m_genes = cell_cycle_genes[43:]\n",
    "cell_cycle_genes = [x for x in cell_cycle_genes if x in adata.var_names]"
   ]
  },
  {
   "cell_type": "code",
   "execution_count": 64,
   "metadata": {
    "ExecuteTime": {
     "end_time": "2021-10-01T06:15:09.992727Z",
     "start_time": "2021-10-01T06:15:09.862894Z"
    }
   },
   "outputs": [
    {
     "name": "stdout",
     "output_type": "stream",
     "text": [
      "WARNING: genes are not in var_names and ignored: ['MLF1IP']\n"
     ]
    }
   ],
   "source": [
    "sc.tl.score_genes_cell_cycle(adata_tmp, s_genes=s_genes, g2m_genes=g2m_genes)"
   ]
  },
  {
   "cell_type": "code",
   "execution_count": 65,
   "metadata": {
    "ExecuteTime": {
     "end_time": "2021-10-01T06:15:13.892326Z",
     "start_time": "2021-10-01T06:15:13.875176Z"
    }
   },
   "outputs": [],
   "source": [
    "adata.obs = pd.concat([adata.obs, adata_tmp.obs.loc[:,['S_score', 'G2M_score']].apply(zscore)], axis=1)"
   ]
  },
  {
   "cell_type": "markdown",
   "metadata": {},
   "source": [
    "### Save Data"
   ]
  },
  {
   "cell_type": "code",
   "execution_count": 26,
   "metadata": {
    "ExecuteTime": {
     "end_time": "2021-10-01T05:31:56.743137Z",
     "start_time": "2021-10-01T05:31:56.737663Z"
    }
   },
   "outputs": [],
   "source": [
    "out_dir = '/home/chanj3/data/Prostate_Organoid.LP.publication.100121/out.metacells.individual.100121/'\n",
    "os.makedirs(out_dir, exist_ok = True)"
   ]
  },
  {
   "cell_type": "code",
   "execution_count": 30,
   "metadata": {
    "ExecuteTime": {
     "end_time": "2021-10-01T05:36:45.771075Z",
     "start_time": "2021-10-01T05:36:45.767834Z"
    }
   },
   "outputs": [],
   "source": [
    "samples = ['DHT_0','DHT_2','DHT_4','DHT_8','ENZ_4','ENZ_8']"
   ]
  },
  {
   "cell_type": "code",
   "execution_count": 32,
   "metadata": {
    "ExecuteTime": {
     "end_time": "2021-10-01T05:38:12.959384Z",
     "start_time": "2021-10-01T05:38:12.941119Z"
    }
   },
   "outputs": [],
   "source": [
    "for i in samples:\n",
    "    os.makedirs(out_dir + i, exist_ok=True)\n",
    "\n"
   ]
  },
  {
   "cell_type": "code",
   "execution_count": 45,
   "metadata": {
    "ExecuteTime": {
     "end_time": "2021-10-01T06:00:30.286768Z",
     "start_time": "2021-10-01T06:00:30.190466Z"
    }
   },
   "outputs": [
    {
     "name": "stderr",
     "output_type": "stream",
     "text": [
      "... storing 'cell_type' as categorical\n"
     ]
    }
   ],
   "source": [
    "adata.write_h5ad(out_dir + 'DHT_0/adata.metacells.DHT_0.100121.h5ad')"
   ]
  },
  {
   "cell_type": "code",
   "execution_count": 46,
   "metadata": {
    "ExecuteTime": {
     "end_time": "2021-10-01T06:00:30.989952Z",
     "start_time": "2021-10-01T06:00:30.978135Z"
    }
   },
   "outputs": [],
   "source": [
    "adata.obs.to_csv(out_dir + 'DHT_0/obs.metacells.DHT_0.100121.txt', sep='\\t')"
   ]
  },
  {
   "cell_type": "code",
   "execution_count": 35,
   "metadata": {
    "ExecuteTime": {
     "end_time": "2021-10-01T05:38:58.909620Z",
     "start_time": "2021-10-01T05:38:58.875626Z"
    }
   },
   "outputs": [],
   "source": [
    "for i in ['X_pca', 'X_umap']:\n",
    "    root = re.sub('X_','',i)\n",
    "    df = pd.DataFrame(adata.obsm[i],index=adata.obs.index)\n",
    "    df.index.name = 'Cell'\n",
    "    if i=='X_umap':\n",
    "        df.columns = ['x','y']\n",
    "    df.to_csv(out_dir + 'DHT_0/' + root + '.metacells.DHT_0.100121.txt', sep='\\t')"
   ]
  },
  {
   "cell_type": "code",
   "execution_count": null,
   "metadata": {},
   "outputs": [],
   "source": []
  }
 ],
 "metadata": {
  "kernelspec": {
   "display_name": "Python 3",
   "language": "python",
   "name": "python3"
  },
  "language_info": {
   "codemirror_mode": {
    "name": "ipython",
    "version": 3
   },
   "file_extension": ".py",
   "mimetype": "text/x-python",
   "name": "python",
   "nbconvert_exporter": "python",
   "pygments_lexer": "ipython3",
   "version": "3.7.0"
  },
  "toc": {
   "base_numbering": 1,
   "nav_menu": {},
   "number_sections": true,
   "sideBar": true,
   "skip_h1_title": false,
   "title_cell": "Table of Contents",
   "title_sidebar": "Contents",
   "toc_cell": false,
   "toc_position": {},
   "toc_section_display": true,
   "toc_window_display": true
  }
 },
 "nbformat": 4,
 "nbformat_minor": 2
}
