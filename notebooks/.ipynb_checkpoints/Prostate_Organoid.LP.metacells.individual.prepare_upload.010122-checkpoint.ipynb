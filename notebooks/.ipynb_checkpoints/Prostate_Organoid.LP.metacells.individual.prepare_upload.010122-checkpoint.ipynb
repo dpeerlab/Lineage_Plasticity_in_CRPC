{
 "cells": [
  {
   "cell_type": "code",
   "execution_count": 3,
   "metadata": {
    "ExecuteTime": {
     "end_time": "2022-05-05T20:26:10.671544Z",
     "start_time": "2022-05-05T20:26:10.663406Z"
    }
   },
   "outputs": [],
   "source": [
    "import numpy as np\n",
    "import pandas as pd\n",
    "import scanpy as sc\n",
    "import matplotlib\n",
    "from shutil import copyfile"
   ]
  },
  {
   "cell_type": "code",
   "execution_count": 4,
   "metadata": {
    "ExecuteTime": {
     "end_time": "2022-05-05T20:26:10.806460Z",
     "start_time": "2022-05-05T20:26:10.800144Z"
    }
   },
   "outputs": [],
   "source": [
    "import os\n",
    "import pandas as pd\n",
    "import re\n",
    "import numpy as np\n",
    "import glob\n",
    "from pathlib import Path\n",
    "from scipy import sparse\n",
    "from copy import deepcopy\n",
    "import pickle\n",
    "\n"
   ]
  },
  {
   "cell_type": "markdown",
   "metadata": {},
   "source": [
    "<h3> Load data </h3>"
   ]
  },
  {
   "cell_type": "code",
   "execution_count": 5,
   "metadata": {
    "ExecuteTime": {
     "end_time": "2022-05-05T20:26:11.760273Z",
     "start_time": "2022-05-05T20:26:11.755267Z"
    }
   },
   "outputs": [],
   "source": [
    "samples = ['DHT_2','DHT_4','DHT_8','ENZ_4','ENZ_8']"
   ]
  },
  {
   "cell_type": "code",
   "execution_count": 6,
   "metadata": {
    "ExecuteTime": {
     "end_time": "2022-05-05T20:26:12.105059Z",
     "start_time": "2022-05-05T20:26:12.100531Z"
    }
   },
   "outputs": [],
   "source": [
    "samples2 = ['Wk2','Wk4','Wk8','Wk4_ENZ','Wk8_ENZ']"
   ]
  },
  {
   "cell_type": "code",
   "execution_count": 17,
   "metadata": {
    "ExecuteTime": {
     "end_time": "2022-04-28T06:08:32.647412Z",
     "start_time": "2022-04-28T06:08:32.585512Z"
    }
   },
   "outputs": [
    {
     "name": "stdout",
     "output_type": "stream",
     "text": [
      "/home/chanj3/data/SCPC_transformation.metacells.resubmission.010122/out.cell_line.individual.010122/DHT_2/adata.metacells.DHT_2.140.h5ad\n",
      "WARNING: Your filename has more than two extensions: ['.metacells', '.DHT_2', '.140', '.h5ad'].\n",
      "Only considering the two last: ['.140', '.h5ad'].\n",
      "WARNING: Your filename has more than two extensions: ['.metacells', '.DHT_2', '.140', '.h5ad'].\n",
      "Only considering the two last: ['.140', '.h5ad'].\n"
     ]
    }
   ],
   "source": [
    "for i,j in zip(samples, samples2):\n",
    "    wdir = '/home/chanj3/data/SCPC_transformation.metacells.resubmission.010122/out.cell_line.individual.010122/%s/' % i\n",
    "    fn = glob.glob(wdir + 'adata.metacells.%s.*.h5ad' % i)[0]\n",
    "    print(fn)\n",
    "    adata = sc.read(fn)\n",
    "    break"
   ]
  },
  {
   "cell_type": "code",
   "execution_count": 18,
   "metadata": {
    "ExecuteTime": {
     "end_time": "2022-04-28T06:08:34.284691Z",
     "start_time": "2022-04-28T06:08:34.274320Z"
    }
   },
   "outputs": [
    {
     "data": {
      "text/plain": [
       "AnnData object with n_obs × n_vars = 140 × 15891\n",
       "    obs: 'batch', 'centers', 'sizes', 'phenograph', 'Basal Correlation', 'Basal-Luminal', 'Basal vs Luminal by Correlation'\n",
       "    var: 'n_cells', 'highly_variable', 'means', 'dispersions', 'dispersions_norm'\n",
       "    uns: 'Basal vs Luminal by Correlation_colors', 'Basal-Luminal_colors', 'diffmap_evals', 'draw_graph', 'hvg', 'neighbors', 'paga', 'pca', 'phenograph_sizes', 'umap'\n",
       "    obsm: 'X_diffmap', 'X_draw_graph_fa', 'X_pca', 'X_umap', 'raw_counts'\n",
       "    varm: 'PCs'\n",
       "    obsp: 'connectivities', 'distances'"
      ]
     },
     "execution_count": 18,
     "metadata": {},
     "output_type": "execute_result"
    }
   ],
   "source": [
    "adata"
   ]
  },
  {
   "cell_type": "markdown",
   "metadata": {},
   "source": [
    "<h3> Reload data </h3>"
   ]
  },
  {
   "cell_type": "code",
   "execution_count": 7,
   "metadata": {
    "ExecuteTime": {
     "end_time": "2022-05-05T20:26:47.985146Z",
     "start_time": "2022-05-05T20:26:47.974963Z"
    }
   },
   "outputs": [],
   "source": [
    "samples2 = ['Wk0','Wk2','Wk4','Wk8','Wk4_ENZ','Wk8_ENZ']"
   ]
  },
  {
   "cell_type": "code",
   "execution_count": 9,
   "metadata": {
    "ExecuteTime": {
     "end_time": "2022-05-05T20:28:42.545274Z",
     "start_time": "2022-05-05T20:28:41.833344Z"
    }
   },
   "outputs": [],
   "source": [
    "adata_dict = {}\n",
    "for j in samples2:\n",
    "    out_dir = '/home/chanj3/data/Prostate.LP.publication.010122/out.metacells.individual.010122/%s/' % j\n",
    "    \n",
    "    adata_dict[j] = sc.read_h5ad(out_dir + 'adata.metacells.%s.010122.h5ad' % j)\n",
    "    "
   ]
  },
  {
   "cell_type": "markdown",
   "metadata": {},
   "source": [
    "<h3> Clean </h3>"
   ]
  },
  {
   "cell_type": "code",
   "execution_count": 20,
   "metadata": {
    "ExecuteTime": {
     "end_time": "2022-04-28T06:08:36.592205Z",
     "start_time": "2022-04-28T06:08:36.004757Z"
    }
   },
   "outputs": [
    {
     "name": "stdout",
     "output_type": "stream",
     "text": [
      "/home/chanj3/data/SCPC_transformation.metacells.resubmission.010122/out.cell_line.individual.010122/DHT_2/adata.metacells.DHT_2.140.h5ad\n",
      "WARNING: Your filename has more than two extensions: ['.metacells', '.DHT_2', '.140', '.h5ad'].\n",
      "Only considering the two last: ['.140', '.h5ad'].\n",
      "WARNING: Your filename has more than two extensions: ['.metacells', '.DHT_2', '.140', '.h5ad'].\n",
      "Only considering the two last: ['.140', '.h5ad'].\n",
      "/home/chanj3/data/SCPC_transformation.metacells.resubmission.010122/out.cell_line.individual.010122/DHT_4/adata.metacells.DHT_4.141.h5ad\n",
      "WARNING: Your filename has more than two extensions: ['.metacells', '.DHT_4', '.141', '.h5ad'].\n",
      "Only considering the two last: ['.141', '.h5ad'].\n",
      "WARNING: Your filename has more than two extensions: ['.metacells', '.DHT_4', '.141', '.h5ad'].\n",
      "Only considering the two last: ['.141', '.h5ad'].\n",
      "/home/chanj3/data/SCPC_transformation.metacells.resubmission.010122/out.cell_line.individual.010122/DHT_8/adata.metacells.DHT_8.150.h5ad\n",
      "WARNING: Your filename has more than two extensions: ['.metacells', '.DHT_8', '.150', '.h5ad'].\n",
      "Only considering the two last: ['.150', '.h5ad'].\n",
      "WARNING: Your filename has more than two extensions: ['.metacells', '.DHT_8', '.150', '.h5ad'].\n",
      "Only considering the two last: ['.150', '.h5ad'].\n",
      "/home/chanj3/data/SCPC_transformation.metacells.resubmission.010122/out.cell_line.individual.010122/ENZ_4/adata.metacells.ENZ_4.160.h5ad\n",
      "WARNING: Your filename has more than two extensions: ['.metacells', '.ENZ_4', '.160', '.h5ad'].\n",
      "Only considering the two last: ['.160', '.h5ad'].\n",
      "WARNING: Your filename has more than two extensions: ['.metacells', '.ENZ_4', '.160', '.h5ad'].\n",
      "Only considering the two last: ['.160', '.h5ad'].\n",
      "/home/chanj3/data/SCPC_transformation.metacells.resubmission.010122/out.cell_line.individual.010122/ENZ_8/adata.metacells.ENZ_8.151.h5ad\n",
      "WARNING: Your filename has more than two extensions: ['.metacells', '.ENZ_8', '.151', '.h5ad'].\n",
      "Only considering the two last: ['.151', '.h5ad'].\n",
      "WARNING: Your filename has more than two extensions: ['.metacells', '.ENZ_8', '.151', '.h5ad'].\n",
      "Only considering the two last: ['.151', '.h5ad'].\n"
     ]
    }
   ],
   "source": [
    "for i,j in zip(samples, samples2):\n",
    "    wdir = '/home/chanj3/data/SCPC_transformation.metacells.resubmission.010122/out.cell_line.individual.010122/%s/' % i\n",
    "    fn = glob.glob(wdir + 'adata.metacells.%s.*.h5ad' % i)[0]\n",
    "    print(fn)\n",
    "    adata = sc.read(fn)\n",
    "    \n",
    "    adata.obs = adata.obs.drop(['batch'], axis=1)\n",
    "    adata.obs = adata.obs.drop(['Basal-Luminal'], axis=1)\n",
    "    adata.obs.columns = adata.obs.columns.str.replace('sizes','metacell_sizes').str.replace('centers','metacell_centers')\n",
    "    adata.obs.columns = adata.obs.columns.str.replace('Basal-Luminal','Basal vs Luminal by Correlation')\n",
    "        \n",
    "    out_dir = '/home/chanj3/data/Prostate.LP.publication.010122/out.metacells.individual.010122/%s/' % j\n",
    "\n",
    "    adata.write_h5ad(out_dir + 'adata.metacells.%s.010122.h5ad' % j)\n",
    "\n",
    "    adata.obs.to_csv(out_dir + 'obs.metacells.%s.010122.txt' % j, sep='\\t')\n",
    "\n",
    "    for x in ['X_pca', 'X_umap']:\n",
    "        root = re.sub('X_','',x)\n",
    "        df = pd.DataFrame(adata.obsm[x],index=adata.obs.index)\n",
    "        df.index.name = 'Cell'\n",
    "        if x=='X_umap':\n",
    "            df.columns = ['x','y']\n",
    "        df.to_csv(out_dir + root + '.metacells.%s.010122.txt' % j, sep='\\t')\n",
    "    \n"
   ]
  },
  {
   "cell_type": "code",
   "execution_count": 21,
   "metadata": {
    "ExecuteTime": {
     "end_time": "2022-04-28T06:08:41.077098Z",
     "start_time": "2022-04-28T06:08:41.069995Z"
    }
   },
   "outputs": [],
   "source": [
    "samples = ['DHT_0','DHT_2','DHT_4','DHT_8','ENZ_4','ENZ_8']"
   ]
  },
  {
   "cell_type": "code",
   "execution_count": 22,
   "metadata": {
    "ExecuteTime": {
     "end_time": "2022-04-28T06:08:41.314487Z",
     "start_time": "2022-04-28T06:08:41.307253Z"
    }
   },
   "outputs": [],
   "source": [
    "samples2 = ['Wk0','Wk2','Wk4','Wk8','Wk4_ENZ','Wk8_ENZ']"
   ]
  },
  {
   "cell_type": "code",
   "execution_count": 23,
   "metadata": {
    "ExecuteTime": {
     "end_time": "2022-04-28T06:08:42.296765Z",
     "start_time": "2022-04-28T06:08:42.059451Z"
    }
   },
   "outputs": [],
   "source": [
    "for i,j in zip(samples, samples2):\n",
    "    out_dir = '/home/chanj3/data/Prostate.LP.publication.010122/out.metacells.individual.010122/%s/' % j\n",
    "\n",
    "    adata = sc.read_h5ad(out_dir + 'adata.metacells.%s.010122.h5ad' % j)\n",
    "\n",
    "    for x in ['X_draw_graph_fa']:\n",
    "        root = re.sub('X_','',x)\n",
    "        df = pd.DataFrame(adata.obsm[x],index=adata.obs.index)\n",
    "        df.index.name = 'Cell'\n",
    "        if x=='X_draw_graph_fa':\n",
    "            df.columns = ['x','y']\n",
    "        df.to_csv(out_dir + root + '.metacells.%s.010122.txt' % j, sep='\\t')\n",
    "    \n",
    "\n",
    "    \n",
    "    "
   ]
  },
  {
   "cell_type": "code",
   "execution_count": 24,
   "metadata": {
    "ExecuteTime": {
     "end_time": "2022-04-28T06:09:42.154913Z",
     "start_time": "2022-04-28T06:09:42.094362Z"
    }
   },
   "outputs": [
    {
     "name": "stdout",
     "output_type": "stream",
     "text": [
      "/home/chanj3/data/SCPC_transformation.metacells.resubmission.010122/out.cell_line.individual.010122/DHT_0/knn.metacells.metacells.DHT_0.142.mtx\n",
      "/home/chanj3/data/SCPC_transformation.metacells.resubmission.010122/out.cell_line.individual.010122/DHT_2/knn.metacells.metacells.DHT_2.140.mtx\n",
      "/home/chanj3/data/SCPC_transformation.metacells.resubmission.010122/out.cell_line.individual.010122/DHT_4/knn.metacells.metacells.DHT_4.141.mtx\n",
      "/home/chanj3/data/SCPC_transformation.metacells.resubmission.010122/out.cell_line.individual.010122/DHT_8/knn.metacells.metacells.DHT_8.150.mtx\n",
      "/home/chanj3/data/SCPC_transformation.metacells.resubmission.010122/out.cell_line.individual.010122/ENZ_4/knn.metacells.metacells.ENZ_4.160.mtx\n",
      "/home/chanj3/data/SCPC_transformation.metacells.resubmission.010122/out.cell_line.individual.010122/ENZ_8/knn.metacells.metacells.ENZ_8.151.mtx\n"
     ]
    }
   ],
   "source": [
    "for i,j in zip(samples, samples2):\n",
    "    wdir = '/home/chanj3/data/SCPC_transformation.metacells.resubmission.010122/out.cell_line.individual.010122/%s/' % i\n",
    "    fn = glob.glob(wdir + 'knn.*.%s.*.mtx' % i)[0]\n",
    "    print(fn)\n",
    "        \n",
    "    out_dir = '/home/chanj3/data/Prostate.LP.publication.010122/out.metacells.individual.010122/%s/' % j\n",
    "    fn2 = re.sub('metacells.metacells','metacells', os.path.basename(fn))\n",
    "    fn2 = re.sub(i,j, fn2)\n",
    "    \n",
    "    copyfile(fn, out_dir + fn2)\n",
    "\n"
   ]
  },
  {
   "cell_type": "code",
   "execution_count": 25,
   "metadata": {
    "ExecuteTime": {
     "end_time": "2022-04-28T06:10:12.749383Z",
     "start_time": "2022-04-28T06:10:12.528668Z"
    }
   },
   "outputs": [
    {
     "name": "stdout",
     "output_type": "stream",
     "text": [
      "Wk0 0.8475563330575824\n",
      "Wk2 0.7910534432157874\n",
      "Wk4 0.7459705378860235\n",
      "Wk8 0.7443450833670795\n",
      "Wk4_ENZ 0.7064513489603996\n",
      "Wk8_ENZ 0.7153801447711885\n"
     ]
    }
   ],
   "source": [
    "for i,j in zip(samples, samples2):\n",
    "    out_dir = '/home/chanj3/data/Prostate.LP.publication.010122/out.metacells.individual.010122/%s/' % j\n",
    "    fn = glob.glob(out_dir + 'adata.metacells.%s.*.h5ad' % j)[0]\n",
    "    adata = sc.read_h5ad(fn)\n",
    "    print(j,sum(adata.uns['pca']['variance_ratio']))"
   ]
  },
  {
   "cell_type": "markdown",
   "metadata": {},
   "source": [
    "### Fix raw counts"
   ]
  },
  {
   "cell_type": "code",
   "execution_count": 13,
   "metadata": {
    "ExecuteTime": {
     "end_time": "2022-05-05T20:29:13.859915Z",
     "start_time": "2022-05-05T20:29:13.850264Z"
    }
   },
   "outputs": [],
   "source": [
    "comb_dir = '/home/chanj3/data/Prostate.LP.publication.010122/out.metacells.combined.010122/'\n"
   ]
  },
  {
   "cell_type": "code",
   "execution_count": 14,
   "metadata": {
    "ExecuteTime": {
     "end_time": "2022-05-05T20:29:14.502572Z",
     "start_time": "2022-05-05T20:29:14.263683Z"
    }
   },
   "outputs": [],
   "source": [
    "adata_comb = sc.read_h5ad(comb_dir + 'adata.metacells.combined.010122.h5ad')"
   ]
  },
  {
   "cell_type": "code",
   "execution_count": 15,
   "metadata": {
    "ExecuteTime": {
     "end_time": "2022-05-05T20:29:16.930584Z",
     "start_time": "2022-05-05T20:29:16.886277Z"
    }
   },
   "outputs": [],
   "source": [
    "raw = pd.DataFrame(adata_comb.raw.X.todense(), index=adata_comb.raw.obs_names, columns=adata_comb.raw.var_names)"
   ]
  },
  {
   "cell_type": "code",
   "execution_count": 16,
   "metadata": {
    "ExecuteTime": {
     "end_time": "2022-05-05T20:29:19.039085Z",
     "start_time": "2022-05-05T20:29:19.032199Z"
    }
   },
   "outputs": [],
   "source": [
    "from scipy.sparse import csr_matrix"
   ]
  },
  {
   "cell_type": "code",
   "execution_count": 17,
   "metadata": {
    "ExecuteTime": {
     "end_time": "2022-05-05T20:29:25.872290Z",
     "start_time": "2022-05-05T20:29:25.862506Z"
    }
   },
   "outputs": [],
   "source": [
    "samples2 = ['Wk0','Wk2','Wk4','Wk8','Wk4_ENZ','Wk8_ENZ']"
   ]
  },
  {
   "cell_type": "code",
   "execution_count": 18,
   "metadata": {
    "ExecuteTime": {
     "end_time": "2022-05-05T20:29:34.114816Z",
     "start_time": "2022-05-05T20:29:33.660609Z"
    }
   },
   "outputs": [],
   "source": [
    "for x in samples2:\n",
    "    raw2 = raw.loc[adata_dict[x].obs.index,:]\n",
    "    adata_tmp = sc.AnnData(csr_matrix(raw2.values))\n",
    "    adata_tmp.obs_names = raw2.index\n",
    "    adata_tmp.var_names = raw2.columns\n",
    "    adata_dict[x].raw = adata_tmp\n",
    "    del adata_dict[x].obsm['raw_counts']"
   ]
  },
  {
   "cell_type": "markdown",
   "metadata": {},
   "source": [
    "<h3> Check knn </h3>"
   ]
  },
  {
   "cell_type": "code",
   "execution_count": 29,
   "metadata": {
    "ExecuteTime": {
     "end_time": "2022-04-28T06:10:48.964766Z",
     "start_time": "2022-04-28T06:10:48.704009Z"
    }
   },
   "outputs": [
    {
     "name": "stdout",
     "output_type": "stream",
     "text": [
      "/home/chanj3/data/SCPC_transformation.metacells.resubmission.010122/out.cell_line.individual.010122/DHT_0/adata.metacells.DHT_0.142.h5ad\n",
      "WARNING: Your filename has more than two extensions: ['.metacells', '.DHT_0', '.142', '.h5ad'].\n",
      "Only considering the two last: ['.142', '.h5ad'].\n",
      "WARNING: Your filename has more than two extensions: ['.metacells', '.DHT_0', '.142', '.h5ad'].\n",
      "Only considering the two last: ['.142', '.h5ad'].\n",
      "/home/chanj3/data/SCPC_transformation.metacells.resubmission.010122/out.cell_line.individual.010122/DHT_2/adata.metacells.DHT_2.140.h5ad\n",
      "WARNING: Your filename has more than two extensions: ['.metacells', '.DHT_2', '.140', '.h5ad'].\n",
      "Only considering the two last: ['.140', '.h5ad'].\n",
      "WARNING: Your filename has more than two extensions: ['.metacells', '.DHT_2', '.140', '.h5ad'].\n",
      "Only considering the two last: ['.140', '.h5ad'].\n",
      "/home/chanj3/data/SCPC_transformation.metacells.resubmission.010122/out.cell_line.individual.010122/DHT_4/adata.metacells.DHT_4.141.h5ad\n",
      "WARNING: Your filename has more than two extensions: ['.metacells', '.DHT_4', '.141', '.h5ad'].\n",
      "Only considering the two last: ['.141', '.h5ad'].\n",
      "WARNING: Your filename has more than two extensions: ['.metacells', '.DHT_4', '.141', '.h5ad'].\n",
      "Only considering the two last: ['.141', '.h5ad'].\n",
      "/home/chanj3/data/SCPC_transformation.metacells.resubmission.010122/out.cell_line.individual.010122/DHT_8/adata.metacells.DHT_8.150.h5ad\n",
      "WARNING: Your filename has more than two extensions: ['.metacells', '.DHT_8', '.150', '.h5ad'].\n",
      "Only considering the two last: ['.150', '.h5ad'].\n",
      "WARNING: Your filename has more than two extensions: ['.metacells', '.DHT_8', '.150', '.h5ad'].\n",
      "Only considering the two last: ['.150', '.h5ad'].\n",
      "/home/chanj3/data/SCPC_transformation.metacells.resubmission.010122/out.cell_line.individual.010122/ENZ_4/adata.metacells.ENZ_4.160.h5ad\n",
      "WARNING: Your filename has more than two extensions: ['.metacells', '.ENZ_4', '.160', '.h5ad'].\n",
      "Only considering the two last: ['.160', '.h5ad'].\n",
      "WARNING: Your filename has more than two extensions: ['.metacells', '.ENZ_4', '.160', '.h5ad'].\n",
      "Only considering the two last: ['.160', '.h5ad'].\n",
      "/home/chanj3/data/SCPC_transformation.metacells.resubmission.010122/out.cell_line.individual.010122/ENZ_8/adata.metacells.ENZ_8.151.h5ad\n",
      "WARNING: Your filename has more than two extensions: ['.metacells', '.ENZ_8', '.151', '.h5ad'].\n",
      "Only considering the two last: ['.151', '.h5ad'].\n",
      "WARNING: Your filename has more than two extensions: ['.metacells', '.ENZ_8', '.151', '.h5ad'].\n",
      "Only considering the two last: ['.151', '.h5ad'].\n"
     ]
    }
   ],
   "source": [
    "adata_dict = {}\n",
    "for i,j in zip(samples, samples2):\n",
    "    wdir = '/home/chanj3/data/SCPC_transformation.metacells.resubmission.010122/out.cell_line.individual.010122/%s/' % i\n",
    "    fn = glob.glob(wdir + 'adata.metacells.%s.*.h5ad' % i)[0]\n",
    "    print(fn)\n",
    "    adata_dict[j] = sc.read(fn)\n"
   ]
  },
  {
   "cell_type": "code",
   "execution_count": 30,
   "metadata": {
    "ExecuteTime": {
     "end_time": "2022-04-28T06:10:51.030203Z",
     "start_time": "2022-04-28T06:10:51.022725Z"
    }
   },
   "outputs": [],
   "source": [
    "from decimal import localcontext, Decimal, ROUND_HALF_UP\n"
   ]
  },
  {
   "cell_type": "code",
   "execution_count": 31,
   "metadata": {
    "ExecuteTime": {
     "end_time": "2022-04-28T06:10:52.064819Z",
     "start_time": "2022-04-28T06:10:52.050823Z"
    }
   },
   "outputs": [
    {
     "name": "stdout",
     "output_type": "stream",
     "text": [
      "Wk0 6\n",
      "Wk2 6\n",
      "Wk4 6\n",
      "Wk8 6\n",
      "Wk4_ENZ 6\n",
      "Wk8_ENZ 6\n"
     ]
    }
   ],
   "source": [
    "for i in adata_dict.keys():\n",
    "    adata = adata_dict[i]\n",
    "    n_neighbors = int(Decimal(adata.shape[0] * 0.04).to_integral_value(rounding=ROUND_HALF_UP))\n",
    "    print(i,n_neighbors)"
   ]
  },
  {
   "cell_type": "markdown",
   "metadata": {},
   "source": [
    "<h3> Save data </h3>"
   ]
  },
  {
   "cell_type": "code",
   "execution_count": 19,
   "metadata": {
    "ExecuteTime": {
     "end_time": "2022-05-05T20:30:35.884195Z",
     "start_time": "2022-05-05T20:30:35.412549Z"
    }
   },
   "outputs": [],
   "source": [
    "for j in samples2:\n",
    "    out_dir = '/home/chanj3/data/Prostate.LP.publication.010122/out.metacells.individual.010122/%s/' % j\n",
    "    os.makedirs(out_dir, exist_ok=True)\n",
    "    \n",
    "    adata = adata_dict[j]\n",
    "    \n",
    "    adata.write_h5ad(out_dir + 'adata.metacells.%s.010122.h5ad' % j)\n",
    "\n",
    "    \n",
    "\n",
    "    \n",
    "    "
   ]
  },
  {
   "cell_type": "code",
   "execution_count": null,
   "metadata": {},
   "outputs": [],
   "source": []
  }
 ],
 "metadata": {
  "kernelspec": {
   "display_name": "Python 3",
   "language": "python",
   "name": "python3"
  },
  "language_info": {
   "codemirror_mode": {
    "name": "ipython",
    "version": 3
   },
   "file_extension": ".py",
   "mimetype": "text/x-python",
   "name": "python",
   "nbconvert_exporter": "python",
   "pygments_lexer": "ipython3",
   "version": "3.7.0"
  },
  "toc": {
   "base_numbering": 1,
   "nav_menu": {},
   "number_sections": true,
   "sideBar": true,
   "skip_h1_title": false,
   "title_cell": "Table of Contents",
   "title_sidebar": "Contents",
   "toc_cell": false,
   "toc_position": {},
   "toc_section_display": true,
   "toc_window_display": true
  }
 },
 "nbformat": 4,
 "nbformat_minor": 2
}
