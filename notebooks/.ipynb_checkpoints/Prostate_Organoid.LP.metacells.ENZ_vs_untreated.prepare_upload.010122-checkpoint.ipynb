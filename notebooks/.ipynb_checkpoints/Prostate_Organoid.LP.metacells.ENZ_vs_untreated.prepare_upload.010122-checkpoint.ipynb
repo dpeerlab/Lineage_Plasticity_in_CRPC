{
 "cells": [
  {
   "cell_type": "code",
   "execution_count": 1,
   "metadata": {
    "ExecuteTime": {
     "end_time": "2022-05-06T06:12:02.494212Z",
     "start_time": "2022-05-06T06:11:59.614359Z"
    }
   },
   "outputs": [],
   "source": [
    "import numpy as np\n",
    "import pandas as pd\n",
    "import scanpy as sc\n",
    "import matplotlib"
   ]
  },
  {
   "cell_type": "code",
   "execution_count": 2,
   "metadata": {
    "ExecuteTime": {
     "end_time": "2022-05-06T06:12:02.500941Z",
     "start_time": "2022-05-06T06:12:02.495434Z"
    }
   },
   "outputs": [],
   "source": [
    "import os\n",
    "import pandas as pd\n",
    "import re\n",
    "import numpy as np\n",
    "import glob\n",
    "from pathlib import Path\n",
    "from scipy import sparse\n",
    "from copy import deepcopy\n",
    "import pickle\n"
   ]
  },
  {
   "cell_type": "markdown",
   "metadata": {},
   "source": [
    "<h3> Load data </h3>"
   ]
  },
  {
   "cell_type": "code",
   "execution_count": 3,
   "metadata": {
    "ExecuteTime": {
     "end_time": "2022-05-06T06:44:54.421554Z",
     "start_time": "2022-05-06T06:44:54.412547Z"
    }
   },
   "outputs": [],
   "source": [
    "wdir = '/home/chanj3/data/SCPC_transformation.metacells.resubmission.010122/out.cell_line.ENZ_DHT.010122/'"
   ]
  },
  {
   "cell_type": "code",
   "execution_count": 4,
   "metadata": {
    "ExecuteTime": {
     "end_time": "2022-05-06T06:45:18.052033Z",
     "start_time": "2022-05-06T06:45:17.756330Z"
    }
   },
   "outputs": [
    {
     "name": "stdout",
     "output_type": "stream",
     "text": [
      "WARNING: Your filename has more than two extensions: ['.metacells', '.ENZ_DHT', '.h5ad'].\n",
      "Only considering the two last: ['.ENZ_DHT', '.h5ad'].\n",
      "WARNING: Your filename has more than two extensions: ['.metacells', '.ENZ_DHT', '.h5ad'].\n",
      "Only considering the two last: ['.ENZ_DHT', '.h5ad'].\n"
     ]
    }
   ],
   "source": [
    "adata = sc.read(wdir + 'adata.metacells.ENZ_DHT.h5ad')\n"
   ]
  },
  {
   "cell_type": "code",
   "execution_count": 5,
   "metadata": {
    "ExecuteTime": {
     "end_time": "2022-05-06T06:45:20.155130Z",
     "start_time": "2022-05-06T06:45:20.141577Z"
    }
   },
   "outputs": [
    {
     "data": {
      "text/plain": [
       "AnnData object with n_obs × n_vars = 602 × 17672\n",
       "    obs: 'batch', 'sizes', 'centers', 'SBM_cluster', 'phenograph'\n",
       "    var: 'n_cells', 'highly_variable'\n",
       "    uns: 'diffmap_evals', 'draw_graph', 'neighbors', 'paga', 'pca', 'phenograph_sizes', 'umap'\n",
       "    obsm: 'X_diffmap', 'X_draw_graph_fa', 'X_pca', 'X_umap', 'raw_counts'\n",
       "    varm: 'PCs'\n",
       "    obsp: 'connectivities', 'distances'"
      ]
     },
     "execution_count": 5,
     "metadata": {},
     "output_type": "execute_result"
    }
   ],
   "source": [
    "adata"
   ]
  },
  {
   "cell_type": "code",
   "execution_count": 15,
   "metadata": {
    "ExecuteTime": {
     "end_time": "2022-05-06T06:52:02.053226Z",
     "start_time": "2022-05-06T06:52:02.044166Z"
    }
   },
   "outputs": [],
   "source": [
    "comb_dir = '/home/chanj3/data/Prostate.LP.publication.010122/out.metacells.combined.010122/'"
   ]
  },
  {
   "cell_type": "code",
   "execution_count": 16,
   "metadata": {
    "ExecuteTime": {
     "end_time": "2022-05-06T06:52:02.351970Z",
     "start_time": "2022-05-06T06:52:02.221255Z"
    }
   },
   "outputs": [],
   "source": [
    "adata_comb = sc.read_h5ad(comb_dir + 'adata.metacells.combined.010122.h5ad')"
   ]
  },
  {
   "cell_type": "markdown",
   "metadata": {},
   "source": [
    "<h3> Reload data </h3>"
   ]
  },
  {
   "cell_type": "code",
   "execution_count": 6,
   "metadata": {
    "ExecuteTime": {
     "end_time": "2022-05-06T06:45:55.796243Z",
     "start_time": "2022-05-06T06:45:55.791644Z"
    }
   },
   "outputs": [],
   "source": [
    "out_dir = '/home/chanj3/data/Prostate.LP.publication.010122/out.metacells.ENZ_vs_untreated.010122/'"
   ]
  },
  {
   "cell_type": "code",
   "execution_count": 5,
   "metadata": {
    "ExecuteTime": {
     "end_time": "2022-05-05T20:04:40.824274Z",
     "start_time": "2022-05-05T20:04:40.481139Z"
    }
   },
   "outputs": [],
   "source": [
    "adata = sc.read_h5ad(out_dir + 'adata.metacells.ENZ_vs_untreated.010122.h5ad')"
   ]
  },
  {
   "cell_type": "code",
   "execution_count": 6,
   "metadata": {
    "ExecuteTime": {
     "end_time": "2022-05-05T20:04:41.646253Z",
     "start_time": "2022-05-05T20:04:41.632212Z"
    }
   },
   "outputs": [
    {
     "data": {
      "text/plain": [
       "AnnData object with n_obs × n_vars = 884 × 18352\n",
       "    obs: 'batch', 'metacell_sizes', 'metacell_centers', 'SBM_cluster', 'phenograph', 'MUT_WT', 'time', 'treatment', 'Basal Correlation', 'Basal vs Luminal by Correlation', 'batch_plus_wt_cells'\n",
       "    var: 'n_cells', 'highly_variable', 'means', 'dispersions', 'dispersions_norm'\n",
       "    uns: 'batch_colors', 'batch_plus_wt_cells_colors', 'diffmap_evals', 'draw_graph', 'hvg', 'neighbors', 'paga', 'pca', 'phenograph_sizes', 'umap'\n",
       "    obsm: 'X_diffmap', 'X_draw_graph_fa', 'X_pca', 'X_umap', 'raw_counts'\n",
       "    varm: 'PCs'\n",
       "    obsp: 'connectivities', 'distances'"
      ]
     },
     "execution_count": 6,
     "metadata": {},
     "output_type": "execute_result"
    }
   ],
   "source": [
    "adata"
   ]
  },
  {
   "cell_type": "markdown",
   "metadata": {},
   "source": [
    "<h3> Update </h3>"
   ]
  },
  {
   "cell_type": "code",
   "execution_count": 10,
   "metadata": {
    "ExecuteTime": {
     "end_time": "2022-05-06T06:48:46.793717Z",
     "start_time": "2022-05-06T06:48:46.772849Z"
    }
   },
   "outputs": [
    {
     "data": {
      "text/plain": [
       "0          Wk4\n",
       "1          Wk4\n",
       "2          Wk4\n",
       "3          Wk4\n",
       "4          Wk4\n",
       "        ...   \n",
       "597    Wk8+ENZ\n",
       "598    Wk8+ENZ\n",
       "599    Wk8+ENZ\n",
       "600    Wk8+ENZ\n",
       "601    Wk8+ENZ\n",
       "Name: batch, Length: 602, dtype: object"
      ]
     },
     "execution_count": 10,
     "metadata": {},
     "output_type": "execute_result"
    }
   ],
   "source": [
    "adata.obs.loc[:,'batch']"
   ]
  },
  {
   "cell_type": "code",
   "execution_count": 9,
   "metadata": {
    "ExecuteTime": {
     "end_time": "2022-05-06T06:48:41.794582Z",
     "start_time": "2022-05-06T06:48:41.771045Z"
    }
   },
   "outputs": [],
   "source": [
    "tmp = adata.obs.batch.str.replace('_','Wk').str.replace('DHT','')\n",
    "ind = tmp.str.contains('ENZ')\n",
    "tmp.loc[ind] = tmp.loc[ind].str.replace('ENZ','') + '+ENZ'\n",
    "adata.obs.loc[:,'batch'] = tmp"
   ]
  },
  {
   "cell_type": "code",
   "execution_count": 11,
   "metadata": {
    "ExecuteTime": {
     "end_time": "2022-05-06T06:49:45.197180Z",
     "start_time": "2022-05-06T06:49:45.181472Z"
    }
   },
   "outputs": [],
   "source": [
    "adata.obs.loc[:,'treatment'] = np.array(['Untreated','ENZ'])[1*adata.obs.batch.str.contains('ENZ')]"
   ]
  },
  {
   "cell_type": "code",
   "execution_count": 14,
   "metadata": {
    "ExecuteTime": {
     "end_time": "2022-05-06T06:51:17.034037Z",
     "start_time": "2022-05-06T06:51:17.018406Z"
    }
   },
   "outputs": [],
   "source": [
    "adata.obs.loc[:,'time'] = adata.obs.batch.replace('\\+ENZ','').str.replace('Wk','')"
   ]
  },
  {
   "cell_type": "code",
   "execution_count": 24,
   "metadata": {
    "ExecuteTime": {
     "end_time": "2022-05-06T06:53:19.421445Z",
     "start_time": "2022-05-06T06:53:19.416455Z"
    }
   },
   "outputs": [],
   "source": [
    "order = ['Wk4', 'Wk8', 'Wk4+ENZ', 'Wk8+ENZ']"
   ]
  },
  {
   "cell_type": "code",
   "execution_count": 25,
   "metadata": {
    "ExecuteTime": {
     "end_time": "2022-05-06T06:53:32.834630Z",
     "start_time": "2022-05-06T06:53:32.817347Z"
    }
   },
   "outputs": [],
   "source": [
    "adata.obs.loc[:,'batch'] = adata.obs.loc[:,'batch'].astype('category').cat.reorder_categories(order)"
   ]
  },
  {
   "cell_type": "code",
   "execution_count": 26,
   "metadata": {
    "ExecuteTime": {
     "end_time": "2022-05-06T06:53:49.309854Z",
     "start_time": "2022-05-06T06:53:49.299702Z"
    }
   },
   "outputs": [],
   "source": [
    "adata.uns['batch_colors'] = adata_comb.uns['batch_plus_wt_cells_colors'][-4:]"
   ]
  },
  {
   "cell_type": "code",
   "execution_count": 29,
   "metadata": {
    "ExecuteTime": {
     "end_time": "2022-05-06T06:54:21.461827Z",
     "start_time": "2022-05-06T06:54:21.452470Z"
    }
   },
   "outputs": [
    {
     "data": {
      "text/plain": [
       "Index(['0', '1', '2', '3', '4', '5', '6', '7', '8', '9',\n",
       "       ...\n",
       "       '874', '875', '876', '877', '878', '879', '880', '881', '882', '883'],\n",
       "      dtype='object', name='Cell', length=884)"
      ]
     },
     "execution_count": 29,
     "metadata": {},
     "output_type": "execute_result"
    }
   ],
   "source": [
    "adata_comb.obs.index"
   ]
  },
  {
   "cell_type": "markdown",
   "metadata": {},
   "source": [
    "<h3> Fix raw counts </h3>"
   ]
  },
  {
   "cell_type": "code",
   "execution_count": 32,
   "metadata": {
    "ExecuteTime": {
     "end_time": "2022-05-06T06:56:43.069133Z",
     "start_time": "2022-05-06T06:56:42.592637Z"
    }
   },
   "outputs": [],
   "source": [
    "comb_dir = '/home/chanj3/data/SCPC_transformation.021120/out.combined.021120/'\n",
    "with open(comb_dir + 'counts.combined.genes.021120.csv','r') as f:\n",
    "    g = [i.strip() for i in f.readlines()]\n",
    "    \n",
    "ind_dir = '/home/chanj3/data/SCPC_transformation.metacells.resubmission.010122/out.cell_line.individual.010122/'\n",
    "counts_list = []\n",
    "obs_list = []\n",
    "last_mc = 0\n",
    "for fn in sorted(glob.glob(ind_dir + '*/adata*h5ad')):\n",
    "    if '_4.' in fn or '_8.' in fn:\n",
    "        sample = os.path.basename(fn).split('.')[2]\n",
    "        adata_tmp = sc.read_h5ad(fn)\n",
    "        counts_list += [pd.DataFrame(adata_tmp.obsm['raw_counts'], index=adata_tmp.obs.index.astype(int) + last_mc, columns=g)] #adata_tmp.var_names)]\n",
    "        SBM_fn = ind_dir + '%s/SBM_cluster.txt' % sample\n",
    "        SBM_cluster = pd.read_csv(SBM_fn, sep =',', index_col=0)\n",
    "        obs_tmp = adata_tmp.obs.loc[:,['batch','sizes','centers']]\n",
    "        obs_tmp.loc[:,'SBM_cluster'] = SBM_cluster.values\n",
    "        obs_tmp.loc[:,'batch'] = sample\n",
    "        obs_tmp.index = adata_tmp.obs.index.astype(int) + last_mc\n",
    "        obs_list += [obs_tmp]\n",
    "        last_mc += (adata_tmp.obs.index.astype(int)[-1] + 1)\n",
    "coords = pd.concat(counts_list, axis=0)\n",
    "obs = pd.concat(obs_list, axis=0)\n",
    "\n",
    "coords.index = coords.index.astype(str)\n",
    "obs.index = obs.index.astype(str)"
   ]
  },
  {
   "cell_type": "code",
   "execution_count": 36,
   "metadata": {
    "ExecuteTime": {
     "end_time": "2022-05-06T06:57:09.195944Z",
     "start_time": "2022-05-06T06:57:09.186148Z"
    }
   },
   "outputs": [],
   "source": [
    "from scipy.sparse import csr_matrix"
   ]
  },
  {
   "cell_type": "code",
   "execution_count": 37,
   "metadata": {
    "ExecuteTime": {
     "end_time": "2022-05-06T06:57:10.683288Z",
     "start_time": "2022-05-06T06:57:10.387314Z"
    }
   },
   "outputs": [],
   "source": [
    "adata_tmp =sc.AnnData(csr_matrix(coords.values))"
   ]
  },
  {
   "cell_type": "code",
   "execution_count": 38,
   "metadata": {
    "ExecuteTime": {
     "end_time": "2022-05-06T06:57:11.167942Z",
     "start_time": "2022-05-06T06:57:11.158425Z"
    }
   },
   "outputs": [],
   "source": [
    "adata_tmp.obs_names = coords.index.astype(str)\n",
    "adata_tmp.var_names = coords.columns"
   ]
  },
  {
   "cell_type": "code",
   "execution_count": 39,
   "metadata": {
    "ExecuteTime": {
     "end_time": "2022-05-06T06:57:13.187540Z",
     "start_time": "2022-05-06T06:57:13.147382Z"
    }
   },
   "outputs": [],
   "source": [
    "adata.raw = adata_tmp"
   ]
  },
  {
   "cell_type": "code",
   "execution_count": 40,
   "metadata": {
    "ExecuteTime": {
     "end_time": "2022-05-06T06:57:14.169243Z",
     "start_time": "2022-05-06T06:57:14.161675Z"
    }
   },
   "outputs": [],
   "source": [
    "del adata.obsm['raw_counts']"
   ]
  },
  {
   "cell_type": "code",
   "execution_count": 41,
   "metadata": {
    "ExecuteTime": {
     "end_time": "2022-05-06T06:57:23.951530Z",
     "start_time": "2022-05-06T06:57:23.943650Z"
    }
   },
   "outputs": [
    {
     "data": {
      "text/plain": [
       "AnnData object with n_obs × n_vars = 602 × 17672\n",
       "    obs: 'batch', 'sizes', 'centers', 'SBM_cluster', 'phenograph', 'treatment', 'time'\n",
       "    var: 'n_cells', 'highly_variable'\n",
       "    uns: 'diffmap_evals', 'draw_graph', 'neighbors', 'paga', 'pca', 'phenograph_sizes', 'umap', 'batch_colors'\n",
       "    obsm: 'X_diffmap', 'X_draw_graph_fa', 'X_pca', 'X_umap'\n",
       "    varm: 'PCs'\n",
       "    obsp: 'connectivities', 'distances'"
      ]
     },
     "execution_count": 41,
     "metadata": {},
     "output_type": "execute_result"
    }
   ],
   "source": [
    "adata"
   ]
  },
  {
   "cell_type": "markdown",
   "metadata": {},
   "source": [
    "### Save Data"
   ]
  },
  {
   "cell_type": "code",
   "execution_count": 42,
   "metadata": {
    "ExecuteTime": {
     "end_time": "2022-05-06T06:57:57.567706Z",
     "start_time": "2022-05-06T06:57:57.558165Z"
    }
   },
   "outputs": [],
   "source": [
    "out_dir = '/home/chanj3/data/Prostate.LP.publication.010122/out.metacells.ENZ_vs_untreated.010122/'"
   ]
  },
  {
   "cell_type": "code",
   "execution_count": 43,
   "metadata": {
    "ExecuteTime": {
     "end_time": "2022-05-06T06:57:57.934027Z",
     "start_time": "2022-05-06T06:57:57.803930Z"
    }
   },
   "outputs": [],
   "source": [
    "adata.write_h5ad(out_dir + 'adata.metacells.ENZ_vs_untreated.010122.h5ad')"
   ]
  },
  {
   "cell_type": "code",
   "execution_count": 44,
   "metadata": {
    "ExecuteTime": {
     "end_time": "2022-05-06T06:57:59.425567Z",
     "start_time": "2022-05-06T06:57:58.486654Z"
    }
   },
   "outputs": [],
   "source": [
    "adata.obs.to_csv(out_dir + 'obs.metacells.ENZ_vs_untreated.010122.txt', sep='\\t')"
   ]
  },
  {
   "cell_type": "code",
   "execution_count": 45,
   "metadata": {
    "ExecuteTime": {
     "end_time": "2022-05-06T06:58:00.451427Z",
     "start_time": "2022-05-06T06:58:00.397061Z"
    }
   },
   "outputs": [],
   "source": [
    "for i in ['X_pca', 'X_umap','X_draw_graph_fa']:\n",
    "    root = re.sub('X_','',i)\n",
    "    df = pd.DataFrame(adata.obsm[i],index=adata.obs.index)\n",
    "    df.index.name = 'Cell'\n",
    "    if i=='X_umap':\n",
    "        df.columns = ['x','y']\n",
    "    df.to_csv(out_dir + root + '.metacells.ENZ_vs_untreated.010122.txt', sep='\\t')"
   ]
  },
  {
   "cell_type": "code",
   "execution_count": null,
   "metadata": {},
   "outputs": [],
   "source": []
  }
 ],
 "metadata": {
  "kernelspec": {
   "display_name": "Python 3",
   "language": "python",
   "name": "python3"
  },
  "language_info": {
   "codemirror_mode": {
    "name": "ipython",
    "version": 3
   },
   "file_extension": ".py",
   "mimetype": "text/x-python",
   "name": "python",
   "nbconvert_exporter": "python",
   "pygments_lexer": "ipython3",
   "version": "3.7.0"
  },
  "toc": {
   "base_numbering": 1,
   "nav_menu": {},
   "number_sections": true,
   "sideBar": true,
   "skip_h1_title": false,
   "title_cell": "Table of Contents",
   "title_sidebar": "Contents",
   "toc_cell": false,
   "toc_position": {},
   "toc_section_display": true,
   "toc_window_display": true
  }
 },
 "nbformat": 4,
 "nbformat_minor": 2
}
