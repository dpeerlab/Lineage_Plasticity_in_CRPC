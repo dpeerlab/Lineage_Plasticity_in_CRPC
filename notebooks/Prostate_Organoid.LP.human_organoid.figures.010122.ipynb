{
 "cells": [
  {
   "cell_type": "code",
   "execution_count": 99,
   "metadata": {
    "ExecuteTime": {
     "end_time": "2022-05-21T23:10:51.367193Z",
     "start_time": "2022-05-21T23:10:48.172Z"
    }
   },
   "outputs": [],
   "source": [
    "library(dplyr)\n",
    "library(reshape2) \n",
    "library(tidyr)\n",
    "library(plyr)\n",
    "library(ggplot2)\n",
    "library(ComplexHeatmap)\n",
    "\n",
    "library(\"RColorBrewer\")\n",
    "library(wesanderson)\n",
    "library(foreach)\n",
    "library(circlize)\n",
    "library(pals)\n",
    "library(stringr)\n",
    "\n",
    "library(viridis)\n",
    "library(zoo)\n",
    "\n",
    "library(tximportData)\n",
    "library(tximport)\n",
    "library('biomaRt')\n",
    "\n",
    "library(DESeq2)\n",
    "\n",
    "library(ggrepel)"
   ]
  },
  {
   "cell_type": "code",
   "execution_count": 3,
   "metadata": {
    "ExecuteTime": {
     "end_time": "2022-05-21T17:27:43.358039Z",
     "start_time": "2022-05-21T17:27:42.229Z"
    }
   },
   "outputs": [],
   "source": [
    "ref_dir = '/home/chanj3/data/Prostate.LP.publication.010122/ref/'\n",
    "out_dir = '/home/chanj3/data/Prostate.LP.publication.010122/out.human_organoid.010122/'\n"
   ]
  },
  {
   "cell_type": "markdown",
   "metadata": {},
   "source": [
    "### Normalize RNA-seq"
   ]
  },
  {
   "cell_type": "code",
   "execution_count": 13,
   "metadata": {
    "ExecuteTime": {
     "end_time": "2022-05-21T17:44:52.801584Z",
     "start_time": "2022-05-21T17:44:52.685Z"
    }
   },
   "outputs": [],
   "source": [
    "srr_df = c('MSKPCA1' = 'SRR15335220',\n",
    "'MSKPCA2' = 'SRR15335221',\n",
    "'MSKPCA3' = 'SRR15335222',\n",
    "'MSKPCA6' = 'SRR15335225',\n",
    "'MSKPCA8' = 'SRR15335227',\n",
    "'MSKPCA11' = 'SRR15335230',\n",
    "'MSKPCA12' = 'SRR15335231',\n",
    "'MSKPCA16' = 'SRR15335235',\n",
    "'WCM154' = 'SRR18026985',\n",
    "'WCM155' = 'SRR18026986',\n",
    "'LuCAP49' = 'SRR8528484',\n",
    "'LuCAP176' = 'SRR8528515')\n",
    "\n",
    "srr_df = data.frame(SRR = srr_df)"
   ]
  },
  {
   "cell_type": "code",
   "execution_count": 14,
   "metadata": {
    "ExecuteTime": {
     "end_time": "2022-05-21T17:44:53.011402Z",
     "start_time": "2022-05-21T17:44:52.944Z"
    }
   },
   "outputs": [],
   "source": [
    "ifile = paste0(out_dir, 'human_organoid.metadata.final.txt')\n",
    "df = read.table(ifile,sep='\\t', row.names = 1, header=T)\n",
    "df = df[rownames(srr_df),]"
   ]
  },
  {
   "cell_type": "code",
   "execution_count": 15,
   "metadata": {
    "ExecuteTime": {
     "end_time": "2022-05-21T17:44:53.457626Z",
     "start_time": "2022-05-21T17:44:53.384Z"
    }
   },
   "outputs": [],
   "source": [
    "df$batch = gsub('[0-9]+','',rownames(df))"
   ]
  },
  {
   "cell_type": "code",
   "execution_count": 16,
   "metadata": {
    "ExecuteTime": {
     "end_time": "2022-05-21T17:44:53.656949Z",
     "start_time": "2022-05-21T17:44:53.615Z"
    }
   },
   "outputs": [],
   "source": [
    "df$NEPC = df$Tang..et.al..subtype == 'NEPC'\n",
    "df$WNT = df$Tang..et.al..subtype == 'Wnt'"
   ]
  },
  {
   "cell_type": "code",
   "execution_count": 17,
   "metadata": {
    "ExecuteTime": {
     "end_time": "2022-05-21T17:44:55.548928Z",
     "start_time": "2022-05-21T17:44:55.394Z"
    }
   },
   "outputs": [],
   "source": [
    "fns = sapply(rownames(srr_df), function(x) sprintf('%skallisto/%s/abundance.h5', out_dir, x))"
   ]
  },
  {
   "cell_type": "code",
   "execution_count": 8,
   "metadata": {
    "ExecuteTime": {
     "end_time": "2022-05-20T21:03:24.335999Z",
     "start_time": "2022-05-20T21:02:56.948Z"
    }
   },
   "outputs": [
    {
     "name": "stderr",
     "output_type": "stream",
     "text": [
      "1 \n",
      "2 \n",
      "3 \n",
      "4 \n",
      "5 \n",
      "6 \n",
      "7 \n",
      "8 \n",
      "9 \n",
      "10 \n",
      "11 \n",
      "12 \n",
      "\n",
      "\n"
     ]
    }
   ],
   "source": [
    "txi.kallisto <- tximport(fns, type = \"kallisto\", txOut = TRUE)\n"
   ]
  },
  {
   "cell_type": "code",
   "execution_count": 9,
   "metadata": {
    "ExecuteTime": {
     "end_time": "2022-05-20T21:03:24.377542Z",
     "start_time": "2022-05-20T21:03:18.739Z"
    }
   },
   "outputs": [
    {
     "data": {
      "text/html": [
       "<table class=\"dataframe\">\n",
       "<caption>A data.frame: 12 × 12</caption>\n",
       "<thead>\n",
       "\t<tr><th></th><th scope=col>Tang..et.al..subtype</th><th scope=col>Tissue</th><th scope=col>AR.status</th><th scope=col>JAK_STAT.signature</th><th scope=col>FGFR.signature</th><th scope=col>EMT.signature</th><th scope=col>Viability.after.Rux_Erda</th><th scope=col>AR.after.Rux_Erda</th><th scope=col>VIM.after.Rux_Erda</th><th scope=col>batch</th><th scope=col>NEPC</th><th scope=col>WNT</th></tr>\n",
       "\t<tr><th></th><th scope=col>&lt;chr&gt;</th><th scope=col>&lt;chr&gt;</th><th scope=col>&lt;chr&gt;</th><th scope=col>&lt;dbl&gt;</th><th scope=col>&lt;dbl&gt;</th><th scope=col>&lt;dbl&gt;</th><th scope=col>&lt;chr&gt;</th><th scope=col>&lt;dbl&gt;</th><th scope=col>&lt;dbl&gt;</th><th scope=col>&lt;chr&gt;</th><th scope=col>&lt;lgl&gt;</th><th scope=col>&lt;lgl&gt;</th></tr>\n",
       "</thead>\n",
       "<tbody>\n",
       "\t<tr><th scope=row>MSKPCA1</th><td>Wnt      </td><td>Bone    </td><td>AR-null</td><td> 0.06835634</td><td> 1.9367981</td><td> 1.2561356</td><td>Decreased</td><td> 0.00000000</td><td>-1.0439086</td><td>MSKPCA</td><td>FALSE</td><td> TRUE</td></tr>\n",
       "\t<tr><th scope=row>MSKPCA2</th><td>AR-high  </td><td>Bone    </td><td>AR-high</td><td>-0.16932522</td><td>-1.1744594</td><td>-0.4283587</td><td>NA       </td><td>         NA</td><td>        NA</td><td>MSKPCA</td><td>FALSE</td><td>FALSE</td></tr>\n",
       "\t<tr><th scope=row>MSKPCA3</th><td>Stem-like</td><td>LN      </td><td>AR-low </td><td> 0.61096679</td><td>-0.6447303</td><td> 0.5559110</td><td>No change</td><td> 1.70639206</td><td>-2.9749293</td><td>MSKPCA</td><td>FALSE</td><td>FALSE</td></tr>\n",
       "\t<tr><th scope=row>MSKPCA6</th><td>Stem-like</td><td>Prostate</td><td>AR-null</td><td>-2.53775805</td><td>-0.9991367</td><td>-1.8280254</td><td>No change</td><td> 0.00000000</td><td>-3.2021205</td><td>MSKPCA</td><td>FALSE</td><td>FALSE</td></tr>\n",
       "\t<tr><th scope=row>MSKPCA8</th><td>Stem-like</td><td>Bone    </td><td>AR-low </td><td> 0.94606984</td><td> 0.4850357</td><td> 1.0331534</td><td>No change</td><td>-0.00615388</td><td> 0.0000000</td><td>MSKPCA</td><td>FALSE</td><td>FALSE</td></tr>\n",
       "\t<tr><th scope=row>MSKPCA11</th><td>Stem-like</td><td>Liver   </td><td>AR-low </td><td> 0.98558158</td><td> 0.1106119</td><td> 1.1227254</td><td>No change</td><td> 1.02212017</td><td>-0.9067406</td><td>MSKPCA</td><td>FALSE</td><td>FALSE</td></tr>\n",
       "\t<tr><th scope=row>MSKPCA12</th><td>Stem-like</td><td>LN      </td><td>AR-low </td><td> 0.56391735</td><td> 0.2588557</td><td> 0.5957691</td><td>No change</td><td> 0.69406075</td><td>-5.7839008</td><td>MSKPCA</td><td>FALSE</td><td>FALSE</td></tr>\n",
       "\t<tr><th scope=row>MSKPCA16</th><td>Wnt      </td><td>Liver   </td><td>AR-null</td><td> 0.44090926</td><td> 1.7844987</td><td>-0.1401093</td><td>Decreased</td><td> 0.00000000</td><td>-1.5304376</td><td>MSKPCA</td><td>FALSE</td><td> TRUE</td></tr>\n",
       "\t<tr><th scope=row>WCM154</th><td>NEPC     </td><td>Bone    </td><td>AR-null</td><td> 0.08569599</td><td>-0.2941126</td><td>-1.0655841</td><td>No change</td><td> 0.00000000</td><td> 0.0000000</td><td>WCM   </td><td> TRUE</td><td>FALSE</td></tr>\n",
       "\t<tr><th scope=row>WCM155</th><td>NEPC     </td><td>Liver   </td><td>AR-null</td><td>-1.08313596</td><td>-0.7489116</td><td>-0.7631099</td><td>No change</td><td> 0.00000000</td><td> 0.0000000</td><td>WCM   </td><td> TRUE</td><td>FALSE</td></tr>\n",
       "\t<tr><th scope=row>LuCAP49</th><td>NEPC     </td><td>LN      </td><td>AR-null</td><td>-0.49871998</td><td>-0.5215121</td><td>-0.9143470</td><td>Decreased</td><td> 0.00000000</td><td> 0.0000000</td><td>LuCAP </td><td> TRUE</td><td>FALSE</td></tr>\n",
       "\t<tr><th scope=row>LuCAP176</th><td>Stem-like</td><td>Liver   </td><td>AR-low </td><td> 0.58744207</td><td>-0.1929373</td><td> 0.5758400</td><td>No change</td><td> 1.16557509</td><td> 0.0000000</td><td>LuCAP </td><td>FALSE</td><td>FALSE</td></tr>\n",
       "</tbody>\n",
       "</table>\n"
      ],
      "text/latex": [
       "A data.frame: 12 × 12\n",
       "\\begin{tabular}{r|llllllllllll}\n",
       "  & Tang..et.al..subtype & Tissue & AR.status & JAK\\_STAT.signature & FGFR.signature & EMT.signature & Viability.after.Rux\\_Erda & AR.after.Rux\\_Erda & VIM.after.Rux\\_Erda & batch & NEPC & WNT\\\\\n",
       "  & <chr> & <chr> & <chr> & <dbl> & <dbl> & <dbl> & <chr> & <dbl> & <dbl> & <chr> & <lgl> & <lgl>\\\\\n",
       "\\hline\n",
       "\tMSKPCA1 & Wnt       & Bone     & AR-null &  0.06835634 &  1.9367981 &  1.2561356 & Decreased &  0.00000000 & -1.0439086 & MSKPCA & FALSE &  TRUE\\\\\n",
       "\tMSKPCA2 & AR-high   & Bone     & AR-high & -0.16932522 & -1.1744594 & -0.4283587 & NA        &          NA &         NA & MSKPCA & FALSE & FALSE\\\\\n",
       "\tMSKPCA3 & Stem-like & LN       & AR-low  &  0.61096679 & -0.6447303 &  0.5559110 & No change &  1.70639206 & -2.9749293 & MSKPCA & FALSE & FALSE\\\\\n",
       "\tMSKPCA6 & Stem-like & Prostate & AR-null & -2.53775805 & -0.9991367 & -1.8280254 & No change &  0.00000000 & -3.2021205 & MSKPCA & FALSE & FALSE\\\\\n",
       "\tMSKPCA8 & Stem-like & Bone     & AR-low  &  0.94606984 &  0.4850357 &  1.0331534 & No change & -0.00615388 &  0.0000000 & MSKPCA & FALSE & FALSE\\\\\n",
       "\tMSKPCA11 & Stem-like & Liver    & AR-low  &  0.98558158 &  0.1106119 &  1.1227254 & No change &  1.02212017 & -0.9067406 & MSKPCA & FALSE & FALSE\\\\\n",
       "\tMSKPCA12 & Stem-like & LN       & AR-low  &  0.56391735 &  0.2588557 &  0.5957691 & No change &  0.69406075 & -5.7839008 & MSKPCA & FALSE & FALSE\\\\\n",
       "\tMSKPCA16 & Wnt       & Liver    & AR-null &  0.44090926 &  1.7844987 & -0.1401093 & Decreased &  0.00000000 & -1.5304376 & MSKPCA & FALSE &  TRUE\\\\\n",
       "\tWCM154 & NEPC      & Bone     & AR-null &  0.08569599 & -0.2941126 & -1.0655841 & No change &  0.00000000 &  0.0000000 & WCM    &  TRUE & FALSE\\\\\n",
       "\tWCM155 & NEPC      & Liver    & AR-null & -1.08313596 & -0.7489116 & -0.7631099 & No change &  0.00000000 &  0.0000000 & WCM    &  TRUE & FALSE\\\\\n",
       "\tLuCAP49 & NEPC      & LN       & AR-null & -0.49871998 & -0.5215121 & -0.9143470 & Decreased &  0.00000000 &  0.0000000 & LuCAP  &  TRUE & FALSE\\\\\n",
       "\tLuCAP176 & Stem-like & Liver    & AR-low  &  0.58744207 & -0.1929373 &  0.5758400 & No change &  1.16557509 &  0.0000000 & LuCAP  & FALSE & FALSE\\\\\n",
       "\\end{tabular}\n"
      ],
      "text/markdown": [
       "\n",
       "A data.frame: 12 × 12\n",
       "\n",
       "| <!--/--> | Tang..et.al..subtype &lt;chr&gt; | Tissue &lt;chr&gt; | AR.status &lt;chr&gt; | JAK_STAT.signature &lt;dbl&gt; | FGFR.signature &lt;dbl&gt; | EMT.signature &lt;dbl&gt; | Viability.after.Rux_Erda &lt;chr&gt; | AR.after.Rux_Erda &lt;dbl&gt; | VIM.after.Rux_Erda &lt;dbl&gt; | batch &lt;chr&gt; | NEPC &lt;lgl&gt; | WNT &lt;lgl&gt; |\n",
       "|---|---|---|---|---|---|---|---|---|---|---|---|---|\n",
       "| MSKPCA1 | Wnt       | Bone     | AR-null |  0.06835634 |  1.9367981 |  1.2561356 | Decreased |  0.00000000 | -1.0439086 | MSKPCA | FALSE |  TRUE |\n",
       "| MSKPCA2 | AR-high   | Bone     | AR-high | -0.16932522 | -1.1744594 | -0.4283587 | NA        |          NA |         NA | MSKPCA | FALSE | FALSE |\n",
       "| MSKPCA3 | Stem-like | LN       | AR-low  |  0.61096679 | -0.6447303 |  0.5559110 | No change |  1.70639206 | -2.9749293 | MSKPCA | FALSE | FALSE |\n",
       "| MSKPCA6 | Stem-like | Prostate | AR-null | -2.53775805 | -0.9991367 | -1.8280254 | No change |  0.00000000 | -3.2021205 | MSKPCA | FALSE | FALSE |\n",
       "| MSKPCA8 | Stem-like | Bone     | AR-low  |  0.94606984 |  0.4850357 |  1.0331534 | No change | -0.00615388 |  0.0000000 | MSKPCA | FALSE | FALSE |\n",
       "| MSKPCA11 | Stem-like | Liver    | AR-low  |  0.98558158 |  0.1106119 |  1.1227254 | No change |  1.02212017 | -0.9067406 | MSKPCA | FALSE | FALSE |\n",
       "| MSKPCA12 | Stem-like | LN       | AR-low  |  0.56391735 |  0.2588557 |  0.5957691 | No change |  0.69406075 | -5.7839008 | MSKPCA | FALSE | FALSE |\n",
       "| MSKPCA16 | Wnt       | Liver    | AR-null |  0.44090926 |  1.7844987 | -0.1401093 | Decreased |  0.00000000 | -1.5304376 | MSKPCA | FALSE |  TRUE |\n",
       "| WCM154 | NEPC      | Bone     | AR-null |  0.08569599 | -0.2941126 | -1.0655841 | No change |  0.00000000 |  0.0000000 | WCM    |  TRUE | FALSE |\n",
       "| WCM155 | NEPC      | Liver    | AR-null | -1.08313596 | -0.7489116 | -0.7631099 | No change |  0.00000000 |  0.0000000 | WCM    |  TRUE | FALSE |\n",
       "| LuCAP49 | NEPC      | LN       | AR-null | -0.49871998 | -0.5215121 | -0.9143470 | Decreased |  0.00000000 |  0.0000000 | LuCAP  |  TRUE | FALSE |\n",
       "| LuCAP176 | Stem-like | Liver    | AR-low  |  0.58744207 | -0.1929373 |  0.5758400 | No change |  1.16557509 |  0.0000000 | LuCAP  | FALSE | FALSE |\n",
       "\n"
      ],
      "text/plain": [
       "         Tang..et.al..subtype Tissue   AR.status JAK_STAT.signature\n",
       "MSKPCA1  Wnt                  Bone     AR-null    0.06835634       \n",
       "MSKPCA2  AR-high              Bone     AR-high   -0.16932522       \n",
       "MSKPCA3  Stem-like            LN       AR-low     0.61096679       \n",
       "MSKPCA6  Stem-like            Prostate AR-null   -2.53775805       \n",
       "MSKPCA8  Stem-like            Bone     AR-low     0.94606984       \n",
       "MSKPCA11 Stem-like            Liver    AR-low     0.98558158       \n",
       "MSKPCA12 Stem-like            LN       AR-low     0.56391735       \n",
       "MSKPCA16 Wnt                  Liver    AR-null    0.44090926       \n",
       "WCM154   NEPC                 Bone     AR-null    0.08569599       \n",
       "WCM155   NEPC                 Liver    AR-null   -1.08313596       \n",
       "LuCAP49  NEPC                 LN       AR-null   -0.49871998       \n",
       "LuCAP176 Stem-like            Liver    AR-low     0.58744207       \n",
       "         FGFR.signature EMT.signature Viability.after.Rux_Erda\n",
       "MSKPCA1   1.9367981      1.2561356    Decreased               \n",
       "MSKPCA2  -1.1744594     -0.4283587    NA                      \n",
       "MSKPCA3  -0.6447303      0.5559110    No change               \n",
       "MSKPCA6  -0.9991367     -1.8280254    No change               \n",
       "MSKPCA8   0.4850357      1.0331534    No change               \n",
       "MSKPCA11  0.1106119      1.1227254    No change               \n",
       "MSKPCA12  0.2588557      0.5957691    No change               \n",
       "MSKPCA16  1.7844987     -0.1401093    Decreased               \n",
       "WCM154   -0.2941126     -1.0655841    No change               \n",
       "WCM155   -0.7489116     -0.7631099    No change               \n",
       "LuCAP49  -0.5215121     -0.9143470    Decreased               \n",
       "LuCAP176 -0.1929373      0.5758400    No change               \n",
       "         AR.after.Rux_Erda VIM.after.Rux_Erda batch  NEPC  WNT  \n",
       "MSKPCA1   0.00000000       -1.0439086         MSKPCA FALSE  TRUE\n",
       "MSKPCA2           NA               NA         MSKPCA FALSE FALSE\n",
       "MSKPCA3   1.70639206       -2.9749293         MSKPCA FALSE FALSE\n",
       "MSKPCA6   0.00000000       -3.2021205         MSKPCA FALSE FALSE\n",
       "MSKPCA8  -0.00615388        0.0000000         MSKPCA FALSE FALSE\n",
       "MSKPCA11  1.02212017       -0.9067406         MSKPCA FALSE FALSE\n",
       "MSKPCA12  0.69406075       -5.7839008         MSKPCA FALSE FALSE\n",
       "MSKPCA16  0.00000000       -1.5304376         MSKPCA FALSE  TRUE\n",
       "WCM154    0.00000000        0.0000000         WCM     TRUE FALSE\n",
       "WCM155    0.00000000        0.0000000         WCM     TRUE FALSE\n",
       "LuCAP49   0.00000000        0.0000000         LuCAP   TRUE FALSE\n",
       "LuCAP176  1.16557509        0.0000000         LuCAP  FALSE FALSE"
      ]
     },
     "metadata": {},
     "output_type": "display_data"
    }
   ],
   "source": [
    "df"
   ]
  },
  {
   "cell_type": "code",
   "execution_count": 10,
   "metadata": {
    "ExecuteTime": {
     "end_time": "2022-05-20T21:03:24.831546Z",
     "start_time": "2022-05-20T21:03:19.221Z"
    },
    "scrolled": true
   },
   "outputs": [
    {
     "name": "stderr",
     "output_type": "stream",
     "text": [
      "Warning message in DESeqDataSet(se, design = design, ignoreRank):\n",
      "“some variables in design formula are characters, converting to factors”\n",
      "using counts and average transcript lengths from tximport\n",
      "\n"
     ]
    }
   ],
   "source": [
    "dds <- DESeqDataSetFromTximport(txi.kallisto, df, ~batch + Tissue + NEPC + WNT)"
   ]
  },
  {
   "cell_type": "code",
   "execution_count": 11,
   "metadata": {
    "ExecuteTime": {
     "end_time": "2022-05-20T21:03:24.925323Z",
     "start_time": "2022-05-20T21:03:20.226Z"
    }
   },
   "outputs": [],
   "source": [
    "keep <- rowSums(counts(dds)) >= 10\n",
    "dds <- dds[keep,]"
   ]
  },
  {
   "cell_type": "code",
   "execution_count": 12,
   "metadata": {
    "ExecuteTime": {
     "end_time": "2022-05-20T21:09:58.658403Z",
     "start_time": "2022-05-20T21:03:20.506Z"
    }
   },
   "outputs": [
    {
     "name": "stderr",
     "output_type": "stream",
     "text": [
      "estimating size factors\n",
      "\n",
      "using 'avgTxLength' from assays(dds), correcting for library size\n",
      "\n",
      "estimating dispersions\n",
      "\n",
      "gene-wise dispersion estimates\n",
      "\n",
      "mean-dispersion relationship\n",
      "\n",
      "final dispersion estimates\n",
      "\n",
      "fitting model and testing\n",
      "\n",
      "1 rows did not converge in beta, labelled in mcols(object)$betaConv. Use larger maxit argument with nbinomWaldTest\n",
      "\n"
     ]
    }
   ],
   "source": [
    "dds <- DESeq(dds)"
   ]
  },
  {
   "cell_type": "code",
   "execution_count": 13,
   "metadata": {
    "ExecuteTime": {
     "end_time": "2022-05-20T21:09:59.043563Z",
     "start_time": "2022-05-20T21:03:20.921Z"
    }
   },
   "outputs": [
    {
     "data": {
      "image/png": "[encoded data removed]",
      "text/plain": [
       "Plot with title “Raw counts”"
      ]
     },
     "metadata": {
      "image/png": {
       "height": 420,
       "width": 420
      }
     },
     "output_type": "display_data"
    }
   ],
   "source": [
    "boxplot(assays(dds)[[\"counts\"]], las=2, main='Raw counts', outline=F)"
   ]
  },
  {
   "cell_type": "code",
   "execution_count": 14,
   "metadata": {
    "ExecuteTime": {
     "end_time": "2022-05-20T21:09:59.377575Z",
     "start_time": "2022-05-20T21:03:21.352Z"
    }
   },
   "outputs": [
    {
     "data": {
      "image/png": "[encoded data removed]",
      "text/plain": [
       "Plot with title “Size factor normalized counts”"
      ]
     },
     "metadata": {
      "image/png": {
       "height": 420,
       "width": 420
      }
     },
     "output_type": "display_data"
    }
   ],
   "source": [
    "boxplot(counts(dds, normalized=TRUE), las=2, outline=F,main='Size factor normalized counts', ylab=\"normalized counts\")"
   ]
  },
  {
   "cell_type": "code",
   "execution_count": 15,
   "metadata": {
    "ExecuteTime": {
     "end_time": "2022-05-20T21:10:00.302870Z",
     "start_time": "2022-05-20T21:03:27.935Z"
    }
   },
   "outputs": [],
   "source": [
    "vsd <- vst(dds, blind = T)"
   ]
  },
  {
   "cell_type": "code",
   "execution_count": 16,
   "metadata": {
    "ExecuteTime": {
     "end_time": "2022-05-20T21:10:00.324665Z",
     "start_time": "2022-05-20T21:03:29.131Z"
    }
   },
   "outputs": [],
   "source": [
    "mm <- model.matrix(~NEPC + WNT + AR.status, colData(vsd))\n"
   ]
  },
  {
   "cell_type": "code",
   "execution_count": 17,
   "metadata": {
    "ExecuteTime": {
     "end_time": "2022-05-20T21:10:00.714470Z",
     "start_time": "2022-05-20T21:03:39.414Z"
    }
   },
   "outputs": [
    {
     "name": "stdout",
     "output_type": "stream",
     "text": [
      "Coefficients not estimable: batch23 \n"
     ]
    },
    {
     "name": "stderr",
     "output_type": "stream",
     "text": [
      "Warning message:\n",
      "“Partial NA coefficients for 145075 probe(s)”\n"
     ]
    }
   ],
   "source": [
    "assay(vsd) <- limma::removeBatchEffect(x = assay(vsd), batch=vsd$batch, batch2=vsd$Tissue, design=mm)"
   ]
  },
  {
   "cell_type": "code",
   "execution_count": 18,
   "metadata": {
    "ExecuteTime": {
     "end_time": "2022-05-20T21:10:00.787217Z",
     "start_time": "2022-05-20T21:03:39.821Z"
    }
   },
   "outputs": [],
   "source": [
    "pca_mat = plotPCA(vsd, intgroup=c('Tang..et.al..subtype'), returnData = T)"
   ]
  },
  {
   "cell_type": "code",
   "execution_count": 19,
   "metadata": {
    "ExecuteTime": {
     "end_time": "2022-05-20T21:10:00.800680Z",
     "start_time": "2022-05-20T21:03:40.193Z"
    }
   },
   "outputs": [],
   "source": [
    "pca_mat = pca_mat[,1:2]"
   ]
  },
  {
   "cell_type": "code",
   "execution_count": 20,
   "metadata": {
    "ExecuteTime": {
     "end_time": "2022-05-20T21:10:00.812972Z",
     "start_time": "2022-05-20T21:03:40.712Z"
    }
   },
   "outputs": [],
   "source": [
    "plot_df = cbind(pca_mat, df)"
   ]
  },
  {
   "cell_type": "code",
   "execution_count": 21,
   "metadata": {
    "ExecuteTime": {
     "end_time": "2022-05-20T21:10:00.825039Z",
     "start_time": "2022-05-20T21:03:40.953Z"
    }
   },
   "outputs": [],
   "source": [
    "plot_df$Tang..et.al..subtype = factor(plot_df$Tang..et.al..subtype)"
   ]
  },
  {
   "cell_type": "code",
   "execution_count": 22,
   "metadata": {
    "ExecuteTime": {
     "end_time": "2022-05-20T21:10:00.837116Z",
     "start_time": "2022-05-20T21:03:41.316Z"
    }
   },
   "outputs": [],
   "source": [
    "plot_df$labels = rownames(plot_df)"
   ]
  },
  {
   "cell_type": "code",
   "execution_count": 23,
   "metadata": {
    "ExecuteTime": {
     "end_time": "2022-05-20T21:10:00.859802Z",
     "start_time": "2022-05-20T21:03:43.400Z"
    }
   },
   "outputs": [],
   "source": [
    "library(repr)\n",
    "options(repr.plot.width=7, repr.plot.height=5,\n",
    "        ggrepel.max.overlaps = Inf)"
   ]
  },
  {
   "cell_type": "code",
   "execution_count": 24,
   "metadata": {
    "ExecuteTime": {
     "end_time": "2022-05-20T21:10:01.543093Z",
     "start_time": "2022-05-20T21:03:50.611Z"
    }
   },
   "outputs": [
    {
     "data": {
      "image/png": "[encoded data removed]",
      "text/plain": [
       "plot without title"
      ]
     },
     "metadata": {
      "image/png": {
       "height": 300,
       "width": 420
      }
     },
     "output_type": "display_data"
    }
   ],
   "source": [
    "p = plot_df %>% ggplot(aes(x=PC1, y=PC2, label=labels)) + geom_point(aes(color = Tang..et.al..subtype, shape = AR.status)) +\n",
    "    geom_text_repel(size=2) +     \n",
    "    theme_bw() + theme(text = element_text(size=15),\n",
    "                                                   plot.title = element_text(hjust = 0.5),\n",
    "                                                   panel.grid.minor = element_blank(),\n",
    "                                                  panel.grid.major = element_blank()) \n",
    "p"
   ]
  },
  {
   "cell_type": "code",
   "execution_count": 31,
   "metadata": {
    "ExecuteTime": {
     "end_time": "2022-05-20T21:25:20.195083Z",
     "start_time": "2022-05-20T21:25:20.142Z"
    }
   },
   "outputs": [],
   "source": [
    "fig_dir = '/home/chanj3/data/SCPC_transformation.human_organoid.resubmission.010122/out.human_organoid.resubmission/figures/'"
   ]
  },
  {
   "cell_type": "code",
   "execution_count": 32,
   "metadata": {
    "ExecuteTime": {
     "end_time": "2022-05-20T21:25:30.148240Z",
     "start_time": "2022-05-20T21:25:29.850Z"
    }
   },
   "outputs": [],
   "source": [
    "cairo_pdf(file = paste0(out_dir,'PCA.human_organoids.all.updated.060122.pdf'), width = 5, height = 3)\n",
    "\n",
    "p\n",
    "\n",
    "while (!is.null(dev.list()))  dev.off()\n"
   ]
  },
  {
   "cell_type": "code",
   "execution_count": 35,
   "metadata": {
    "ExecuteTime": {
     "end_time": "2022-05-20T21:26:34.192328Z",
     "start_time": "2022-05-20T21:26:32.607Z"
    }
   },
   "outputs": [],
   "source": [
    "write.table(assay(vsd), paste0(out_dir, 'human_organoids.vst.expression.tissue_corrected.csv'), quote=F,sep=',')"
   ]
  },
  {
   "cell_type": "markdown",
   "metadata": {},
   "source": [
    "### Get metadata"
   ]
  },
  {
   "cell_type": "code",
   "execution_count": 18,
   "metadata": {
    "ExecuteTime": {
     "end_time": "2022-05-21T17:44:59.543629Z",
     "start_time": "2022-05-21T17:44:59.428Z"
    }
   },
   "outputs": [],
   "source": [
    "mut_mat = str_split(gsub('HET','DEL',df$P53.RB.PTEN.Mutational.Status),',')\n",
    "mut_mat = do.call(rbind,mut_mat)\n",
    "mut_mat = t(gsub('WT','',mut_mat))\n",
    "rownames(mut_mat) = c('TP53','RB1','PTEN')\n",
    "colnames(mut_mat) = rownames(df)"
   ]
  },
  {
   "cell_type": "code",
   "execution_count": 19,
   "metadata": {
    "ExecuteTime": {
     "end_time": "2022-05-21T17:44:59.748596Z",
     "start_time": "2022-05-21T17:44:59.712Z"
    }
   },
   "outputs": [],
   "source": [
    "col_heat <- c('maroon','darkgreen')\n"
   ]
  },
  {
   "cell_type": "code",
   "execution_count": 20,
   "metadata": {
    "ExecuteTime": {
     "end_time": "2022-05-21T17:45:00.299885Z",
     "start_time": "2022-05-21T17:45:00.241Z"
    }
   },
   "outputs": [],
   "source": [
    "alter_fun = list(\n",
    "    background = function(x, y, w, h) {\n",
    "        grid.rect(x, y, w-unit(0.5, \"mm\"), h-unit(0.5, \"mm\"), gp = gpar(fill = \"#CCCCCC\", col = NA))\n",
    "    },\n",
    "    DEL = function(x, y, w, h) {\n",
    "        grid.rect(x, y, w-unit(0.5, \"mm\"), h-unit(0.5, \"mm\"), gp = gpar(fill = col_heat[1], col = NA))\n",
    "    },\n",
    "    MUT = function(x, y, w, h) {\n",
    "        grid.rect(x, y, w-unit(0.5, \"mm\"), h*0.33, gp = gpar(fill = col_heat[2], col = NA))\n",
    "    },   \n",
    "    NONE = function(x, y, w, h) {\n",
    "        grid.rect(x, y, w-unit(0.5, \"mm\"), h-unit(0.5, \"mm\"), gp = gpar(fill = 'white', col = NA))\n",
    "    }   \n",
    ")\n",
    "\n",
    "col = c(\"DEL\" = col_heat[1],\n",
    "        \"MUT\" = col_heat[2]\n",
    "        )\n",
    "\n",
    "col_desc = c(\"Deletion\",\n",
    "             \"Mutation\"\n",
    "             )\n"
   ]
  },
  {
   "cell_type": "code",
   "execution_count": 21,
   "metadata": {
    "ExecuteTime": {
     "end_time": "2022-05-21T17:45:00.851647Z",
     "start_time": "2022-05-21T17:45:00.792Z"
    }
   },
   "outputs": [
    {
     "data": {
      "text/html": [
       "<table class=\"dataframe\">\n",
       "<caption>A matrix: 3 × 12 of type chr</caption>\n",
       "<thead>\n",
       "\t<tr><th></th><th scope=col>MSKPCA1</th><th scope=col>MSKPCA2</th><th scope=col>MSKPCA3</th><th scope=col>MSKPCA6</th><th scope=col>MSKPCA8</th><th scope=col>MSKPCA11</th><th scope=col>MSKPCA12</th><th scope=col>MSKPCA16</th><th scope=col>WCM154</th><th scope=col>WCM155</th><th scope=col>LuCAP49</th><th scope=col>LuCAP176</th></tr>\n",
       "</thead>\n",
       "<tbody>\n",
       "\t<tr><th scope=row>TP53</th><td>MUT</td><td>MUT</td><td>   </td><td>   </td><td>MUT</td><td>MUT/DEL</td><td>MUT</td><td>MUT</td><td>DEL</td><td>MUT</td><td>DEL</td><td>DEL</td></tr>\n",
       "\t<tr><th scope=row>RB1</th><td>   </td><td>   </td><td>   </td><td>DEL</td><td>MUT</td><td>       </td><td>   </td><td>   </td><td>   </td><td>   </td><td>DEL</td><td>DEL</td></tr>\n",
       "\t<tr><th scope=row>PTEN</th><td>DEL</td><td>DEL</td><td>DEL</td><td>DEL</td><td>DEL</td><td>DEL    </td><td>   </td><td>   </td><td>   </td><td>DEL</td><td>DEL</td><td>DEL</td></tr>\n",
       "</tbody>\n",
       "</table>\n"
      ],
      "text/latex": [
       "A matrix: 3 × 12 of type chr\n",
       "\\begin{tabular}{r|llllllllllll}\n",
       "  & MSKPCA1 & MSKPCA2 & MSKPCA3 & MSKPCA6 & MSKPCA8 & MSKPCA11 & MSKPCA12 & MSKPCA16 & WCM154 & WCM155 & LuCAP49 & LuCAP176\\\\\n",
       "\\hline\n",
       "\tTP53 & MUT & MUT &     &     & MUT & MUT/DEL & MUT & MUT & DEL & MUT & DEL & DEL\\\\\n",
       "\tRB1 &     &     &     & DEL & MUT &         &     &     &     &     & DEL & DEL\\\\\n",
       "\tPTEN & DEL & DEL & DEL & DEL & DEL & DEL     &     &     &     & DEL & DEL & DEL\\\\\n",
       "\\end{tabular}\n"
      ],
      "text/markdown": [
       "\n",
       "A matrix: 3 × 12 of type chr\n",
       "\n",
       "| <!--/--> | MSKPCA1 | MSKPCA2 | MSKPCA3 | MSKPCA6 | MSKPCA8 | MSKPCA11 | MSKPCA12 | MSKPCA16 | WCM154 | WCM155 | LuCAP49 | LuCAP176 |\n",
       "|---|---|---|---|---|---|---|---|---|---|---|---|---|\n",
       "| TP53 | MUT | MUT | <!----> | <!----> | MUT | MUT/DEL | MUT | MUT | DEL | MUT | DEL | DEL |\n",
       "| RB1 | <!----> | <!----> | <!----> | DEL | MUT | <!----> | <!----> | <!----> | <!----> | <!----> | DEL | DEL |\n",
       "| PTEN | DEL | DEL | DEL | DEL | DEL | DEL     | <!----> | <!----> | <!----> | DEL | DEL | DEL |\n",
       "\n"
      ],
      "text/plain": [
       "     MSKPCA1 MSKPCA2 MSKPCA3 MSKPCA6 MSKPCA8 MSKPCA11 MSKPCA12 MSKPCA16 WCM154\n",
       "TP53 MUT     MUT                     MUT     MUT/DEL  MUT      MUT      DEL   \n",
       "RB1                          DEL     MUT                                      \n",
       "PTEN DEL     DEL     DEL     DEL     DEL     DEL                              \n",
       "     WCM155 LuCAP49 LuCAP176\n",
       "TP53 MUT    DEL     DEL     \n",
       "RB1         DEL     DEL     \n",
       "PTEN DEL    DEL     DEL     "
      ]
     },
     "metadata": {},
     "output_type": "display_data"
    }
   ],
   "source": [
    "\n",
    "mut_mat"
   ]
  },
  {
   "cell_type": "code",
   "execution_count": 22,
   "metadata": {
    "ExecuteTime": {
     "end_time": "2022-05-21T17:46:25.922163Z",
     "start_time": "2022-05-21T17:46:25.859Z"
    }
   },
   "outputs": [
    {
     "data": {
      "text/html": [
       "<table class=\"dataframe\">\n",
       "<caption>A data.frame: 12 × 13</caption>\n",
       "<thead>\n",
       "\t<tr><th></th><th scope=col>Tang..et.al..subtype</th><th scope=col>Tissue</th><th scope=col>AR.status</th><th scope=col>JAK_STAT.signature</th><th scope=col>FGFR.signature</th><th scope=col>EMT.signature</th><th scope=col>Viability.after.Rux_Erda</th><th scope=col>AR.after.Rux_Erda</th><th scope=col>VIM.after.Rux_Erda</th><th scope=col>P53.RB.PTEN.Mutational.Status</th><th scope=col>batch</th><th scope=col>NEPC</th><th scope=col>WNT</th></tr>\n",
       "\t<tr><th></th><th scope=col>&lt;chr&gt;</th><th scope=col>&lt;chr&gt;</th><th scope=col>&lt;chr&gt;</th><th scope=col>&lt;dbl&gt;</th><th scope=col>&lt;dbl&gt;</th><th scope=col>&lt;dbl&gt;</th><th scope=col>&lt;chr&gt;</th><th scope=col>&lt;dbl&gt;</th><th scope=col>&lt;dbl&gt;</th><th scope=col>&lt;chr&gt;</th><th scope=col>&lt;chr&gt;</th><th scope=col>&lt;lgl&gt;</th><th scope=col>&lt;lgl&gt;</th></tr>\n",
       "</thead>\n",
       "<tbody>\n",
       "\t<tr><th scope=row>MSKPCA1</th><td>Wnt      </td><td>Bone    </td><td>AR-null</td><td> 0.06835634</td><td> 1.9367981</td><td> 1.2561356</td><td>Decreased</td><td> 0.00000000</td><td>-1.0439086</td><td>MUT,WT,DEL    </td><td>MSKPCA</td><td>FALSE</td><td> TRUE</td></tr>\n",
       "\t<tr><th scope=row>MSKPCA2</th><td>AR-high  </td><td>Bone    </td><td>AR-high</td><td>-0.16932522</td><td>-1.1744594</td><td>-0.4283587</td><td>NA       </td><td>         NA</td><td>        NA</td><td>MUT,WT,DEL    </td><td>MSKPCA</td><td>FALSE</td><td>FALSE</td></tr>\n",
       "\t<tr><th scope=row>MSKPCA3</th><td>Stem-like</td><td>LN      </td><td>AR-low </td><td> 0.61096679</td><td>-0.6447303</td><td> 0.5559110</td><td>No change</td><td> 1.70639206</td><td>-2.9749293</td><td>WT,WT,DEL     </td><td>MSKPCA</td><td>FALSE</td><td>FALSE</td></tr>\n",
       "\t<tr><th scope=row>MSKPCA6</th><td>Stem-like</td><td>Prostate</td><td>AR-null</td><td>-2.53775805</td><td>-0.9991367</td><td>-1.8280254</td><td>No change</td><td> 0.00000000</td><td>-3.2021205</td><td>WT,HET,DEL    </td><td>MSKPCA</td><td>FALSE</td><td>FALSE</td></tr>\n",
       "\t<tr><th scope=row>MSKPCA8</th><td>Stem-like</td><td>Bone    </td><td>AR-low </td><td> 0.94606984</td><td> 0.4850357</td><td> 1.0331534</td><td>No change</td><td>-0.00615388</td><td> 0.0000000</td><td>MUT,MUT,DEL   </td><td>MSKPCA</td><td>FALSE</td><td>FALSE</td></tr>\n",
       "\t<tr><th scope=row>MSKPCA11</th><td>Stem-like</td><td>Liver   </td><td>AR-low </td><td> 0.98558158</td><td> 0.1106119</td><td> 1.1227254</td><td>No change</td><td> 1.02212017</td><td>-0.9067406</td><td>MUT/DEL,WT,DEL</td><td>MSKPCA</td><td>FALSE</td><td>FALSE</td></tr>\n",
       "\t<tr><th scope=row>MSKPCA12</th><td>Stem-like</td><td>LN      </td><td>AR-low </td><td> 0.56391735</td><td> 0.2588557</td><td> 0.5957691</td><td>No change</td><td> 0.69406075</td><td>-5.7839008</td><td>MUT,WT,WT     </td><td>MSKPCA</td><td>FALSE</td><td>FALSE</td></tr>\n",
       "\t<tr><th scope=row>MSKPCA16</th><td>Wnt      </td><td>Liver   </td><td>AR-null</td><td> 0.44090926</td><td> 1.7844987</td><td>-0.1401093</td><td>Decreased</td><td> 0.00000000</td><td>-1.5304376</td><td>MUT,WT,WT     </td><td>MSKPCA</td><td>FALSE</td><td> TRUE</td></tr>\n",
       "\t<tr><th scope=row>WCM154</th><td>NEPC     </td><td>Bone    </td><td>AR-null</td><td> 0.08569599</td><td>-0.2941126</td><td>-1.0655841</td><td>No change</td><td> 0.00000000</td><td> 0.0000000</td><td>DEL,WT,WT     </td><td>WCM   </td><td> TRUE</td><td>FALSE</td></tr>\n",
       "\t<tr><th scope=row>WCM155</th><td>NEPC     </td><td>Liver   </td><td>AR-null</td><td>-1.08313596</td><td>-0.7489116</td><td>-0.7631099</td><td>No change</td><td> 0.00000000</td><td> 0.0000000</td><td>MUT,WT,DEL    </td><td>WCM   </td><td> TRUE</td><td>FALSE</td></tr>\n",
       "\t<tr><th scope=row>LuCAP49</th><td>NEPC     </td><td>LN      </td><td>AR-null</td><td>-0.49871998</td><td>-0.5215121</td><td>-0.9143470</td><td>Decreased</td><td> 0.00000000</td><td> 0.0000000</td><td>DEL,DEL,DEL   </td><td>LuCAP </td><td> TRUE</td><td>FALSE</td></tr>\n",
       "\t<tr><th scope=row>LuCAP176</th><td>Stem-like</td><td>Liver   </td><td>AR-low </td><td> 0.58744207</td><td>-0.1929373</td><td> 0.5758400</td><td>No change</td><td> 1.16557509</td><td> 0.0000000</td><td>DEL,DEL,DEL   </td><td>LuCAP </td><td>FALSE</td><td>FALSE</td></tr>\n",
       "</tbody>\n",
       "</table>\n"
      ],
      "text/latex": [
       "A data.frame: 12 × 13\n",
       "\\begin{tabular}{r|lllllllllllll}\n",
       "  & Tang..et.al..subtype & Tissue & AR.status & JAK\\_STAT.signature & FGFR.signature & EMT.signature & Viability.after.Rux\\_Erda & AR.after.Rux\\_Erda & VIM.after.Rux\\_Erda & P53.RB.PTEN.Mutational.Status & batch & NEPC & WNT\\\\\n",
       "  & <chr> & <chr> & <chr> & <dbl> & <dbl> & <dbl> & <chr> & <dbl> & <dbl> & <chr> & <chr> & <lgl> & <lgl>\\\\\n",
       "\\hline\n",
       "\tMSKPCA1 & Wnt       & Bone     & AR-null &  0.06835634 &  1.9367981 &  1.2561356 & Decreased &  0.00000000 & -1.0439086 & MUT,WT,DEL     & MSKPCA & FALSE &  TRUE\\\\\n",
       "\tMSKPCA2 & AR-high   & Bone     & AR-high & -0.16932522 & -1.1744594 & -0.4283587 & NA        &          NA &         NA & MUT,WT,DEL     & MSKPCA & FALSE & FALSE\\\\\n",
       "\tMSKPCA3 & Stem-like & LN       & AR-low  &  0.61096679 & -0.6447303 &  0.5559110 & No change &  1.70639206 & -2.9749293 & WT,WT,DEL      & MSKPCA & FALSE & FALSE\\\\\n",
       "\tMSKPCA6 & Stem-like & Prostate & AR-null & -2.53775805 & -0.9991367 & -1.8280254 & No change &  0.00000000 & -3.2021205 & WT,HET,DEL     & MSKPCA & FALSE & FALSE\\\\\n",
       "\tMSKPCA8 & Stem-like & Bone     & AR-low  &  0.94606984 &  0.4850357 &  1.0331534 & No change & -0.00615388 &  0.0000000 & MUT,MUT,DEL    & MSKPCA & FALSE & FALSE\\\\\n",
       "\tMSKPCA11 & Stem-like & Liver    & AR-low  &  0.98558158 &  0.1106119 &  1.1227254 & No change &  1.02212017 & -0.9067406 & MUT/DEL,WT,DEL & MSKPCA & FALSE & FALSE\\\\\n",
       "\tMSKPCA12 & Stem-like & LN       & AR-low  &  0.56391735 &  0.2588557 &  0.5957691 & No change &  0.69406075 & -5.7839008 & MUT,WT,WT      & MSKPCA & FALSE & FALSE\\\\\n",
       "\tMSKPCA16 & Wnt       & Liver    & AR-null &  0.44090926 &  1.7844987 & -0.1401093 & Decreased &  0.00000000 & -1.5304376 & MUT,WT,WT      & MSKPCA & FALSE &  TRUE\\\\\n",
       "\tWCM154 & NEPC      & Bone     & AR-null &  0.08569599 & -0.2941126 & -1.0655841 & No change &  0.00000000 &  0.0000000 & DEL,WT,WT      & WCM    &  TRUE & FALSE\\\\\n",
       "\tWCM155 & NEPC      & Liver    & AR-null & -1.08313596 & -0.7489116 & -0.7631099 & No change &  0.00000000 &  0.0000000 & MUT,WT,DEL     & WCM    &  TRUE & FALSE\\\\\n",
       "\tLuCAP49 & NEPC      & LN       & AR-null & -0.49871998 & -0.5215121 & -0.9143470 & Decreased &  0.00000000 &  0.0000000 & DEL,DEL,DEL    & LuCAP  &  TRUE & FALSE\\\\\n",
       "\tLuCAP176 & Stem-like & Liver    & AR-low  &  0.58744207 & -0.1929373 &  0.5758400 & No change &  1.16557509 &  0.0000000 & DEL,DEL,DEL    & LuCAP  & FALSE & FALSE\\\\\n",
       "\\end{tabular}\n"
      ],
      "text/markdown": [
       "\n",
       "A data.frame: 12 × 13\n",
       "\n",
       "| <!--/--> | Tang..et.al..subtype &lt;chr&gt; | Tissue &lt;chr&gt; | AR.status &lt;chr&gt; | JAK_STAT.signature &lt;dbl&gt; | FGFR.signature &lt;dbl&gt; | EMT.signature &lt;dbl&gt; | Viability.after.Rux_Erda &lt;chr&gt; | AR.after.Rux_Erda &lt;dbl&gt; | VIM.after.Rux_Erda &lt;dbl&gt; | P53.RB.PTEN.Mutational.Status &lt;chr&gt; | batch &lt;chr&gt; | NEPC &lt;lgl&gt; | WNT &lt;lgl&gt; |\n",
       "|---|---|---|---|---|---|---|---|---|---|---|---|---|---|\n",
       "| MSKPCA1 | Wnt       | Bone     | AR-null |  0.06835634 |  1.9367981 |  1.2561356 | Decreased |  0.00000000 | -1.0439086 | MUT,WT,DEL     | MSKPCA | FALSE |  TRUE |\n",
       "| MSKPCA2 | AR-high   | Bone     | AR-high | -0.16932522 | -1.1744594 | -0.4283587 | NA        |          NA |         NA | MUT,WT,DEL     | MSKPCA | FALSE | FALSE |\n",
       "| MSKPCA3 | Stem-like | LN       | AR-low  |  0.61096679 | -0.6447303 |  0.5559110 | No change |  1.70639206 | -2.9749293 | WT,WT,DEL      | MSKPCA | FALSE | FALSE |\n",
       "| MSKPCA6 | Stem-like | Prostate | AR-null | -2.53775805 | -0.9991367 | -1.8280254 | No change |  0.00000000 | -3.2021205 | WT,HET,DEL     | MSKPCA | FALSE | FALSE |\n",
       "| MSKPCA8 | Stem-like | Bone     | AR-low  |  0.94606984 |  0.4850357 |  1.0331534 | No change | -0.00615388 |  0.0000000 | MUT,MUT,DEL    | MSKPCA | FALSE | FALSE |\n",
       "| MSKPCA11 | Stem-like | Liver    | AR-low  |  0.98558158 |  0.1106119 |  1.1227254 | No change |  1.02212017 | -0.9067406 | MUT/DEL,WT,DEL | MSKPCA | FALSE | FALSE |\n",
       "| MSKPCA12 | Stem-like | LN       | AR-low  |  0.56391735 |  0.2588557 |  0.5957691 | No change |  0.69406075 | -5.7839008 | MUT,WT,WT      | MSKPCA | FALSE | FALSE |\n",
       "| MSKPCA16 | Wnt       | Liver    | AR-null |  0.44090926 |  1.7844987 | -0.1401093 | Decreased |  0.00000000 | -1.5304376 | MUT,WT,WT      | MSKPCA | FALSE |  TRUE |\n",
       "| WCM154 | NEPC      | Bone     | AR-null |  0.08569599 | -0.2941126 | -1.0655841 | No change |  0.00000000 |  0.0000000 | DEL,WT,WT      | WCM    |  TRUE | FALSE |\n",
       "| WCM155 | NEPC      | Liver    | AR-null | -1.08313596 | -0.7489116 | -0.7631099 | No change |  0.00000000 |  0.0000000 | MUT,WT,DEL     | WCM    |  TRUE | FALSE |\n",
       "| LuCAP49 | NEPC      | LN       | AR-null | -0.49871998 | -0.5215121 | -0.9143470 | Decreased |  0.00000000 |  0.0000000 | DEL,DEL,DEL    | LuCAP  |  TRUE | FALSE |\n",
       "| LuCAP176 | Stem-like | Liver    | AR-low  |  0.58744207 | -0.1929373 |  0.5758400 | No change |  1.16557509 |  0.0000000 | DEL,DEL,DEL    | LuCAP  | FALSE | FALSE |\n",
       "\n"
      ],
      "text/plain": [
       "         Tang..et.al..subtype Tissue   AR.status JAK_STAT.signature\n",
       "MSKPCA1  Wnt                  Bone     AR-null    0.06835634       \n",
       "MSKPCA2  AR-high              Bone     AR-high   -0.16932522       \n",
       "MSKPCA3  Stem-like            LN       AR-low     0.61096679       \n",
       "MSKPCA6  Stem-like            Prostate AR-null   -2.53775805       \n",
       "MSKPCA8  Stem-like            Bone     AR-low     0.94606984       \n",
       "MSKPCA11 Stem-like            Liver    AR-low     0.98558158       \n",
       "MSKPCA12 Stem-like            LN       AR-low     0.56391735       \n",
       "MSKPCA16 Wnt                  Liver    AR-null    0.44090926       \n",
       "WCM154   NEPC                 Bone     AR-null    0.08569599       \n",
       "WCM155   NEPC                 Liver    AR-null   -1.08313596       \n",
       "LuCAP49  NEPC                 LN       AR-null   -0.49871998       \n",
       "LuCAP176 Stem-like            Liver    AR-low     0.58744207       \n",
       "         FGFR.signature EMT.signature Viability.after.Rux_Erda\n",
       "MSKPCA1   1.9367981      1.2561356    Decreased               \n",
       "MSKPCA2  -1.1744594     -0.4283587    NA                      \n",
       "MSKPCA3  -0.6447303      0.5559110    No change               \n",
       "MSKPCA6  -0.9991367     -1.8280254    No change               \n",
       "MSKPCA8   0.4850357      1.0331534    No change               \n",
       "MSKPCA11  0.1106119      1.1227254    No change               \n",
       "MSKPCA12  0.2588557      0.5957691    No change               \n",
       "MSKPCA16  1.7844987     -0.1401093    Decreased               \n",
       "WCM154   -0.2941126     -1.0655841    No change               \n",
       "WCM155   -0.7489116     -0.7631099    No change               \n",
       "LuCAP49  -0.5215121     -0.9143470    Decreased               \n",
       "LuCAP176 -0.1929373      0.5758400    No change               \n",
       "         AR.after.Rux_Erda VIM.after.Rux_Erda P53.RB.PTEN.Mutational.Status\n",
       "MSKPCA1   0.00000000       -1.0439086         MUT,WT,DEL                   \n",
       "MSKPCA2           NA               NA         MUT,WT,DEL                   \n",
       "MSKPCA3   1.70639206       -2.9749293         WT,WT,DEL                    \n",
       "MSKPCA6   0.00000000       -3.2021205         WT,HET,DEL                   \n",
       "MSKPCA8  -0.00615388        0.0000000         MUT,MUT,DEL                  \n",
       "MSKPCA11  1.02212017       -0.9067406         MUT/DEL,WT,DEL               \n",
       "MSKPCA12  0.69406075       -5.7839008         MUT,WT,WT                    \n",
       "MSKPCA16  0.00000000       -1.5304376         MUT,WT,WT                    \n",
       "WCM154    0.00000000        0.0000000         DEL,WT,WT                    \n",
       "WCM155    0.00000000        0.0000000         MUT,WT,DEL                   \n",
       "LuCAP49   0.00000000        0.0000000         DEL,DEL,DEL                  \n",
       "LuCAP176  1.16557509        0.0000000         DEL,DEL,DEL                  \n",
       "         batch  NEPC  WNT  \n",
       "MSKPCA1  MSKPCA FALSE  TRUE\n",
       "MSKPCA2  MSKPCA FALSE FALSE\n",
       "MSKPCA3  MSKPCA FALSE FALSE\n",
       "MSKPCA6  MSKPCA FALSE FALSE\n",
       "MSKPCA8  MSKPCA FALSE FALSE\n",
       "MSKPCA11 MSKPCA FALSE FALSE\n",
       "MSKPCA12 MSKPCA FALSE FALSE\n",
       "MSKPCA16 MSKPCA FALSE  TRUE\n",
       "WCM154   WCM     TRUE FALSE\n",
       "WCM155   WCM     TRUE FALSE\n",
       "LuCAP49  LuCAP   TRUE FALSE\n",
       "LuCAP176 LuCAP  FALSE FALSE"
      ]
     },
     "metadata": {},
     "output_type": "display_data"
    }
   ],
   "source": [
    "df"
   ]
  },
  {
   "cell_type": "code",
   "execution_count": 44,
   "metadata": {
    "ExecuteTime": {
     "end_time": "2022-05-21T17:53:22.291272Z",
     "start_time": "2022-05-21T17:53:22.225Z"
    }
   },
   "outputs": [],
   "source": [
    "df2 = data.frame(df) %>% dplyr::select(Tang..et.al..subtype,Tissue,AR.status,Viability.after.Rux_Erda)\n",
    "colnames(df2) = c('Tang_etal_Subtype','Tissue','AR.status','Viability.change')\n",
    "\n",
    "for (i in colnames(df2)) {\n",
    "    df2[,i] = gsub(' \\\\(.*\\\\)','',df2[,i]) #str_to_title(df2[,i]))\n",
    "}"
   ]
  },
  {
   "cell_type": "code",
   "execution_count": 45,
   "metadata": {
    "ExecuteTime": {
     "end_time": "2022-05-21T17:53:26.014182Z",
     "start_time": "2022-05-21T17:53:25.978Z"
    }
   },
   "outputs": [],
   "source": [
    "df2$Tang_etal_Subtype = gsub('/.*','',df2$Tang_etal_Subtype)\n",
    "df2$Tang_etal_Subtype = factor(df2$Tang_etal_Subtype, levels=c('AR-high', 'Stem-like','Wnt','NEPC'))"
   ]
  },
  {
   "cell_type": "code",
   "execution_count": 46,
   "metadata": {
    "ExecuteTime": {
     "end_time": "2022-05-21T17:53:31.251909Z",
     "start_time": "2022-05-21T17:53:31.211Z"
    }
   },
   "outputs": [],
   "source": [
    "df2$AR.status = factor(df2$AR.status, levels=c('AR-null', 'AR-low','AR-high'))"
   ]
  },
  {
   "cell_type": "code",
   "execution_count": 47,
   "metadata": {
    "ExecuteTime": {
     "end_time": "2022-05-21T17:53:33.465148Z",
     "start_time": "2022-05-21T17:53:33.428Z"
    }
   },
   "outputs": [],
   "source": [
    "df2$Viability.change = factor(df2$Viability.change, levels=c('No change', 'Decreased'))"
   ]
  },
  {
   "cell_type": "code",
   "execution_count": 80,
   "metadata": {
    "ExecuteTime": {
     "end_time": "2022-05-21T22:39:59.964854Z",
     "start_time": "2022-05-21T22:39:59.654Z"
    }
   },
   "outputs": [],
   "source": [
    "df2 = df2 %>% dplyr::arrange(Tang_etal_Subtype,desc(AR.status), desc(Viability.change))"
   ]
  },
  {
   "cell_type": "code",
   "execution_count": 82,
   "metadata": {
    "ExecuteTime": {
     "end_time": "2022-05-21T22:40:07.010657Z",
     "start_time": "2022-05-21T22:40:06.705Z"
    }
   },
   "outputs": [],
   "source": [
    "mut_mat2 = mut_mat[,rownames(df2)]\n"
   ]
  },
  {
   "cell_type": "code",
   "execution_count": 83,
   "metadata": {
    "ExecuteTime": {
     "end_time": "2022-05-21T22:40:08.851732Z",
     "start_time": "2022-05-21T22:40:08.537Z"
    }
   },
   "outputs": [],
   "source": [
    "fc_mat = df %>% dplyr::select(AR.after.Rux_Erda,VIM.after.Rux_Erda)\n",
    "colnames(fc_mat) = c('AR','VIM')"
   ]
  },
  {
   "cell_type": "code",
   "execution_count": 84,
   "metadata": {
    "ExecuteTime": {
     "end_time": "2022-05-21T22:40:10.199830Z",
     "start_time": "2022-05-21T22:40:09.896Z"
    }
   },
   "outputs": [],
   "source": [
    "fc_mat[is.na(fc_mat)] = 0\n"
   ]
  },
  {
   "cell_type": "code",
   "execution_count": 85,
   "metadata": {
    "ExecuteTime": {
     "end_time": "2022-05-21T22:40:10.739604Z",
     "start_time": "2022-05-21T22:40:10.437Z"
    }
   },
   "outputs": [],
   "source": [
    "df3 = cbind(df2, fc_mat[rownames(df2),])"
   ]
  },
  {
   "cell_type": "code",
   "execution_count": 86,
   "metadata": {
    "ExecuteTime": {
     "end_time": "2022-05-21T22:40:10.995324Z",
     "start_time": "2022-05-21T22:40:10.689Z"
    }
   },
   "outputs": [],
   "source": [
    "df3 = df3 %>% dplyr::arrange(Tang_etal_Subtype,desc(AR.status), desc(AR), VIM)"
   ]
  },
  {
   "cell_type": "code",
   "execution_count": 87,
   "metadata": {
    "ExecuteTime": {
     "end_time": "2022-05-21T22:40:11.761614Z",
     "start_time": "2022-05-21T22:40:11.448Z"
    }
   },
   "outputs": [
    {
     "data": {
      "text/html": [
       "<table class=\"dataframe\">\n",
       "<caption>A data.frame: 12 × 6</caption>\n",
       "<thead>\n",
       "\t<tr><th></th><th scope=col>Tang_etal_Subtype</th><th scope=col>Tissue</th><th scope=col>AR.status</th><th scope=col>Viability.change</th><th scope=col>AR</th><th scope=col>VIM</th></tr>\n",
       "\t<tr><th></th><th scope=col>&lt;fct&gt;</th><th scope=col>&lt;chr&gt;</th><th scope=col>&lt;fct&gt;</th><th scope=col>&lt;fct&gt;</th><th scope=col>&lt;dbl&gt;</th><th scope=col>&lt;dbl&gt;</th></tr>\n",
       "</thead>\n",
       "<tbody>\n",
       "\t<tr><th scope=row>MSKPCA2</th><td>AR-high  </td><td>Bone    </td><td>AR-high</td><td>NA       </td><td> 0.00000000</td><td> 0.0000000</td></tr>\n",
       "\t<tr><th scope=row>MSKPCA3</th><td>Stem-like</td><td>LN      </td><td>AR-low </td><td>No change</td><td> 1.70639206</td><td>-2.9749293</td></tr>\n",
       "\t<tr><th scope=row>LuCAP176</th><td>Stem-like</td><td>Liver   </td><td>AR-low </td><td>No change</td><td> 1.16557509</td><td> 0.0000000</td></tr>\n",
       "\t<tr><th scope=row>MSKPCA11</th><td>Stem-like</td><td>Liver   </td><td>AR-low </td><td>No change</td><td> 1.02212017</td><td>-0.9067406</td></tr>\n",
       "\t<tr><th scope=row>MSKPCA12</th><td>Stem-like</td><td>LN      </td><td>AR-low </td><td>No change</td><td> 0.69406075</td><td>-5.7839008</td></tr>\n",
       "\t<tr><th scope=row>MSKPCA8</th><td>Stem-like</td><td>Bone    </td><td>AR-low </td><td>No change</td><td>-0.00615388</td><td> 0.0000000</td></tr>\n",
       "\t<tr><th scope=row>MSKPCA6</th><td>Stem-like</td><td>Prostate</td><td>AR-null</td><td>No change</td><td> 0.00000000</td><td>-3.2021205</td></tr>\n",
       "\t<tr><th scope=row>MSKPCA16</th><td>Wnt      </td><td>Liver   </td><td>AR-null</td><td>Decreased</td><td> 0.00000000</td><td>-1.5304376</td></tr>\n",
       "\t<tr><th scope=row>MSKPCA1</th><td>Wnt      </td><td>Bone    </td><td>AR-null</td><td>Decreased</td><td> 0.00000000</td><td>-1.0439086</td></tr>\n",
       "\t<tr><th scope=row>LuCAP49</th><td>NEPC     </td><td>LN      </td><td>AR-null</td><td>Decreased</td><td> 0.00000000</td><td> 0.0000000</td></tr>\n",
       "\t<tr><th scope=row>WCM154</th><td>NEPC     </td><td>Bone    </td><td>AR-null</td><td>No change</td><td> 0.00000000</td><td> 0.0000000</td></tr>\n",
       "\t<tr><th scope=row>WCM155</th><td>NEPC     </td><td>Liver   </td><td>AR-null</td><td>No change</td><td> 0.00000000</td><td> 0.0000000</td></tr>\n",
       "</tbody>\n",
       "</table>\n"
      ],
      "text/latex": [
       "A data.frame: 12 × 6\n",
       "\\begin{tabular}{r|llllll}\n",
       "  & Tang\\_etal\\_Subtype & Tissue & AR.status & Viability.change & AR & VIM\\\\\n",
       "  & <fct> & <chr> & <fct> & <fct> & <dbl> & <dbl>\\\\\n",
       "\\hline\n",
       "\tMSKPCA2 & AR-high   & Bone     & AR-high & NA        &  0.00000000 &  0.0000000\\\\\n",
       "\tMSKPCA3 & Stem-like & LN       & AR-low  & No change &  1.70639206 & -2.9749293\\\\\n",
       "\tLuCAP176 & Stem-like & Liver    & AR-low  & No change &  1.16557509 &  0.0000000\\\\\n",
       "\tMSKPCA11 & Stem-like & Liver    & AR-low  & No change &  1.02212017 & -0.9067406\\\\\n",
       "\tMSKPCA12 & Stem-like & LN       & AR-low  & No change &  0.69406075 & -5.7839008\\\\\n",
       "\tMSKPCA8 & Stem-like & Bone     & AR-low  & No change & -0.00615388 &  0.0000000\\\\\n",
       "\tMSKPCA6 & Stem-like & Prostate & AR-null & No change &  0.00000000 & -3.2021205\\\\\n",
       "\tMSKPCA16 & Wnt       & Liver    & AR-null & Decreased &  0.00000000 & -1.5304376\\\\\n",
       "\tMSKPCA1 & Wnt       & Bone     & AR-null & Decreased &  0.00000000 & -1.0439086\\\\\n",
       "\tLuCAP49 & NEPC      & LN       & AR-null & Decreased &  0.00000000 &  0.0000000\\\\\n",
       "\tWCM154 & NEPC      & Bone     & AR-null & No change &  0.00000000 &  0.0000000\\\\\n",
       "\tWCM155 & NEPC      & Liver    & AR-null & No change &  0.00000000 &  0.0000000\\\\\n",
       "\\end{tabular}\n"
      ],
      "text/markdown": [
       "\n",
       "A data.frame: 12 × 6\n",
       "\n",
       "| <!--/--> | Tang_etal_Subtype &lt;fct&gt; | Tissue &lt;chr&gt; | AR.status &lt;fct&gt; | Viability.change &lt;fct&gt; | AR &lt;dbl&gt; | VIM &lt;dbl&gt; |\n",
       "|---|---|---|---|---|---|---|\n",
       "| MSKPCA2 | AR-high   | Bone     | AR-high | NA        |  0.00000000 |  0.0000000 |\n",
       "| MSKPCA3 | Stem-like | LN       | AR-low  | No change |  1.70639206 | -2.9749293 |\n",
       "| LuCAP176 | Stem-like | Liver    | AR-low  | No change |  1.16557509 |  0.0000000 |\n",
       "| MSKPCA11 | Stem-like | Liver    | AR-low  | No change |  1.02212017 | -0.9067406 |\n",
       "| MSKPCA12 | Stem-like | LN       | AR-low  | No change |  0.69406075 | -5.7839008 |\n",
       "| MSKPCA8 | Stem-like | Bone     | AR-low  | No change | -0.00615388 |  0.0000000 |\n",
       "| MSKPCA6 | Stem-like | Prostate | AR-null | No change |  0.00000000 | -3.2021205 |\n",
       "| MSKPCA16 | Wnt       | Liver    | AR-null | Decreased |  0.00000000 | -1.5304376 |\n",
       "| MSKPCA1 | Wnt       | Bone     | AR-null | Decreased |  0.00000000 | -1.0439086 |\n",
       "| LuCAP49 | NEPC      | LN       | AR-null | Decreased |  0.00000000 |  0.0000000 |\n",
       "| WCM154 | NEPC      | Bone     | AR-null | No change |  0.00000000 |  0.0000000 |\n",
       "| WCM155 | NEPC      | Liver    | AR-null | No change |  0.00000000 |  0.0000000 |\n",
       "\n"
      ],
      "text/plain": [
       "         Tang_etal_Subtype Tissue   AR.status Viability.change AR         \n",
       "MSKPCA2  AR-high           Bone     AR-high   NA                0.00000000\n",
       "MSKPCA3  Stem-like         LN       AR-low    No change         1.70639206\n",
       "LuCAP176 Stem-like         Liver    AR-low    No change         1.16557509\n",
       "MSKPCA11 Stem-like         Liver    AR-low    No change         1.02212017\n",
       "MSKPCA12 Stem-like         LN       AR-low    No change         0.69406075\n",
       "MSKPCA8  Stem-like         Bone     AR-low    No change        -0.00615388\n",
       "MSKPCA6  Stem-like         Prostate AR-null   No change         0.00000000\n",
       "MSKPCA16 Wnt               Liver    AR-null   Decreased         0.00000000\n",
       "MSKPCA1  Wnt               Bone     AR-null   Decreased         0.00000000\n",
       "LuCAP49  NEPC              LN       AR-null   Decreased         0.00000000\n",
       "WCM154   NEPC              Bone     AR-null   No change         0.00000000\n",
       "WCM155   NEPC              Liver    AR-null   No change         0.00000000\n",
       "         VIM       \n",
       "MSKPCA2   0.0000000\n",
       "MSKPCA3  -2.9749293\n",
       "LuCAP176  0.0000000\n",
       "MSKPCA11 -0.9067406\n",
       "MSKPCA12 -5.7839008\n",
       "MSKPCA8   0.0000000\n",
       "MSKPCA6  -3.2021205\n",
       "MSKPCA16 -1.5304376\n",
       "MSKPCA1  -1.0439086\n",
       "LuCAP49   0.0000000\n",
       "WCM154    0.0000000\n",
       "WCM155    0.0000000"
      ]
     },
     "metadata": {},
     "output_type": "display_data"
    }
   ],
   "source": [
    "df3"
   ]
  },
  {
   "cell_type": "code",
   "execution_count": 88,
   "metadata": {
    "ExecuteTime": {
     "end_time": "2022-05-21T22:40:20.391778Z",
     "start_time": "2022-05-21T22:40:20.087Z"
    }
   },
   "outputs": [],
   "source": [
    "mut_mat3 = mut_mat2[,rownames(df3)]"
   ]
  },
  {
   "cell_type": "markdown",
   "metadata": {},
   "source": [
    "### Gene signatures"
   ]
  },
  {
   "cell_type": "code",
   "execution_count": 94,
   "metadata": {
    "ExecuteTime": {
     "end_time": "2022-05-21T23:10:18.824704Z",
     "start_time": "2022-05-21T23:10:18.627Z"
    }
   },
   "outputs": [],
   "source": [
    "jak_stat = c('IRF9',\n",
    "'STAT1',\n",
    "'STAT2',\n",
    "'CCND3',\n",
    "'STAT3',\n",
    "'IL13RA1',\n",
    "'IL11RA1',\n",
    "'AKT3',\n",
    "'SPRED1',\n",
    "'IL10RB',\n",
    "'CCND1',\n",
    "'PIK3R1',\n",
    "'SOCS2',\n",
    "'SPRY1',\n",
    "'JAK1',\n",
    "'PIK3R2',\n",
    "'IFNAR1',\n",
    "'STAM',\n",
    "'STAT5B',\n",
    "'PIAS2',\n",
    "'AKT2',\n",
    "'PTPN11',\n",
    "'STAT5A',\n",
    "'JUN',\n",
    "'CXCL10',\n",
    "'CD44',\n",
    "'CXCL2',\n",
    "'TNF',\n",
    "'CD14',\n",
    "'TNFRSF1B',\n",
    "'BAK1',\n",
    "'IRF1',\n",
    "'CSF1')"
   ]
  },
  {
   "cell_type": "code",
   "execution_count": 95,
   "metadata": {
    "ExecuteTime": {
     "end_time": "2022-05-21T23:10:19.045830Z",
     "start_time": "2022-05-21T23:10:18.854Z"
    }
   },
   "outputs": [],
   "source": [
    "fgfr = c('FGF1',\n",
    "'FGF10',\n",
    "'FGF17',\n",
    "'FGF18',\n",
    "'FGF19',\n",
    "'FGF2',\n",
    "'FGF20',\n",
    "'FGF22',\n",
    "'FGF23',\n",
    "'FGF3',\n",
    "'FGF4',\n",
    "'FGF5',\n",
    "'FGF6',\n",
    "'FGF7',\n",
    "'FGF8',\n",
    "'FGF9',\n",
    "'FGFR1',\n",
    "'DUSP6',\n",
    "'TGIF',\n",
    "'SMAD3',\n",
    "'SMAD2',\n",
    "'THBS1',\n",
    "'FOS',\n",
    "'TGFBR2',\n",
    "'SOX9',\n",
    "'TGFB1',\n",
    "'FKBP1A',\n",
    "'MMP15',\n",
    "'FGFR2',\n",
    "'FGFR3')"
   ]
  },
  {
   "cell_type": "code",
   "execution_count": 96,
   "metadata": {
    "ExecuteTime": {
     "end_time": "2022-05-21T23:10:19.390754Z",
     "start_time": "2022-05-21T23:10:19.194Z"
    }
   },
   "outputs": [],
   "source": [
    "AR = c('FKBP5',\n",
    "'KLK2',\n",
    "'ELL2',\n",
    "'TMPRSS2',\n",
    "'ZBTB10',\n",
    "'CENPN',\n",
    "'PMEPA1',\n",
    "'NKX3-1 ',\n",
    "'KLK3',\n",
    "'EAF2',\n",
    "'MED28',\n",
    "'ABCC4',\n",
    "'SARG',\n",
    "'GNMT',\n",
    "'MPHOSPH9 ',\n",
    "'NNMT',\n",
    "'ADAM7',\n",
    "'TNK1',\n",
    "'MAN1A1',\n",
    "'GLRA2',\n",
    "'CD200',\n",
    "'MAPRE2',\n",
    "'PIP4K2B',\n",
    "'AR',\n",
    "'SRP72',\n",
    "'TBC1D9B',\n",
    "'ACSL3',\n",
    "'MAF',\n",
    "'HERC3',\n",
    "'PTGER4')"
   ]
  },
  {
   "cell_type": "code",
   "execution_count": 97,
   "metadata": {
    "ExecuteTime": {
     "end_time": "2022-05-21T23:10:19.882675Z",
     "start_time": "2022-05-21T23:10:19.687Z"
    }
   },
   "outputs": [],
   "source": [
    "EMT = c('COL3A1',\n",
    "'COL5A2',\n",
    "'COL5A1',\n",
    "'FBN1',\n",
    "'COL1A1',\n",
    "'FN1',\n",
    "'COL6A3',\n",
    "'SERPINE1',\n",
    "'COL1A2',\n",
    "'COL4A1',\n",
    "'COL4A2',\n",
    "'VCAN',\n",
    "'IGFBP3  ',\n",
    "'TGFBI',\n",
    "'SPARC',\n",
    "'LUM',\n",
    "'LAMC1',\n",
    "'LOX',\n",
    "'LAMC2',\n",
    "'CTGF',\n",
    "'TAGLN',\n",
    "'COL7A1',\n",
    "'LOXL2',\n",
    "'COL6A2',\n",
    "'ITGAV',\n",
    "'THBS2',\n",
    "'COL16A1',\n",
    "'NNMTCDH2',\n",
    "'MMP2',\n",
    "'COL11A1',\n",
    "'THBS1',\n",
    "'FAP',\n",
    "'BGN',\n",
    "'SERPINH1',\n",
    "'FSTL1',\n",
    "'POSTN',\n",
    "'THY1',\n",
    "'SPP1',\n",
    "'TNC',\n",
    "'TFPI2',\n",
    "'NID2',\n",
    "'ITGB5',\n",
    "'MMP3',\n",
    "'VIM',\n",
    "'LOXL1',\n",
    "'FBLN5',\n",
    "'COL12A1',\n",
    "'CDH11',\n",
    "'COMP',\n",
    "'SPOCK1',\n",
    "'BMP1',\n",
    "'LAMA3',\n",
    "'TIMP1',\n",
    "'QSOX1',\n",
    "'TIMP3',\n",
    "'VCAM1',\n",
    "'CYR61',\n",
    "'EDIL3',\n",
    "'MAGEE1',\n",
    "'FBLN1',\n",
    "'SGCB',\n",
    "'ECM1',\n",
    "'LAMA2',\n",
    "'FSTL3',\n",
    "'INHBA',\n",
    "'DAB2',\n",
    "'EMP3',\n",
    "'BASP1',\n",
    "'ITGA5',\n",
    "'MGP',\n",
    "'VEGFA',\n",
    "'WNT5A',\n",
    "'SDC1',\n",
    "'PLOD2',\n",
    "'PCOLCE',\n",
    "'GREM1',\n",
    "'ITGB1',\n",
    "'COL5A3',\n",
    "'RHOB',\n",
    "'HTRA1',\n",
    "'FGF2',\n",
    "'SNTB1',\n",
    "'GADD45A',\n",
    "'MEST',\n",
    "'LRRC15',\n",
    "'TNFRSF11B',\n",
    "'CD59B',\n",
    "'ACTA2',\n",
    "'EFEMP2',\n",
    "'MATN2',\n",
    "'PCOLCE2',\n",
    "'SERPINE2',\n",
    "'GPC1',\n",
    "'FUCA1',\n",
    "'SLIT3',\n",
    "'LAMA1',\n",
    "'PMEPA1',\n",
    "'COL8A2',\n",
    "'FBN2',\n",
    "'IGFBP2',\n",
    "'PFN2SDC4',\n",
    "'CD44',\n",
    "'GADD45B',\n",
    "'GLIPR1',\n",
    "'ANPEP',\n",
    "'LEPRE1',\n",
    "'VEGFC',\n",
    "'MMP14',\n",
    "'SGCD',\n",
    "'PLOD1',\n",
    "'MATN3',\n",
    "'MYL9',\n",
    "'SLC6A8',\n",
    "'CALU',\n",
    "'PRRX1',\n",
    "'TNFRSF12A',\n",
    "'FMOD',\n",
    "'ID2',\n",
    "'GEM',\n",
    "'PLAUR',\n",
    "'MYLK',\n",
    "'TGFB1',\n",
    "'SFRP1',\n",
    "'PLOD3',\n",
    "'IL6',\n",
    "'APLP1',\n",
    "'FBLN2',\n",
    "'MSX1',\n",
    "'PTX3',\n",
    "'FZD8',\n",
    "'JUNFERMT2',\n",
    "'DKK1',\n",
    "'SNAI2',\n",
    "'DCN',\n",
    "'GJA1',\n",
    "'PMP22',\n",
    "'IGFBP4',\n",
    "'COPA',\n",
    "'LRP1',\n",
    "'ITGA2',\n",
    "'FLNA',\n",
    "'MFAP5',\n",
    "'PTHLH',\n",
    "'TGFBR3',\n",
    "'SFRP4',\n",
    "'LGALS1',\n",
    "'RGS4',\n",
    "'CDH6',\n",
    "'SAT1',\n",
    "'NT5E',\n",
    "'DPYSL3',\n",
    "'PPIB',\n",
    "'TGM2',\n",
    "'SGCG',\n",
    "'ITGB3',\n",
    "'PDLIM4',\n",
    "'CTHRC1',\n",
    "'ECM2',\n",
    "'CRLF1',\n",
    "'AREG',\n",
    "'IL15MCM7',\n",
    "'GAS1',\n",
    "'PRSS2',\n",
    "'CADM1',\n",
    "'OXTR',\n",
    "'SCG2',\n",
    "'CXCL5',\n",
    "'MMP1A',\n",
    "'TNFAIP3',\n",
    "'CAPG',\n",
    "'CAP2',\n",
    "'FOXC2',\n",
    "'NTM',\n",
    "'ENO2',\n",
    "'FAS',\n",
    "'BDNFADAM12',\n",
    "'CXCL12',\n",
    "'PDGFRB',\n",
    "'SLIT2',\n",
    "'NOTCH2',\n",
    "'GPX7',\n",
    "'WIPF1')"
   ]
  },
  {
   "cell_type": "markdown",
   "metadata": {},
   "source": [
    "### Add gene signatures"
   ]
  },
  {
   "cell_type": "code",
   "execution_count": 98,
   "metadata": {
    "ExecuteTime": {
     "end_time": "2022-05-21T23:10:35.079027Z",
     "start_time": "2022-05-21T23:10:33.076Z"
    }
   },
   "outputs": [],
   "source": [
    "mat = as.matrix(read.table(paste0(out_dir, 'human_organoids.vst.expression.tissue_corrected.csv'), sep=','))"
   ]
  },
  {
   "cell_type": "code",
   "execution_count": 101,
   "metadata": {
    "ExecuteTime": {
     "end_time": "2022-05-21T23:11:31.100507Z",
     "start_time": "2022-05-21T23:11:20.845Z"
    }
   },
   "outputs": [],
   "source": [
    "mart <- useDataset(\"hsapiens_gene_ensembl\", useMart(\"ensembl\"))"
   ]
  },
  {
   "cell_type": "code",
   "execution_count": 102,
   "metadata": {
    "ExecuteTime": {
     "end_time": "2022-05-21T23:11:33.636250Z",
     "start_time": "2022-05-21T23:11:22.409Z"
    },
    "scrolled": true
   },
   "outputs": [],
   "source": [
    "G_list <- getBM(filters= \"ensembl_transcript_id\", attributes= c(\"ensembl_transcript_id\",\"hgnc_symbol\"),\n",
    "                values=gsub('\\\\.[0-9]+$','',rownames(mat)),\n",
    "                mart= mart)\n"
   ]
  },
  {
   "cell_type": "code",
   "execution_count": 103,
   "metadata": {
    "ExecuteTime": {
     "end_time": "2022-05-21T23:11:33.758448Z",
     "start_time": "2022-05-21T23:11:25.024Z"
    }
   },
   "outputs": [],
   "source": [
    "ord = match(gsub('.[0-9]+$','',rownames(mat)), G_list$ensembl_transcript_id)\n"
   ]
  },
  {
   "cell_type": "code",
   "execution_count": 104,
   "metadata": {
    "ExecuteTime": {
     "end_time": "2022-05-21T23:11:33.772156Z",
     "start_time": "2022-05-21T23:11:25.369Z"
    }
   },
   "outputs": [],
   "source": [
    "genes = G_list[ord,'hgnc_symbol']"
   ]
  },
  {
   "cell_type": "code",
   "execution_count": 139,
   "metadata": {
    "ExecuteTime": {
     "end_time": "2022-05-21T23:15:02.026859Z",
     "start_time": "2022-05-21T23:15:01.825Z"
    }
   },
   "outputs": [],
   "source": [
    "mat2 = mat[genes %in% c(jak_stat, fgfr, EMT),]"
   ]
  },
  {
   "cell_type": "code",
   "execution_count": 140,
   "metadata": {
    "ExecuteTime": {
     "end_time": "2022-05-21T23:15:02.260469Z",
     "start_time": "2022-05-21T23:15:02.058Z"
    }
   },
   "outputs": [],
   "source": [
    "ord = match(gsub('.[0-9]+$','',rownames(mat2)), G_list$ensembl_transcript_id)\n",
    "genes2 = G_list[ord,'hgnc_symbol']\n"
   ]
  },
  {
   "cell_type": "code",
   "execution_count": 141,
   "metadata": {
    "ExecuteTime": {
     "end_time": "2022-05-21T23:15:02.470683Z",
     "start_time": "2022-05-21T23:15:02.260Z"
    }
   },
   "outputs": [],
   "source": [
    "mat2 = aggregate(mat2, list(genes2), mean)\n",
    "rownames(mat2) = mat2[,1]\n",
    "mat2 = mat2[,2:ncol(mat2)]"
   ]
  },
  {
   "cell_type": "code",
   "execution_count": 142,
   "metadata": {
    "ExecuteTime": {
     "end_time": "2022-05-21T23:15:02.631194Z",
     "start_time": "2022-05-21T23:15:02.442Z"
    }
   },
   "outputs": [],
   "source": [
    "mat3 = t(scale(t(mat2)))"
   ]
  },
  {
   "cell_type": "code",
   "execution_count": 143,
   "metadata": {
    "ExecuteTime": {
     "end_time": "2022-05-21T23:15:02.810032Z",
     "start_time": "2022-05-21T23:15:02.623Z"
    }
   },
   "outputs": [],
   "source": [
    "genes3 = rownames(mat3)"
   ]
  },
  {
   "cell_type": "code",
   "execution_count": 144,
   "metadata": {
    "ExecuteTime": {
     "end_time": "2022-05-21T23:15:03.131300Z",
     "start_time": "2022-05-21T23:15:02.939Z"
    }
   },
   "outputs": [],
   "source": [
    "jak_stat_score = scale(colMeans(mat2[genes3 %in% jak_stat,]))\n",
    "fgfr_score = scale(colMeans(mat2[genes3 %in% fgfr,]))\n",
    "emt_score = scale(colMeans(mat2[genes3 %in% EMT,]))\n"
   ]
  },
  {
   "cell_type": "code",
   "execution_count": 145,
   "metadata": {
    "ExecuteTime": {
     "end_time": "2022-05-21T23:15:03.344833Z",
     "start_time": "2022-05-21T23:15:03.157Z"
    }
   },
   "outputs": [],
   "source": [
    "ord = match(rownames(df3), colnames(mat2))"
   ]
  },
  {
   "cell_type": "code",
   "execution_count": 146,
   "metadata": {
    "ExecuteTime": {
     "end_time": "2022-05-21T23:15:03.718053Z",
     "start_time": "2022-05-21T23:15:03.522Z"
    }
   },
   "outputs": [],
   "source": [
    "df5 = df3\n",
    "df5$JAK_STAT = jak_stat_score[ord]\n",
    "df5$FGFR = fgfr_score[ord]\n",
    "df5$EMT = emt_score[ord]\n"
   ]
  },
  {
   "cell_type": "code",
   "execution_count": 147,
   "metadata": {
    "ExecuteTime": {
     "end_time": "2022-05-21T23:15:04.019014Z",
     "start_time": "2022-05-21T23:15:03.811Z"
    }
   },
   "outputs": [
    {
     "data": {
      "text/html": [
       "<table class=\"dataframe\">\n",
       "<caption>A data.frame: 12 × 9</caption>\n",
       "<thead>\n",
       "\t<tr><th></th><th scope=col>Tang_etal_Subtype</th><th scope=col>Tissue</th><th scope=col>AR.status</th><th scope=col>Viability.change</th><th scope=col>AR</th><th scope=col>VIM</th><th scope=col>JAK_STAT</th><th scope=col>FGFR</th><th scope=col>EMT</th></tr>\n",
       "\t<tr><th></th><th scope=col>&lt;fct&gt;</th><th scope=col>&lt;chr&gt;</th><th scope=col>&lt;fct&gt;</th><th scope=col>&lt;fct&gt;</th><th scope=col>&lt;dbl&gt;</th><th scope=col>&lt;dbl&gt;</th><th scope=col>&lt;dbl&gt;</th><th scope=col>&lt;dbl&gt;</th><th scope=col>&lt;dbl&gt;</th></tr>\n",
       "</thead>\n",
       "<tbody>\n",
       "\t<tr><th scope=row>MSKPCA2</th><td>AR-high  </td><td>Bone    </td><td>AR-high</td><td>NA       </td><td> 0.00000000</td><td> 0.0000000</td><td>-0.8414071</td><td>-2.10776583</td><td>-2.17425960</td></tr>\n",
       "\t<tr><th scope=row>MSKPCA3</th><td>Stem-like</td><td>LN      </td><td>AR-low </td><td>No change</td><td> 1.70639206</td><td>-2.9749293</td><td> 0.8696611</td><td>-0.70113345</td><td>-0.50747688</td></tr>\n",
       "\t<tr><th scope=row>LuCAP176</th><td>Stem-like</td><td>Liver   </td><td>AR-low </td><td>No change</td><td> 1.16557509</td><td> 0.0000000</td><td> 0.8383315</td><td>-0.16442300</td><td> 0.01582132</td></tr>\n",
       "\t<tr><th scope=row>MSKPCA11</th><td>Stem-like</td><td>Liver   </td><td>AR-low </td><td>No change</td><td> 1.02212017</td><td>-0.9067406</td><td> 1.0326157</td><td>-0.19248831</td><td> 0.34405789</td></tr>\n",
       "\t<tr><th scope=row>MSKPCA12</th><td>Stem-like</td><td>LN      </td><td>AR-low </td><td>No change</td><td> 0.69406075</td><td>-5.7839008</td><td> 0.8070019</td><td> 0.37228745</td><td> 0.53911951</td></tr>\n",
       "\t<tr><th scope=row>MSKPCA8</th><td>Stem-like</td><td>Bone    </td><td>AR-low </td><td>No change</td><td>-0.00615388</td><td> 0.0000000</td><td> 0.6440473</td><td>-0.13635769</td><td>-0.31241526</td></tr>\n",
       "\t<tr><th scope=row>MSKPCA6</th><td>Stem-like</td><td>Prostate</td><td>AR-null</td><td>No change</td><td> 0.00000000</td><td>-3.2021205</td><td>-2.3158862</td><td> 0.04385275</td><td> 0.99153829</td></tr>\n",
       "\t<tr><th scope=row>MSKPCA16</th><td>Wnt      </td><td>Liver   </td><td>AR-null</td><td>Decreased</td><td> 0.00000000</td><td>-1.5304376</td><td> 0.3072351</td><td> 1.79601643</td><td>-1.24082441</td></tr>\n",
       "\t<tr><th scope=row>MSKPCA1</th><td>Wnt      </td><td>Bone    </td><td>AR-null</td><td>Decreased</td><td> 0.00000000</td><td>-1.0439086</td><td>-0.5248689</td><td> 1.58827295</td><td>-0.51230813</td></tr>\n",
       "\t<tr><th scope=row>LuCAP49</th><td>NEPC     </td><td>LN      </td><td>AR-null</td><td>Decreased</td><td> 0.00000000</td><td> 0.0000000</td><td>-0.2722434</td><td>-0.16608710</td><td> 0.95224909</td></tr>\n",
       "\t<tr><th scope=row>WCM154</th><td>NEPC     </td><td>Bone    </td><td>AR-null</td><td>No change</td><td> 0.00000000</td><td> 0.0000000</td><td> 0.3380928</td><td>-0.09028067</td><td> 0.91622753</td></tr>\n",
       "\t<tr><th scope=row>WCM155</th><td>NEPC     </td><td>Liver   </td><td>AR-null</td><td>No change</td><td> 0.00000000</td><td> 0.0000000</td><td>-0.8825797</td><td>-0.24189354</td><td> 0.98827066</td></tr>\n",
       "</tbody>\n",
       "</table>\n"
      ],
      "text/latex": [
       "A data.frame: 12 × 9\n",
       "\\begin{tabular}{r|lllllllll}\n",
       "  & Tang\\_etal\\_Subtype & Tissue & AR.status & Viability.change & AR & VIM & JAK\\_STAT & FGFR & EMT\\\\\n",
       "  & <fct> & <chr> & <fct> & <fct> & <dbl> & <dbl> & <dbl> & <dbl> & <dbl>\\\\\n",
       "\\hline\n",
       "\tMSKPCA2 & AR-high   & Bone     & AR-high & NA        &  0.00000000 &  0.0000000 & -0.8414071 & -2.10776583 & -2.17425960\\\\\n",
       "\tMSKPCA3 & Stem-like & LN       & AR-low  & No change &  1.70639206 & -2.9749293 &  0.8696611 & -0.70113345 & -0.50747688\\\\\n",
       "\tLuCAP176 & Stem-like & Liver    & AR-low  & No change &  1.16557509 &  0.0000000 &  0.8383315 & -0.16442300 &  0.01582132\\\\\n",
       "\tMSKPCA11 & Stem-like & Liver    & AR-low  & No change &  1.02212017 & -0.9067406 &  1.0326157 & -0.19248831 &  0.34405789\\\\\n",
       "\tMSKPCA12 & Stem-like & LN       & AR-low  & No change &  0.69406075 & -5.7839008 &  0.8070019 &  0.37228745 &  0.53911951\\\\\n",
       "\tMSKPCA8 & Stem-like & Bone     & AR-low  & No change & -0.00615388 &  0.0000000 &  0.6440473 & -0.13635769 & -0.31241526\\\\\n",
       "\tMSKPCA6 & Stem-like & Prostate & AR-null & No change &  0.00000000 & -3.2021205 & -2.3158862 &  0.04385275 &  0.99153829\\\\\n",
       "\tMSKPCA16 & Wnt       & Liver    & AR-null & Decreased &  0.00000000 & -1.5304376 &  0.3072351 &  1.79601643 & -1.24082441\\\\\n",
       "\tMSKPCA1 & Wnt       & Bone     & AR-null & Decreased &  0.00000000 & -1.0439086 & -0.5248689 &  1.58827295 & -0.51230813\\\\\n",
       "\tLuCAP49 & NEPC      & LN       & AR-null & Decreased &  0.00000000 &  0.0000000 & -0.2722434 & -0.16608710 &  0.95224909\\\\\n",
       "\tWCM154 & NEPC      & Bone     & AR-null & No change &  0.00000000 &  0.0000000 &  0.3380928 & -0.09028067 &  0.91622753\\\\\n",
       "\tWCM155 & NEPC      & Liver    & AR-null & No change &  0.00000000 &  0.0000000 & -0.8825797 & -0.24189354 &  0.98827066\\\\\n",
       "\\end{tabular}\n"
      ],
      "text/markdown": [
       "\n",
       "A data.frame: 12 × 9\n",
       "\n",
       "| <!--/--> | Tang_etal_Subtype &lt;fct&gt; | Tissue &lt;chr&gt; | AR.status &lt;fct&gt; | Viability.change &lt;fct&gt; | AR &lt;dbl&gt; | VIM &lt;dbl&gt; | JAK_STAT &lt;dbl&gt; | FGFR &lt;dbl&gt; | EMT &lt;dbl&gt; |\n",
       "|---|---|---|---|---|---|---|---|---|---|\n",
       "| MSKPCA2 | AR-high   | Bone     | AR-high | NA        |  0.00000000 |  0.0000000 | -0.8414071 | -2.10776583 | -2.17425960 |\n",
       "| MSKPCA3 | Stem-like | LN       | AR-low  | No change |  1.70639206 | -2.9749293 |  0.8696611 | -0.70113345 | -0.50747688 |\n",
       "| LuCAP176 | Stem-like | Liver    | AR-low  | No change |  1.16557509 |  0.0000000 |  0.8383315 | -0.16442300 |  0.01582132 |\n",
       "| MSKPCA11 | Stem-like | Liver    | AR-low  | No change |  1.02212017 | -0.9067406 |  1.0326157 | -0.19248831 |  0.34405789 |\n",
       "| MSKPCA12 | Stem-like | LN       | AR-low  | No change |  0.69406075 | -5.7839008 |  0.8070019 |  0.37228745 |  0.53911951 |\n",
       "| MSKPCA8 | Stem-like | Bone     | AR-low  | No change | -0.00615388 |  0.0000000 |  0.6440473 | -0.13635769 | -0.31241526 |\n",
       "| MSKPCA6 | Stem-like | Prostate | AR-null | No change |  0.00000000 | -3.2021205 | -2.3158862 |  0.04385275 |  0.99153829 |\n",
       "| MSKPCA16 | Wnt       | Liver    | AR-null | Decreased |  0.00000000 | -1.5304376 |  0.3072351 |  1.79601643 | -1.24082441 |\n",
       "| MSKPCA1 | Wnt       | Bone     | AR-null | Decreased |  0.00000000 | -1.0439086 | -0.5248689 |  1.58827295 | -0.51230813 |\n",
       "| LuCAP49 | NEPC      | LN       | AR-null | Decreased |  0.00000000 |  0.0000000 | -0.2722434 | -0.16608710 |  0.95224909 |\n",
       "| WCM154 | NEPC      | Bone     | AR-null | No change |  0.00000000 |  0.0000000 |  0.3380928 | -0.09028067 |  0.91622753 |\n",
       "| WCM155 | NEPC      | Liver    | AR-null | No change |  0.00000000 |  0.0000000 | -0.8825797 | -0.24189354 |  0.98827066 |\n",
       "\n"
      ],
      "text/plain": [
       "         Tang_etal_Subtype Tissue   AR.status Viability.change AR         \n",
       "MSKPCA2  AR-high           Bone     AR-high   NA                0.00000000\n",
       "MSKPCA3  Stem-like         LN       AR-low    No change         1.70639206\n",
       "LuCAP176 Stem-like         Liver    AR-low    No change         1.16557509\n",
       "MSKPCA11 Stem-like         Liver    AR-low    No change         1.02212017\n",
       "MSKPCA12 Stem-like         LN       AR-low    No change         0.69406075\n",
       "MSKPCA8  Stem-like         Bone     AR-low    No change        -0.00615388\n",
       "MSKPCA6  Stem-like         Prostate AR-null   No change         0.00000000\n",
       "MSKPCA16 Wnt               Liver    AR-null   Decreased         0.00000000\n",
       "MSKPCA1  Wnt               Bone     AR-null   Decreased         0.00000000\n",
       "LuCAP49  NEPC              LN       AR-null   Decreased         0.00000000\n",
       "WCM154   NEPC              Bone     AR-null   No change         0.00000000\n",
       "WCM155   NEPC              Liver    AR-null   No change         0.00000000\n",
       "         VIM        JAK_STAT   FGFR        EMT        \n",
       "MSKPCA2   0.0000000 -0.8414071 -2.10776583 -2.17425960\n",
       "MSKPCA3  -2.9749293  0.8696611 -0.70113345 -0.50747688\n",
       "LuCAP176  0.0000000  0.8383315 -0.16442300  0.01582132\n",
       "MSKPCA11 -0.9067406  1.0326157 -0.19248831  0.34405789\n",
       "MSKPCA12 -5.7839008  0.8070019  0.37228745  0.53911951\n",
       "MSKPCA8   0.0000000  0.6440473 -0.13635769 -0.31241526\n",
       "MSKPCA6  -3.2021205 -2.3158862  0.04385275  0.99153829\n",
       "MSKPCA16 -1.5304376  0.3072351  1.79601643 -1.24082441\n",
       "MSKPCA1  -1.0439086 -0.5248689  1.58827295 -0.51230813\n",
       "LuCAP49   0.0000000 -0.2722434 -0.16608710  0.95224909\n",
       "WCM154    0.0000000  0.3380928 -0.09028067  0.91622753\n",
       "WCM155    0.0000000 -0.8825797 -0.24189354  0.98827066"
      ]
     },
     "metadata": {},
     "output_type": "display_data"
    }
   ],
   "source": [
    "df5"
   ]
  },
  {
   "cell_type": "code",
   "execution_count": 148,
   "metadata": {
    "ExecuteTime": {
     "end_time": "2022-05-21T23:15:06.387254Z",
     "start_time": "2022-05-21T23:15:06.190Z"
    }
   },
   "outputs": [],
   "source": [
    "viability_mat = t(matrix(as.numeric(df5$Viability.change == 'Yes')))\n",
    "colnames(viability_mat) = rownames(df5)\n",
    "rownames(viability_mat) = c('Viability.change')"
   ]
  },
  {
   "cell_type": "code",
   "execution_count": 149,
   "metadata": {
    "ExecuteTime": {
     "end_time": "2022-05-21T23:15:06.570457Z",
     "start_time": "2022-05-21T23:15:06.380Z"
    }
   },
   "outputs": [],
   "source": [
    "sig_mat = cbind(jak_stat_score, fgfr_score, emt_score)[rownames(df5),] #, nepc_score)[rownames(df5),]\n",
    "colnames(sig_mat) = c('JAK/STAT','FGFR','EMT') #,'NEPC')"
   ]
  },
  {
   "cell_type": "code",
   "execution_count": 150,
   "metadata": {
    "ExecuteTime": {
     "end_time": "2022-05-21T23:15:06.757673Z",
     "start_time": "2022-05-21T23:15:06.560Z"
    }
   },
   "outputs": [],
   "source": [
    "df5 = df5 %>% dplyr::rename(`Tang, et al. subtype` = Tang_etal_Subtype, `AR status` = AR.status,\n",
    "                               Viability = Viability.change)"
   ]
  },
  {
   "cell_type": "code",
   "execution_count": 151,
   "metadata": {
    "ExecuteTime": {
     "end_time": "2022-05-21T23:15:07.066292Z",
     "start_time": "2022-05-21T23:15:06.861Z"
    }
   },
   "outputs": [],
   "source": [
    "ha_df = df5 %>% dplyr::select(-AR, -VIM, -EMT, -JAK_STAT, -FGFR, -Tissue, Viability)"
   ]
  },
  {
   "cell_type": "code",
   "execution_count": 152,
   "metadata": {
    "ExecuteTime": {
     "end_time": "2022-05-21T23:15:07.388535Z",
     "start_time": "2022-05-21T23:15:07.179Z"
    }
   },
   "outputs": [],
   "source": [
    "col_subtype = brewer.pal(n=length(unique(df2$Tang_etal_Subtype)), name=\"Pastel1\")\n",
    "names(col_subtype) = sort(unique(df2$Tang_etal_Subtype))\n",
    "\n",
    "col_ar = c('lightgray','royalblue1', 'blue3')\n",
    "names(col_ar) = sort(unique(df2$AR.status))\n",
    "\n",
    "col_viability = c('lightgray','lightslateblue')\n",
    "names(col_viability) = sort(unique(df2$Viability.change))\n",
    "\n",
    "col_list = list()\n",
    "col_list[['Tang, et al. subtype']] = col_subtype\n",
    "col_list[['AR status']] = col_ar\n",
    "col_list[['Viability']] = col_viability\n"
   ]
  },
  {
   "cell_type": "code",
   "execution_count": 153,
   "metadata": {
    "ExecuteTime": {
     "end_time": "2022-05-21T23:15:08.073067Z",
     "start_time": "2022-05-21T23:15:07.883Z"
    }
   },
   "outputs": [],
   "source": [
    "library(repr)\n",
    "options(repr.plot.width=8, repr.plot.height=8)"
   ]
  },
  {
   "cell_type": "code",
   "execution_count": 158,
   "metadata": {
    "ExecuteTime": {
     "end_time": "2022-05-21T23:17:30.098381Z",
     "start_time": "2022-05-21T23:17:29.541Z"
    }
   },
   "outputs": [
    {
     "name": "stderr",
     "output_type": "stream",
     "text": [
      "All mutation types: MUT, DEL.\n",
      "\n",
      "`alter_fun` is assumed vectorizable. If it does not generate correct\n",
      "plot, please set `alter_fun_is_vectorized = FALSE` in `oncoPrint()`.\n",
      "\n"
     ]
    },
    {
     "data": {
      "image/png": "[encoded data removed]",
      "text/plain": [
       "plot without title"
      ]
     },
     "metadata": {
      "image/png": {
       "height": 480,
       "width": 480
      }
     },
     "output_type": "display_data"
    }
   ],
   "source": [
    "# Batch corrected tissue\n",
    "ha = HeatmapAnnotation(df = ha_df %>% dplyr::select(-Viability), \n",
    "                   col = col_list,\n",
    "                   annotation_height=0.01\n",
    "                       )\n",
    "\n",
    "ha2 = HeatmapAnnotation( \n",
    "    df = ha_df %>% dplyr::select(-`Tang, et al. subtype`, -`AR status`), \n",
    "                       col = col_list,\n",
    "                       annotation_height=0.01,\n",
    "    `AR log2(FC)` = anno_barplot(as.data.frame(df5) %>% dplyr::select(AR), bar_width = 1, \n",
    "                                       gp = gpar(col = NA, fill = \"royalblue1\"), border = FALSE, axis = TRUE),\n",
    "    `VIM log2(FC)` = anno_barplot(as.data.frame(df5) %>% dplyr::select(VIM), bar_width = 1, \n",
    "                                        gp = gpar(col = NA, fill = \"darkgoldenrod1\"), border = FALSE, axis = TRUE),\n",
    "    height = unit(3, \"cm\")\n",
    "                      )\n",
    "\n",
    "ht1 = oncoPrint( mut_mat3 , get_type = function(x) strsplit(x, \"/\")[[1]],\n",
    "    alter_fun = alter_fun, col = col, \n",
    "    #column_title = \"Genotype\",\n",
    "    top_annotation = NULL,\n",
    "    bottom_annotation = ha,\n",
    "    right_annotation = NULL, \n",
    "    column_order = 1:ncol(mut_mat2),\n",
    "    column_split = df5$`Tang, et al. subtype`,\n",
    "    show_column_names = T,\n",
    "    show_pct = F,\n",
    "    height = unit(2, \"cm\"),\n",
    "    heatmap_legend_param = list(title = \"Alterations\", at = names(col), \n",
    "        labels = col_desc))\n",
    "\n",
    "ht2 = Heatmap(t(sig_mat), name = \"Z-scored expression\", \n",
    "              col=  colorRamp2(c(0, 0.5, 1), c(\"blue\", \"yellow\", \"red\")),\n",
    "              cluster_rows = FALSE, cluster_columns = FALSE,\n",
    "              top_annotation = NULL, \n",
    "              bottom_annotation = ha2,\n",
    "              height = unit(4, \"cm\"), \n",
    "    show_heatmap_legend = T) #\n",
    "\n",
    "ht1 %v% ht2\n"
   ]
  },
  {
   "cell_type": "code",
   "execution_count": 159,
   "metadata": {
    "ExecuteTime": {
     "end_time": "2022-05-21T23:19:01.884660Z",
     "start_time": "2022-05-21T23:19:01.756Z"
    }
   },
   "outputs": [],
   "source": [
    "fig_dir = '/home/chanj3/data/SCPC_transformation.human_organoid.resubmission.010122/out.human_organoid.resubmission/figures/'"
   ]
  },
  {
   "cell_type": "code",
   "execution_count": 161,
   "metadata": {
    "ExecuteTime": {
     "end_time": "2022-05-21T23:20:21.767001Z",
     "start_time": "2022-05-21T23:20:21.282Z"
    }
   },
   "outputs": [],
   "source": [
    "cairo_pdf(file = paste0(fig_dir,'human_organoid.attribute_matrix.gene_signatures.tissue_corrected.updated.060122.pdf'), width = 8, height = 7)\n",
    "\n",
    "ht1 %v% ht2\n",
    "\n",
    "while (!is.null(dev.list()))  dev.off()\n"
   ]
  }
 ],
 "metadata": {
  "kernelspec": {
   "display_name": "R",
   "language": "R",
   "name": "ir"
  },
  "language_info": {
   "codemirror_mode": "r",
   "file_extension": ".r",
   "mimetype": "text/x-r-source",
   "name": "R",
   "pygments_lexer": "r",
   "version": "4.0.3"
  },
  "toc": {
   "base_numbering": 1,
   "nav_menu": {},
   "number_sections": true,
   "sideBar": true,
   "skip_h1_title": false,
   "title_cell": "Table of Contents",
   "title_sidebar": "Contents",
   "toc_cell": false,
   "toc_position": {},
   "toc_section_display": true,
   "toc_window_display": false
  }
 },
 "nbformat": 4,
 "nbformat_minor": 4
}
